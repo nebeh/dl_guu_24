{
 "cells": [
  {
   "cell_type": "markdown",
   "metadata": {
    "id": "J74O-qdJYJ80"
   },
   "source": [
    "<h3 style=\"text-align: center;\"><b>Установка</b></h3>"
   ]
  },
  {
   "cell_type": "markdown",
   "metadata": {
    "id": "WpXxZ4-4YJ83"
   },
   "source": [
    "Подробную инструкцию по установке PyTorch вы можете найти на [официальном сайте PyTorch](https://pytorch.org/)."
   ]
  },
  {
   "cell_type": "markdown",
   "metadata": {
    "id": "uxdjjnqIYJ86"
   },
   "source": [
    "## Синтаксис Фреймворка"
   ]
  },
  {
   "cell_type": "code",
   "execution_count": 1,
   "metadata": {
    "id": "RtyozNmmYJ89"
   },
   "outputs": [
    {
     "name": "stderr",
     "output_type": "stream",
     "text": [
      "/usr/local/lib/python3.8/dist-packages/tqdm/auto.py:22: TqdmWarning: IProgress not found. Please update jupyter and ipywidgets. See https://ipywidgets.readthedocs.io/en/stable/user_install.html\n",
      "  from .autonotebook import tqdm as notebook_tqdm\n"
     ]
    }
   ],
   "source": [
    "import torch"
   ]
  },
  {
   "cell_type": "code",
   "execution_count": 2,
   "metadata": {},
   "outputs": [
    {
     "data": {
      "text/plain": [
       "'1.14.0a0+410ce96'"
      ]
     },
     "execution_count": 2,
     "metadata": {},
     "output_type": "execute_result"
    }
   ],
   "source": [
    "torch.__version__"
   ]
  },
  {
   "cell_type": "markdown",
   "metadata": {
    "id": "zjfLQzEPYJ9B"
   },
   "source": [
    "Несколько фактов о PyTorch:\n",
    "- динамический граф вычислений\n",
    "- удобные модули `torch.nn` и `torchvision` для быстрого прототипирования нейронных сетей\n",
    "- даже быстрее, чем TensorFlow на некоторых задачах\n",
    "- позволяет легко использовать **GPU**"
   ]
  },
  {
   "cell_type": "markdown",
   "metadata": {
    "id": "44AAEPIpu8Mq"
   },
   "source": [
    "По своей сути PyTorch предоставляет две основные функции:\n",
    "\n",
    "- n-мерный тензор, похожий на **numpy**, но может работать на графических процессорах\n",
    "- Автоматическая дифференциация для построения и обучения нейронных сетей"
   ]
  },
  {
   "cell_type": "markdown",
   "metadata": {
    "id": "0AL-T8TMYJ9D"
   },
   "source": [
    "Если бы PyTorch был формулой, она была бы такой:\n",
    "\n",
    "$$PyTorch = NumPy + CUDA + Autograd$$"
   ]
  },
  {
   "cell_type": "markdown",
   "metadata": {
    "id": "X_O59VXWYJ9E"
   },
   "source": [
    "(CUDA - [wiki](https://en.wikipedia.org/wiki/CUDA))"
   ]
  },
  {
   "cell_type": "markdown",
   "metadata": {
    "id": "lWIeTFxSYJ9F"
   },
   "source": [
    "Давайте посмотрим, как мы можем использовать PyTorch для работы с векторами и тензорами.\n",
    "\n",
    "Напомним, что **тензор** - это многомерный вектор, например :\n",
    "\n",
    "`x = np.array ([1,2,3])` - вектор = тензор с 1 размерностью (точнее: `(3,)`)\n",
    "\n",
    "`y = np.array ([[1, 2, 3], [4, 5, 6]])` - матрица = тензор с двумя измерениями (`(2, 3)` в данном случае)\n",
    "\n",
    "`z = np.array ([[[1, 2, 3], [4, 5, 6], [7, 8, 9]]],\n",
    "               [[1, 2, 3], [4, 5, 6], [7, 8, 9]],\n",
    "               [[1, 2, 3], [4, 5, 6], [7, 8, 9]]]) `-\" куб \"(3, 3, 3) = тензор с тремя измерениями (` ( 3, 3, 3) `в этом случае)\n"
   ]
  },
  {
   "cell_type": "markdown",
   "metadata": {
    "id": "hS97vo7mYJ9G"
   },
   "source": [
    "Одним из реальных примеров трехмерного тензора является **изображение**, оно имеет 3 измерения: `высота`, `ширина` и `глубина канала` (глубина канала = 3 для цветных изображений, 1 для оттенков серого). Вы можете думать об этом как о параллелепипеде, состоящем из действительных чисел.\n"
   ]
  },
  {
   "cell_type": "markdown",
   "metadata": {
    "id": "byu7xZtLYJ9J"
   },
   "source": [
    "### Типы Тензоров"
   ]
  },
  {
   "cell_type": "markdown",
   "metadata": {
    "id": "tEeGGtRiYJ9H"
   },
   "source": [
    "В PyTorch мы будем использовать `torch.Tensor` (`FloatTensor`, `IntTensor`, `ByteTensor`) для всех вычислений.\n",
    "\n",
    "Все типы:"
   ]
  },
  {
   "cell_type": "code",
   "execution_count": 3,
   "metadata": {
    "colab": {
     "base_uri": "https://localhost:8080/"
    },
    "id": "zilSktmEGgAv",
    "outputId": "07dd7d1e-e151-4ee0-eccd-618ebb747fe1"
   },
   "outputs": [
    {
     "data": {
      "text/plain": [
       "torch.ByteTensor"
      ]
     },
     "execution_count": 3,
     "metadata": {},
     "output_type": "execute_result"
    }
   ],
   "source": [
    "torch.HalfTensor      # 16 бит, floating point\n",
    "torch.FloatTensor     # 32 бита, floating point\n",
    "torch.DoubleTensor    # 64 бита, floating point\n",
    "\n",
    "torch.ShortTensor     # 16 бит, integer\n",
    "torch.IntTensor       # 32 бита, integer\n",
    "torch.LongTensor      # 64 бита, integer\n",
    "\n",
    "torch.CharTensor      # 8 бит, integer\n",
    "torch.ByteTensor      # 8 бит, integer"
   ]
  },
  {
   "cell_type": "markdown",
   "metadata": {
    "id": "NWk2gidNYJ9P"
   },
   "source": [
    "Мы будем использовать только `torch.FloatTensor()` и `torch.IntTensor()`."
   ]
  },
  {
   "cell_type": "markdown",
   "metadata": {
    "id": "R4HEetsxYJ9Q"
   },
   "source": [
    "### Создание тензора"
   ]
  },
  {
   "cell_type": "code",
   "execution_count": 4,
   "metadata": {
    "colab": {
     "base_uri": "https://localhost:8080/"
    },
    "id": "MVawE9lRYJ9R",
    "outputId": "abbf6a24-fff3-426d-8dfe-1190e4d568d5"
   },
   "outputs": [
    {
     "data": {
      "text/plain": [
       "tensor([1., 2.])"
      ]
     },
     "execution_count": 4,
     "metadata": {},
     "output_type": "execute_result"
    }
   ],
   "source": [
    "a = torch.FloatTensor([1, 2])\n",
    "a"
   ]
  },
  {
   "cell_type": "code",
   "execution_count": 5,
   "metadata": {
    "colab": {
     "base_uri": "https://localhost:8080/"
    },
    "id": "ARjaPS_GYJ9W",
    "outputId": "ebdd325d-7bad-4724-c82e-67783414abb0"
   },
   "outputs": [
    {
     "data": {
      "text/plain": [
       "torch.Size([2])"
      ]
     },
     "execution_count": 5,
     "metadata": {},
     "output_type": "execute_result"
    }
   ],
   "source": [
    "a.shape"
   ]
  },
  {
   "cell_type": "code",
   "execution_count": 6,
   "metadata": {
    "colab": {
     "base_uri": "https://localhost:8080/"
    },
    "id": "4gXf0akDYJ9Z",
    "outputId": "c7adfe61-c340-4e3c-83d5-032a07a3d404"
   },
   "outputs": [
    {
     "data": {
      "text/plain": [
       "tensor([[1., 2., 3.],\n",
       "        [4., 5., 6.]])"
      ]
     },
     "execution_count": 6,
     "metadata": {},
     "output_type": "execute_result"
    }
   ],
   "source": [
    "b = torch.FloatTensor([[1,2,3], [4,5,6]])\n",
    "b"
   ]
  },
  {
   "cell_type": "code",
   "execution_count": 7,
   "metadata": {
    "colab": {
     "base_uri": "https://localhost:8080/"
    },
    "id": "0HTkoIzpYJ9e",
    "outputId": "5ac34d30-bf04-4839-8858-53074d509450"
   },
   "outputs": [
    {
     "data": {
      "text/plain": [
       "torch.Size([2, 3])"
      ]
     },
     "execution_count": 7,
     "metadata": {},
     "output_type": "execute_result"
    }
   ],
   "source": [
    "b.shape"
   ]
  },
  {
   "cell_type": "code",
   "execution_count": 8,
   "metadata": {
    "id": "WYJ9L-yFYJ9j"
   },
   "outputs": [],
   "source": [
    "x = torch.FloatTensor(2,3,4)"
   ]
  },
  {
   "cell_type": "code",
   "execution_count": 9,
   "metadata": {
    "colab": {
     "base_uri": "https://localhost:8080/"
    },
    "id": "qWAEP27IYJ9m",
    "outputId": "f20995ad-4a57-4b02-e362-2b3104271f37"
   },
   "outputs": [
    {
     "data": {
      "text/plain": [
       "tensor([[[0.0000e+00, 0.0000e+00, 1.8788e+31, 1.7220e+22],\n",
       "         [2.1715e-18, 1.3108e-08, 2.6407e-06, 1.3401e-08],\n",
       "         [2.7329e-06, 1.3109e-08, 8.3388e-10, 2.1439e-07]],\n",
       "\n",
       "        [[5.2942e-08, 4.2289e-05, 1.6985e-07, 2.1707e-18],\n",
       "         [1.6678e+19, 7.0976e+22, 2.1715e-18, 4.2330e+21],\n",
       "         [1.6534e+19, 1.1625e+27, 1.4580e-19, 7.1856e+22]]])"
      ]
     },
     "execution_count": 9,
     "metadata": {},
     "output_type": "execute_result"
    }
   ],
   "source": [
    "x"
   ]
  },
  {
   "cell_type": "code",
   "execution_count": 10,
   "metadata": {
    "colab": {
     "base_uri": "https://localhost:8080/"
    },
    "id": "o5CsOJ_xYJ9s",
    "outputId": "ca4147d0-1cd0-4ada-cef3-76770e887dc0",
    "scrolled": true
   },
   "outputs": [
    {
     "data": {
      "text/plain": [
       "tensor([ 4.5447e+30,  3.0750e+29,  1.9284e+31,  1.8891e+31,  8.3195e+35,\n",
       "         2.1708e-18,  1.2059e+27,  3.0951e-18,  9.8686e+17,  1.7516e-43,\n",
       "         5.6192e-43,  0.0000e+00,  2.2317e-11,  4.5600e-41,  2.2317e-11,\n",
       "         4.5600e-41,  1.4013e-45,  0.0000e+00,  0.0000e+00,  0.0000e+00,\n",
       "         0.0000e+00,  0.0000e+00,  4.9466e-43,  0.0000e+00,  1.8450e-34,\n",
       "         0.0000e+00,  1.8470e-34,  0.0000e+00,  1.4013e-45,  0.0000e+00,\n",
       "         6.6408e-35,  0.0000e+00,  1.8465e-34,  0.0000e+00,  0.0000e+00,\n",
       "         0.0000e+00,  2.6364e-37,  0.0000e+00,  2.0290e-35,  0.0000e+00,\n",
       "        -2.2065e-14,  4.5597e-41,  0.0000e+00,  0.0000e+00,  0.0000e+00,\n",
       "         0.0000e+00,  0.0000e+00,  0.0000e+00,  0.0000e+00,  0.0000e+00,\n",
       "         0.0000e+00,  0.0000e+00,  0.0000e+00,  0.0000e+00,  1.4013e-45,\n",
       "         0.0000e+00,  0.0000e+00,  0.0000e+00,  0.0000e+00,  0.0000e+00,\n",
       "         0.0000e+00,  0.0000e+00,  0.0000e+00,  0.0000e+00,  9.8091e-45,\n",
       "         0.0000e+00,  1.4013e-45,  0.0000e+00,  9.1844e-41, -1.1551e-40,\n",
       "         2.2960e-41,  4.1478e-43,  0.0000e+00,  0.0000e+00,  2.0319e-43,\n",
       "         0.0000e+00,  2.2317e-11,  4.5600e-41,  2.2317e-11,  4.5600e-41,\n",
       "         0.0000e+00,  0.0000e+00,  3.6013e-43,  0.0000e+00,  1.8450e-34,\n",
       "         0.0000e+00,  0.0000e+00,  0.0000e+00, -3.7965e-14,  4.5597e-41,\n",
       "         0.0000e+00,  0.0000e+00,  3.6229e+08,  4.5912e-41,  0.0000e+00,\n",
       "         0.0000e+00,  0.0000e+00,  0.0000e+00,  1.4013e-45,  0.0000e+00])"
      ]
     },
     "execution_count": 10,
     "metadata": {},
     "output_type": "execute_result"
    }
   ],
   "source": [
    "x = torch.FloatTensor(100)\n",
    "x"
   ]
  },
  {
   "cell_type": "code",
   "execution_count": 11,
   "metadata": {
    "colab": {
     "base_uri": "https://localhost:8080/"
    },
    "id": "uIVhvmzZYJ91",
    "outputId": "68747815-c3b2-4328-ca38-ce32b7321f0b"
   },
   "outputs": [
    {
     "data": {
      "text/plain": [
       "torch.Size([45, 57, 14, 2])"
      ]
     },
     "execution_count": 11,
     "metadata": {},
     "output_type": "execute_result"
    }
   ],
   "source": [
    "x = torch.IntTensor(45, 57, 14, 2)\n",
    "x.shape"
   ]
  },
  {
   "cell_type": "markdown",
   "metadata": {
    "id": "cUzl8DFRYJ95"
   },
   "source": [
    "**Примечание:** если вы создаете `torch.Tensor` с помощью следующего конструктора, он будет заполнен мусором из \"случайных номеров\":"
   ]
  },
  {
   "cell_type": "code",
   "execution_count": 12,
   "metadata": {
    "colab": {
     "base_uri": "https://localhost:8080/"
    },
    "id": "QX0QcIOzYJ96",
    "outputId": "396c0956-a2f3-4d76-a697-5837aaa7385b"
   },
   "outputs": [
    {
     "data": {
      "text/plain": [
       "tensor([[[125117872,         0,     65793,  16843009],\n",
       "         [        1,     65536,     65537,     65537]],\n",
       "\n",
       "        [[        1,     65537,       257,         0],\n",
       "         [        0,     65536,         0,         0]],\n",
       "\n",
       "        [[    65537,  16843009,     65536,  16843009],\n",
       "         [    65536,         1,       257,       257]]], dtype=torch.int32)"
      ]
     },
     "execution_count": 12,
     "metadata": {},
     "output_type": "execute_result"
    }
   ],
   "source": [
    "x = torch.IntTensor(3, 2, 4)\n",
    "x"
   ]
  },
  {
   "cell_type": "markdown",
   "metadata": {
    "id": "utra2t4SbdQR"
   },
   "source": [
    "### Инициализации тензоров"
   ]
  },
  {
   "cell_type": "code",
   "execution_count": 13,
   "metadata": {
    "id": "XV3w9lVwYJ-A"
   },
   "outputs": [],
   "source": [
    "x1 = torch.FloatTensor(3, 2, 4)\n",
    "x1.zero_()\n",
    "x2 = torch.zeros(3, 2, 4)\n",
    "x3 = torch.zeros_like(x1)\n",
    "\n",
    "assert torch.allclose(x1, x2) and torch.allclose(x1, x3)"
   ]
  },
  {
   "cell_type": "markdown",
   "metadata": {
    "id": "G3el1HwZd9wJ"
   },
   "source": [
    "Инициализация случайного распределения"
   ]
  },
  {
   "cell_type": "code",
   "execution_count": 14,
   "metadata": {
    "colab": {
     "base_uri": "https://localhost:8080/"
    },
    "id": "-ahnCFMXe_9I",
    "outputId": "e2882741-a8c3-451e-ed56-b8b1a64c14dc"
   },
   "outputs": [
    {
     "data": {
      "text/plain": [
       "tensor([[-1.1684, -2.6272,  0.3023],\n",
       "        [ 0.2375, -0.1718,  0.2312]])"
      ]
     },
     "execution_count": 14,
     "metadata": {},
     "output_type": "execute_result"
    }
   ],
   "source": [
    "x = torch.randn((2,3))                # Normal(0, 1) с размером (2, 3)\n",
    "x"
   ]
  },
  {
   "cell_type": "code",
   "execution_count": 15,
   "metadata": {
    "colab": {
     "base_uri": "https://localhost:8080/"
    },
    "id": "FhIy_yuRd9Kf",
    "outputId": "2f6e8b9f-1495-4b61-89f4-cd490c69aed3"
   },
   "outputs": [
    {
     "data": {
      "text/plain": [
       "tensor([[0., 1., 1.],\n",
       "        [0., 0., 0.]])"
      ]
     },
     "execution_count": 15,
     "metadata": {},
     "output_type": "execute_result"
    }
   ],
   "source": [
    "x.random_(0, 10)                      # Дискретное равномерное U[0, 10]\n",
    "x.uniform_(0, 1)                      # Равномерное U[0, 1]\n",
    "x.normal_(mean=0, std=1)              # Нормальное со средним 0 и дисперсией 1\n",
    "x.bernoulli_(p=0.5)                   # Бернулли с параметром p"
   ]
  },
  {
   "cell_type": "markdown",
   "metadata": {
    "id": "bzq1klQuzXA9"
   },
   "source": [
    "## Функции в Torch\n",
    "\n",
    "У всех функций Numpy есть своя пара в Torch! Осталось теперь вспомнить numpy 🙂\n",
    "\n",
    "https://github.com/torch/torch7/wiki/Torch-for-Numpy-users"
   ]
  },
  {
   "cell_type": "markdown",
   "metadata": {
    "id": "SAAmLRwzYJ-E"
   },
   "source": [
    "### Изменение формы\n",
    "`np.reshape()` == `torch.view()`:"
   ]
  },
  {
   "cell_type": "code",
   "execution_count": 16,
   "metadata": {
    "colab": {
     "base_uri": "https://localhost:8080/"
    },
    "id": "LLOoLEMDl8Cl",
    "outputId": "65407c26-eb29-4093-8870-f302a99b55bd"
   },
   "outputs": [
    {
     "data": {
      "text/plain": [
       "tensor([[1., 2., 3.],\n",
       "        [4., 5., 6.]])"
      ]
     },
     "execution_count": 16,
     "metadata": {},
     "output_type": "execute_result"
    }
   ],
   "source": [
    "b"
   ]
  },
  {
   "cell_type": "code",
   "execution_count": 17,
   "metadata": {
    "colab": {
     "base_uri": "https://localhost:8080/"
    },
    "id": "vLu6QvQihvGA",
    "outputId": "d959eab5-f80d-406f-abfb-1cf727c4551f"
   },
   "outputs": [
    {
     "data": {
      "text/plain": [
       "torch.Size([3, 2])"
      ]
     },
     "execution_count": 17,
     "metadata": {},
     "output_type": "execute_result"
    }
   ],
   "source": [
    "b.view(3, 2).shape"
   ]
  },
  {
   "cell_type": "code",
   "execution_count": 18,
   "metadata": {
    "colab": {
     "base_uri": "https://localhost:8080/"
    },
    "id": "BAET_xQhl_2f",
    "outputId": "2443fbf1-7707-41fe-9ddf-a6426bb35eeb"
   },
   "outputs": [
    {
     "data": {
      "text/plain": [
       "tensor([[1., 2.],\n",
       "        [3., 4.],\n",
       "        [5., 6.]])"
      ]
     },
     "execution_count": 18,
     "metadata": {},
     "output_type": "execute_result"
    }
   ],
   "source": [
    "b.view(3, 2)"
   ]
  },
  {
   "cell_type": "code",
   "execution_count": 19,
   "metadata": {
    "colab": {
     "base_uri": "https://localhost:8080/"
    },
    "id": "GiCYeiIL5MOo",
    "outputId": "ea7e7574-d733-4677-b7e4-bcca9534de45"
   },
   "outputs": [
    {
     "data": {
      "text/plain": [
       "tensor([1., 2., 3., 4., 5., 6.])"
      ]
     },
     "execution_count": 19,
     "metadata": {},
     "output_type": "execute_result"
    }
   ],
   "source": [
    "b.view(-1)"
   ]
  },
  {
   "cell_type": "code",
   "execution_count": 20,
   "metadata": {
    "colab": {
     "base_uri": "https://localhost:8080/"
    },
    "id": "nq5ut7sv5Omc",
    "outputId": "b03af7a3-3daf-44e1-f07f-fd2ce8da50d9"
   },
   "outputs": [
    {
     "data": {
      "text/plain": [
       "tensor([[1., 2., 3.],\n",
       "        [4., 5., 6.]])"
      ]
     },
     "execution_count": 20,
     "metadata": {},
     "output_type": "execute_result"
    }
   ],
   "source": [
    "b.view(2, 3)"
   ]
  },
  {
   "cell_type": "markdown",
   "metadata": {
    "id": "amVu0N1zYJ-O"
   },
   "source": [
    "**Примечание:** `torch.view ()` создает новый тензор, но старый остается неизменным"
   ]
  },
  {
   "cell_type": "markdown",
   "metadata": {
    "id": "t401j1E2YJ-Z"
   },
   "source": [
    "### Изменение типа тензора"
   ]
  },
  {
   "cell_type": "code",
   "execution_count": 21,
   "metadata": {
    "id": "f_iDUEH4YJ-Z"
   },
   "outputs": [],
   "source": [
    "a = torch.FloatTensor([1.5, 3.2, -7])"
   ]
  },
  {
   "cell_type": "code",
   "execution_count": 22,
   "metadata": {
    "colab": {
     "base_uri": "https://localhost:8080/"
    },
    "id": "EzJOrXitYJ-e",
    "outputId": "dd112a82-f363-4831-bf1f-eb612b320804"
   },
   "outputs": [
    {
     "data": {
      "text/plain": [
       "tensor([ 1,  3, -7], dtype=torch.int32)"
      ]
     },
     "execution_count": 22,
     "metadata": {},
     "output_type": "execute_result"
    }
   ],
   "source": [
    "a.type_as(torch.IntTensor())"
   ]
  },
  {
   "cell_type": "code",
   "execution_count": 23,
   "metadata": {
    "colab": {
     "base_uri": "https://localhost:8080/"
    },
    "id": "5LrO73QgJuGb",
    "outputId": "6b3efcd1-9a4f-4cda-ba6f-99eaaac9e1d4"
   },
   "outputs": [
    {
     "data": {
      "text/plain": [
       "tensor([ 1,  3, -7], dtype=torch.int32)"
      ]
     },
     "execution_count": 23,
     "metadata": {},
     "output_type": "execute_result"
    }
   ],
   "source": [
    "a.to(torch.int32)"
   ]
  },
  {
   "cell_type": "code",
   "execution_count": 24,
   "metadata": {
    "colab": {
     "base_uri": "https://localhost:8080/"
    },
    "id": "hAe3OWWUYJ-i",
    "outputId": "86aa0aae-8043-4eeb-a9b7-7c43c5a3aa17"
   },
   "outputs": [
    {
     "data": {
      "text/plain": [
       "tensor([  1,   3, 249], dtype=torch.uint8)"
      ]
     },
     "execution_count": 24,
     "metadata": {},
     "output_type": "execute_result"
    }
   ],
   "source": [
    "a.type_as(torch.ByteTensor())"
   ]
  },
  {
   "cell_type": "code",
   "execution_count": 25,
   "metadata": {
    "colab": {
     "base_uri": "https://localhost:8080/"
    },
    "id": "6rOGMU_xJ450",
    "outputId": "1f24d1ed-4caa-41d4-d35b-81f865fd7f64"
   },
   "outputs": [
    {
     "data": {
      "text/plain": [
       "tensor([  1,   3, 249], dtype=torch.uint8)"
      ]
     },
     "execution_count": 25,
     "metadata": {},
     "output_type": "execute_result"
    }
   ],
   "source": [
    "a.to(torch.uint8)"
   ]
  },
  {
   "cell_type": "code",
   "execution_count": 26,
   "metadata": {
    "colab": {
     "base_uri": "https://localhost:8080/"
    },
    "id": "fCgDT14MYJ-o",
    "outputId": "b0bb7f6e-b2a1-4e08-cdc7-308f64106e11"
   },
   "outputs": [
    {
     "data": {
      "text/plain": [
       "tensor([ 1.5000,  3.2000, -7.0000])"
      ]
     },
     "execution_count": 26,
     "metadata": {},
     "output_type": "execute_result"
    }
   ],
   "source": [
    "a"
   ]
  },
  {
   "cell_type": "markdown",
   "metadata": {
    "id": "hG1OwtFBYJ-r"
   },
   "source": [
    "* Indexing is just like in `NumPy`:"
   ]
  },
  {
   "cell_type": "code",
   "execution_count": 27,
   "metadata": {
    "colab": {
     "base_uri": "https://localhost:8080/"
    },
    "id": "prr0EGIYYJ-r",
    "outputId": "f2fdb1bf-991a-4551-e332-66a6a2f38924"
   },
   "outputs": [
    {
     "data": {
      "text/plain": [
       "tensor([[100.,  20.,  35.],\n",
       "        [ 15., 163., 534.],\n",
       "        [ 52.,  90.,  66.]])"
      ]
     },
     "execution_count": 27,
     "metadata": {},
     "output_type": "execute_result"
    }
   ],
   "source": [
    "a = torch.FloatTensor([[100, 20, 35], [15, 163, 534], [52, 90, 66]])\n",
    "a"
   ]
  },
  {
   "cell_type": "code",
   "execution_count": 28,
   "metadata": {
    "colab": {
     "base_uri": "https://localhost:8080/"
    },
    "id": "IBq7JiccYJ-w",
    "outputId": "9fc31169-f3a5-439a-cd3b-3fca1ec0ecbb"
   },
   "outputs": [
    {
     "data": {
      "text/plain": [
       "tensor(100.)"
      ]
     },
     "execution_count": 28,
     "metadata": {},
     "output_type": "execute_result"
    }
   ],
   "source": [
    "a[0, 0]"
   ]
  },
  {
   "cell_type": "code",
   "execution_count": 29,
   "metadata": {
    "colab": {
     "base_uri": "https://localhost:8080/"
    },
    "id": "UUZzx2F_YJ-2",
    "outputId": "7031bbca-c5f6-4fae-a3e3-79294dc7ac50"
   },
   "outputs": [
    {
     "data": {
      "text/plain": [
       "tensor([ 20., 163.])"
      ]
     },
     "execution_count": 29,
     "metadata": {},
     "output_type": "execute_result"
    }
   ],
   "source": [
    "a[0:2, 1]"
   ]
  },
  {
   "cell_type": "markdown",
   "metadata": {
    "id": "KffQsYwWYJ_D"
   },
   "source": [
    "### Арифметические операции\n",
    "\n",
    "| операция | аналоги |\n",
    "|:-:|:-:|\n",
    "|`+`| `torch.add()` |\n",
    "|`-`| `torch.sub()` |\n",
    "|`*`| `torch.mul()` |\n",
    "|`/`| `torch.div()` |"
   ]
  },
  {
   "cell_type": "markdown",
   "metadata": {
    "id": "UMpR8T11YJ_D"
   },
   "source": [
    "#### Сложение"
   ]
  },
  {
   "cell_type": "code",
   "execution_count": 30,
   "metadata": {
    "id": "1XHkSjEUYJ_D"
   },
   "outputs": [],
   "source": [
    "a = torch.FloatTensor([[1, 2, 3], [10, 20, 30], [100, 200, 300]])\n",
    "b = torch.FloatTensor([[-1, -2, -3], [-10, -20, -30], [100, 200, 300]])"
   ]
  },
  {
   "cell_type": "code",
   "execution_count": 31,
   "metadata": {
    "colab": {
     "base_uri": "https://localhost:8080/"
    },
    "id": "td25tuFKYJ_H",
    "outputId": "9b8e5e37-9299-49bb-ee6a-d5b745de562a"
   },
   "outputs": [
    {
     "data": {
      "text/plain": [
       "tensor([[  0.,   0.,   0.],\n",
       "        [  0.,   0.,   0.],\n",
       "        [200., 400., 600.]])"
      ]
     },
     "execution_count": 31,
     "metadata": {},
     "output_type": "execute_result"
    }
   ],
   "source": [
    "a + b"
   ]
  },
  {
   "cell_type": "code",
   "execution_count": 32,
   "metadata": {
    "colab": {
     "base_uri": "https://localhost:8080/"
    },
    "id": "wHka8PxFYJ_N",
    "outputId": "27807738-52e8-4288-8afd-88eb1fe73aa6"
   },
   "outputs": [
    {
     "data": {
      "text/plain": [
       "tensor([[  0.,   0.,   0.],\n",
       "        [  0.,   0.,   0.],\n",
       "        [200., 400., 600.]])"
      ]
     },
     "execution_count": 32,
     "metadata": {},
     "output_type": "execute_result"
    }
   ],
   "source": [
    "a.add(b)"
   ]
  },
  {
   "cell_type": "code",
   "execution_count": 33,
   "metadata": {
    "colab": {
     "base_uri": "https://localhost:8080/"
    },
    "id": "FHQj4DbBYJ_Q",
    "outputId": "b9a55846-c02b-4f54-97bc-c79162846f94"
   },
   "outputs": [
    {
     "data": {
      "text/plain": [
       "tensor([[  -1.,   -2.,   -3.],\n",
       "        [ -10.,  -20.,  -30.],\n",
       "        [-100., -200., -300.]])"
      ]
     },
     "execution_count": 33,
     "metadata": {},
     "output_type": "execute_result"
    }
   ],
   "source": [
    "b = -a\n",
    "b"
   ]
  },
  {
   "cell_type": "code",
   "execution_count": 34,
   "metadata": {
    "colab": {
     "base_uri": "https://localhost:8080/"
    },
    "id": "xLCDzO7iYJ_V",
    "outputId": "67caf58e-39b4-467c-c977-14f09c200ed0"
   },
   "outputs": [
    {
     "data": {
      "text/plain": [
       "tensor([[0., 0., 0.],\n",
       "        [0., 0., 0.],\n",
       "        [0., 0., 0.]])"
      ]
     },
     "execution_count": 34,
     "metadata": {},
     "output_type": "execute_result"
    }
   ],
   "source": [
    "a + b"
   ]
  },
  {
   "cell_type": "markdown",
   "metadata": {
    "id": "z_3gVLY3YJ_Z"
   },
   "source": [
    "#### Вычитание"
   ]
  },
  {
   "cell_type": "code",
   "execution_count": 35,
   "metadata": {
    "colab": {
     "base_uri": "https://localhost:8080/"
    },
    "id": "5Bq80gnf62NP",
    "outputId": "1763b49b-180d-495f-f9d0-0557f1405a5a"
   },
   "outputs": [
    {
     "data": {
      "text/plain": [
       "tensor([[  1.,   2.,   3.],\n",
       "        [ 10.,  20.,  30.],\n",
       "        [100., 200., 300.]])"
      ]
     },
     "execution_count": 35,
     "metadata": {},
     "output_type": "execute_result"
    }
   ],
   "source": [
    "a"
   ]
  },
  {
   "cell_type": "code",
   "execution_count": 36,
   "metadata": {
    "colab": {
     "base_uri": "https://localhost:8080/"
    },
    "id": "PANHq3eFYJ_a",
    "outputId": "2175cc97-e7ac-415f-d22c-fbfb277829d0"
   },
   "outputs": [
    {
     "data": {
      "text/plain": [
       "tensor([[  2.,   4.,   6.],\n",
       "        [ 20.,  40.,  60.],\n",
       "        [200., 400., 600.]])"
      ]
     },
     "execution_count": 36,
     "metadata": {},
     "output_type": "execute_result"
    }
   ],
   "source": [
    "a - b"
   ]
  },
  {
   "cell_type": "code",
   "execution_count": 37,
   "metadata": {
    "colab": {
     "base_uri": "https://localhost:8080/"
    },
    "id": "kD0Tzkcv65Dj",
    "outputId": "6fab1d23-0830-466b-f64e-5db4a66110b2"
   },
   "outputs": [
    {
     "data": {
      "text/plain": [
       "tensor([[  1.,   2.,   3.],\n",
       "        [ 10.,  20.,  30.],\n",
       "        [100., 200., 300.]])"
      ]
     },
     "execution_count": 37,
     "metadata": {},
     "output_type": "execute_result"
    }
   ],
   "source": [
    "a"
   ]
  },
  {
   "cell_type": "code",
   "execution_count": 38,
   "metadata": {
    "colab": {
     "base_uri": "https://localhost:8080/"
    },
    "id": "AH7xhdkRYJ_i",
    "outputId": "9c486342-0279-48ba-b144-b188eb50116a"
   },
   "outputs": [
    {
     "data": {
      "text/plain": [
       "tensor([[  2.,   4.,   6.],\n",
       "        [ 20.,  40.,  60.],\n",
       "        [200., 400., 600.]])"
      ]
     },
     "execution_count": 38,
     "metadata": {},
     "output_type": "execute_result"
    }
   ],
   "source": [
    "a.sub(b) # copy"
   ]
  },
  {
   "cell_type": "code",
   "execution_count": 39,
   "metadata": {
    "colab": {
     "base_uri": "https://localhost:8080/"
    },
    "id": "ysdfsOs566V3",
    "outputId": "b6a0cd0e-8f2b-4237-9850-a0fef3c56603"
   },
   "outputs": [
    {
     "data": {
      "text/plain": [
       "tensor([[  1.,   2.,   3.],\n",
       "        [ 10.,  20.,  30.],\n",
       "        [100., 200., 300.]])"
      ]
     },
     "execution_count": 39,
     "metadata": {},
     "output_type": "execute_result"
    }
   ],
   "source": [
    "a"
   ]
  },
  {
   "cell_type": "code",
   "execution_count": 40,
   "metadata": {
    "colab": {
     "base_uri": "https://localhost:8080/"
    },
    "id": "v-sls6QjK98V",
    "outputId": "a4cbe96f-7d6a-4d8c-92ce-ed4c67b420eb"
   },
   "outputs": [
    {
     "data": {
      "text/plain": [
       "tensor([[  2.,   4.,   6.],\n",
       "        [ 20.,  40.,  60.],\n",
       "        [200., 400., 600.]])"
      ]
     },
     "execution_count": 40,
     "metadata": {},
     "output_type": "execute_result"
    }
   ],
   "source": [
    "a.sub_(b) # inplace"
   ]
  },
  {
   "cell_type": "code",
   "execution_count": 41,
   "metadata": {
    "colab": {
     "base_uri": "https://localhost:8080/"
    },
    "id": "U7GmVCuZ6wpw",
    "outputId": "e209a1c7-0623-40cb-d869-e90604b97f53"
   },
   "outputs": [
    {
     "data": {
      "text/plain": [
       "tensor([[  2.,   4.,   6.],\n",
       "        [ 20.,  40.,  60.],\n",
       "        [200., 400., 600.]])"
      ]
     },
     "execution_count": 41,
     "metadata": {},
     "output_type": "execute_result"
    }
   ],
   "source": [
    "a"
   ]
  },
  {
   "cell_type": "markdown",
   "metadata": {
    "id": "KOX3dTuZYJ_l"
   },
   "source": [
    "#### Умножение (поэлементное)"
   ]
  },
  {
   "cell_type": "code",
   "execution_count": 44,
   "metadata": {},
   "outputs": [],
   "source": [
    "a = torch.tensor([[1, 2], [3, 4]])\n",
    "b = torch.tensor([[5, 6], [7, 8]])"
   ]
  },
  {
   "cell_type": "code",
   "execution_count": 45,
   "metadata": {
    "colab": {
     "base_uri": "https://localhost:8080/"
    },
    "id": "J380CvNGYJ_m",
    "outputId": "b9369ee8-e4c3-4595-aab1-c14ac28288d8"
   },
   "outputs": [
    {
     "data": {
      "text/plain": [
       "tensor([[ 5, 12],\n",
       "        [21, 32]])"
      ]
     },
     "execution_count": 45,
     "metadata": {},
     "output_type": "execute_result"
    }
   ],
   "source": [
    "a * b"
   ]
  },
  {
   "cell_type": "code",
   "execution_count": 46,
   "metadata": {
    "colab": {
     "base_uri": "https://localhost:8080/"
    },
    "id": "cixW0jgdYJ_o",
    "outputId": "4fa570b0-93d7-4784-d840-c219a309ef66"
   },
   "outputs": [
    {
     "data": {
      "text/plain": [
       "tensor([[ 5, 12],\n",
       "        [21, 32]])"
      ]
     },
     "execution_count": 46,
     "metadata": {},
     "output_type": "execute_result"
    }
   ],
   "source": [
    "a.mul(b)"
   ]
  },
  {
   "cell_type": "markdown",
   "metadata": {
    "id": "V-GYTERKYJ_q"
   },
   "source": [
    "#### Деление (поэлементное):"
   ]
  },
  {
   "cell_type": "code",
   "execution_count": 47,
   "metadata": {
    "id": "fUBQns2SYJ_r"
   },
   "outputs": [],
   "source": [
    "a = torch.FloatTensor([[1, 2, 3], [10, 20, 30], [100, 200, 300]])\n",
    "b = torch.FloatTensor([[-1, -2, -3], [-10, -20, -30], [100, 200, 300]])"
   ]
  },
  {
   "cell_type": "code",
   "execution_count": 48,
   "metadata": {
    "colab": {
     "base_uri": "https://localhost:8080/"
    },
    "id": "2hrKeMjAYJ_v",
    "outputId": "750de0da-2840-4038-9e63-dbcb75925ea1"
   },
   "outputs": [
    {
     "data": {
      "text/plain": [
       "tensor([[-1., -1., -1.],\n",
       "        [-1., -1., -1.],\n",
       "        [ 1.,  1.,  1.]])"
      ]
     },
     "execution_count": 48,
     "metadata": {},
     "output_type": "execute_result"
    }
   ],
   "source": [
    "a / b"
   ]
  },
  {
   "cell_type": "code",
   "execution_count": 49,
   "metadata": {
    "colab": {
     "base_uri": "https://localhost:8080/"
    },
    "id": "cpg3YFVPYJ_2",
    "outputId": "a684e5ad-fa3d-47c4-fec5-30f49d239cf9"
   },
   "outputs": [
    {
     "data": {
      "text/plain": [
       "tensor([[-1., -1., -1.],\n",
       "        [-1., -1., -1.],\n",
       "        [ 1.,  1.,  1.]])"
      ]
     },
     "execution_count": 49,
     "metadata": {},
     "output_type": "execute_result"
    }
   ],
   "source": [
    "a.div(b)"
   ]
  },
  {
   "cell_type": "markdown",
   "metadata": {
    "id": "VeLAbx1tYJ_7"
   },
   "source": [
    "**Примечание:** все эти операции создают новые тензоры, старые тензоры остаются неизменными."
   ]
  },
  {
   "cell_type": "code",
   "execution_count": 50,
   "metadata": {
    "colab": {
     "base_uri": "https://localhost:8080/"
    },
    "id": "57BFtnlgYJ_8",
    "outputId": "857e05f7-b740-4725-a82b-449bd4851ef9"
   },
   "outputs": [
    {
     "data": {
      "text/plain": [
       "tensor([[  1.,   2.,   3.],\n",
       "        [ 10.,  20.,  30.],\n",
       "        [100., 200., 300.]])"
      ]
     },
     "execution_count": 50,
     "metadata": {},
     "output_type": "execute_result"
    }
   ],
   "source": [
    "a"
   ]
  },
  {
   "cell_type": "code",
   "execution_count": 51,
   "metadata": {
    "colab": {
     "base_uri": "https://localhost:8080/"
    },
    "id": "UziXyvtDYJ_-",
    "outputId": "9beedcff-eaf9-4a98-9172-4bdc2e159980"
   },
   "outputs": [
    {
     "data": {
      "text/plain": [
       "tensor([[ -1.,  -2.,  -3.],\n",
       "        [-10., -20., -30.],\n",
       "        [100., 200., 300.]])"
      ]
     },
     "execution_count": 51,
     "metadata": {},
     "output_type": "execute_result"
    }
   ],
   "source": [
    "b"
   ]
  },
  {
   "cell_type": "markdown",
   "metadata": {
    "id": "vLpwZPc3YKAC"
   },
   "source": [
    "### Операторы сравнения"
   ]
  },
  {
   "cell_type": "code",
   "execution_count": 52,
   "metadata": {
    "id": "FfRzvw_UYKAC"
   },
   "outputs": [],
   "source": [
    "a = torch.FloatTensor([[1, 2, 3], [10, 20, 30], [100, 200, 300]])\n",
    "b = torch.FloatTensor([[-1, -2, -3], [-10, -20, -30], [100, 200, 300]])"
   ]
  },
  {
   "cell_type": "code",
   "execution_count": 53,
   "metadata": {
    "colab": {
     "base_uri": "https://localhost:8080/"
    },
    "id": "o1RUTP2BYKAD",
    "outputId": "4a611a77-f313-48f6-e293-095eb0f76cdf"
   },
   "outputs": [
    {
     "data": {
      "text/plain": [
       "tensor([[False, False, False],\n",
       "        [False, False, False],\n",
       "        [ True,  True,  True]])"
      ]
     },
     "execution_count": 53,
     "metadata": {},
     "output_type": "execute_result"
    }
   ],
   "source": [
    "a == b"
   ]
  },
  {
   "cell_type": "code",
   "execution_count": 54,
   "metadata": {
    "colab": {
     "base_uri": "https://localhost:8080/"
    },
    "id": "JO3HaVIAYKAF",
    "outputId": "49111463-ef42-4067-e354-3eb134338f3d"
   },
   "outputs": [
    {
     "data": {
      "text/plain": [
       "tensor([[ True,  True,  True],\n",
       "        [ True,  True,  True],\n",
       "        [False, False, False]])"
      ]
     },
     "execution_count": 54,
     "metadata": {},
     "output_type": "execute_result"
    }
   ],
   "source": [
    "a != b"
   ]
  },
  {
   "cell_type": "code",
   "execution_count": 55,
   "metadata": {
    "colab": {
     "base_uri": "https://localhost:8080/"
    },
    "id": "DExLBj4VYKAH",
    "outputId": "5d502c89-47b9-4df2-b32f-8f152cfb2a7e"
   },
   "outputs": [
    {
     "data": {
      "text/plain": [
       "tensor([[False, False, False],\n",
       "        [False, False, False],\n",
       "        [False, False, False]])"
      ]
     },
     "execution_count": 55,
     "metadata": {},
     "output_type": "execute_result"
    }
   ],
   "source": [
    "a < b"
   ]
  },
  {
   "cell_type": "code",
   "execution_count": 56,
   "metadata": {
    "colab": {
     "base_uri": "https://localhost:8080/"
    },
    "id": "0_IH_FUNYKAJ",
    "outputId": "92e7db00-81d1-4ad8-d642-ef68cc70bbe7"
   },
   "outputs": [
    {
     "data": {
      "text/plain": [
       "tensor([[ True,  True,  True],\n",
       "        [ True,  True,  True],\n",
       "        [False, False, False]])"
      ]
     },
     "execution_count": 56,
     "metadata": {},
     "output_type": "execute_result"
    }
   ],
   "source": [
    "a > b"
   ]
  },
  {
   "cell_type": "markdown",
   "metadata": {
    "id": "24nzBJR8YKAM"
   },
   "source": [
    "### Использование индексации по логической маске"
   ]
  },
  {
   "cell_type": "code",
   "execution_count": 57,
   "metadata": {
    "colab": {
     "base_uri": "https://localhost:8080/"
    },
    "id": "C-xVDslwYKAN",
    "outputId": "6ef2584b-9233-4573-e391-ad92e199cc11"
   },
   "outputs": [
    {
     "data": {
      "text/plain": [
       "tensor([ 1.,  2.,  3., 10., 20., 30.])"
      ]
     },
     "execution_count": 57,
     "metadata": {},
     "output_type": "execute_result"
    }
   ],
   "source": [
    "a[a > b]"
   ]
  },
  {
   "cell_type": "code",
   "execution_count": 58,
   "metadata": {
    "colab": {
     "base_uri": "https://localhost:8080/"
    },
    "id": "XatDJF5YYKAQ",
    "outputId": "0e4e7c4e-b9be-4363-9425-9092ffa1f873"
   },
   "outputs": [
    {
     "data": {
      "text/plain": [
       "tensor([100., 200., 300.])"
      ]
     },
     "execution_count": 58,
     "metadata": {},
     "output_type": "execute_result"
    }
   ],
   "source": [
    "b[a == b]"
   ]
  },
  {
   "cell_type": "markdown",
   "metadata": {
    "id": "54bQky1bYKAf"
   },
   "source": [
    "### Поэлементное применение **универсальных функций**\n",
    "\n",
    "Универсальная функция используется для описания функций, которые могут применяться поэлементно к тензорам и выполняют одну и ту же операцию на каждом элементе тензора."
   ]
  },
  {
   "cell_type": "code",
   "execution_count": 59,
   "metadata": {
    "id": "lWnGSuUhYKAf"
   },
   "outputs": [],
   "source": [
    "a = torch.FloatTensor([[1, 2, 3], [10, 20, 30], [100, 200, 300]])"
   ]
  },
  {
   "cell_type": "code",
   "execution_count": 60,
   "metadata": {
    "colab": {
     "base_uri": "https://localhost:8080/"
    },
    "id": "J6ZyxZBNYKAl",
    "outputId": "f907d445-3a9b-4705-da3d-ea977c3a4caa"
   },
   "outputs": [
    {
     "data": {
      "text/plain": [
       "tensor([[ 0.8415,  0.9093,  0.1411],\n",
       "        [-0.5440,  0.9129, -0.9880],\n",
       "        [-0.5064, -0.8733, -0.9998]])"
      ]
     },
     "execution_count": 60,
     "metadata": {},
     "output_type": "execute_result"
    }
   ],
   "source": [
    "a.sin()"
   ]
  },
  {
   "cell_type": "code",
   "execution_count": 61,
   "metadata": {
    "colab": {
     "base_uri": "https://localhost:8080/"
    },
    "id": "SScTSkJMYKAo",
    "outputId": "1334afb7-570d-4a35-ec5b-164c4ca144f8"
   },
   "outputs": [
    {
     "data": {
      "text/plain": [
       "tensor([[ 0.8415,  0.9093,  0.1411],\n",
       "        [-0.5440,  0.9129, -0.9880],\n",
       "        [-0.5064, -0.8733, -0.9998]])"
      ]
     },
     "execution_count": 61,
     "metadata": {},
     "output_type": "execute_result"
    }
   ],
   "source": [
    "torch.sin(a)"
   ]
  },
  {
   "cell_type": "code",
   "execution_count": 62,
   "metadata": {
    "colab": {
     "base_uri": "https://localhost:8080/"
    },
    "id": "0bYVYVV7YKAr",
    "outputId": "24b7e541-4040-44c9-a520-77bbe3485388"
   },
   "outputs": [
    {
     "data": {
      "text/plain": [
       "tensor([[ 1.5574, -2.1850, -0.1425],\n",
       "        [ 0.6484,  2.2372, -6.4053],\n",
       "        [-0.5872, -1.7925, 45.2447]])"
      ]
     },
     "execution_count": 62,
     "metadata": {},
     "output_type": "execute_result"
    }
   ],
   "source": [
    "a.tan()"
   ]
  },
  {
   "cell_type": "code",
   "execution_count": 63,
   "metadata": {
    "colab": {
     "base_uri": "https://localhost:8080/"
    },
    "id": "c-rYL8HQYKAt",
    "outputId": "f44b9173-efbd-4cc1-c68a-80c4151683d8"
   },
   "outputs": [
    {
     "data": {
      "text/plain": [
       "tensor([[2.7183e+00, 7.3891e+00, 2.0086e+01],\n",
       "        [2.2026e+04, 4.8517e+08, 1.0686e+13],\n",
       "        [       inf,        inf,        inf]])"
      ]
     },
     "execution_count": 63,
     "metadata": {},
     "output_type": "execute_result"
    }
   ],
   "source": [
    "a.exp()"
   ]
  },
  {
   "cell_type": "code",
   "execution_count": 67,
   "metadata": {
    "colab": {
     "base_uri": "https://localhost:8080/"
    },
    "id": "EbiCDYUzYKAw",
    "outputId": "b0a12eb8-24d3-4008-9a87-8c1bc2a37d2f"
   },
   "outputs": [
    {
     "data": {
      "text/plain": [
       "tensor([[0.0000, 0.6931, 1.0986],\n",
       "        [2.3026, 2.9957, 3.4012],\n",
       "        [4.6052, 5.2983, 5.7038]])"
      ]
     },
     "execution_count": 67,
     "metadata": {},
     "output_type": "execute_result"
    }
   ],
   "source": [
    "a.log() # натуральный логарифм"
   ]
  },
  {
   "cell_type": "code",
   "execution_count": 68,
   "metadata": {
    "colab": {
     "base_uri": "https://localhost:8080/"
    },
    "id": "yh1sySpiYKAy",
    "outputId": "71f5fc95-c70b-4037-cfb6-3ecc3d262d03"
   },
   "outputs": [
    {
     "data": {
      "text/plain": [
       "tensor([[  -1.,   -2.,   -3.],\n",
       "        [ -10.,  -20.,  -30.],\n",
       "        [-100., -200., -300.]])"
      ]
     },
     "execution_count": 68,
     "metadata": {},
     "output_type": "execute_result"
    }
   ],
   "source": [
    "b = -a\n",
    "b"
   ]
  },
  {
   "cell_type": "code",
   "execution_count": 69,
   "metadata": {
    "colab": {
     "base_uri": "https://localhost:8080/"
    },
    "id": "PNU0UxqIYKA2",
    "outputId": "17008632-fa44-448a-cc87-fe7b1373d05a"
   },
   "outputs": [
    {
     "data": {
      "text/plain": [
       "tensor([[  1.,   2.,   3.],\n",
       "        [ 10.,  20.,  30.],\n",
       "        [100., 200., 300.]])"
      ]
     },
     "execution_count": 69,
     "metadata": {},
     "output_type": "execute_result"
    }
   ],
   "source": [
    "b.abs()"
   ]
  },
  {
   "cell_type": "markdown",
   "metadata": {
    "id": "eqERQjISYKA9"
   },
   "source": [
    "### Агрегация и работа с осями\n",
    "#### sum, mean, max, min:"
   ]
  },
  {
   "cell_type": "code",
   "execution_count": 70,
   "metadata": {
    "colab": {
     "base_uri": "https://localhost:8080/"
    },
    "id": "YpV9XVCB7kh5",
    "outputId": "7fc26af1-9b36-49e6-f3ac-2f182414e387"
   },
   "outputs": [
    {
     "data": {
      "text/plain": [
       "tensor([[  1.,   2.,   3.],\n",
       "        [ 10.,  20.,  30.],\n",
       "        [100., 200., 300.]])"
      ]
     },
     "execution_count": 70,
     "metadata": {},
     "output_type": "execute_result"
    }
   ],
   "source": [
    "a"
   ]
  },
  {
   "cell_type": "code",
   "execution_count": 71,
   "metadata": {
    "colab": {
     "base_uri": "https://localhost:8080/"
    },
    "id": "7_0QBr7a7rvM",
    "outputId": "cefaa95c-ccf4-4538-a733-419cf4cba4e0"
   },
   "outputs": [
    {
     "data": {
      "text/plain": [
       "torch.Size([3, 3])"
      ]
     },
     "execution_count": 71,
     "metadata": {},
     "output_type": "execute_result"
    }
   ],
   "source": [
    "a.shape"
   ]
  },
  {
   "cell_type": "code",
   "execution_count": 72,
   "metadata": {
    "colab": {
     "base_uri": "https://localhost:8080/"
    },
    "id": "HLmJGdl9YKA-",
    "outputId": "98d60c3d-b357-4ce5-993e-0d6d772753a8"
   },
   "outputs": [
    {
     "data": {
      "text/plain": [
       "tensor([  6.,  60., 600.])"
      ]
     },
     "execution_count": 72,
     "metadata": {},
     "output_type": "execute_result"
    }
   ],
   "source": [
    "a.sum(dim=1)"
   ]
  },
  {
   "cell_type": "code",
   "execution_count": 73,
   "metadata": {
    "colab": {
     "base_uri": "https://localhost:8080/"
    },
    "id": "X0iZYxqT7ns2",
    "outputId": "56ca27c6-5f6f-42aa-d9c6-6268f1bfdc4f"
   },
   "outputs": [
    {
     "data": {
      "text/plain": [
       "tensor([111., 222., 333.])"
      ]
     },
     "execution_count": 73,
     "metadata": {},
     "output_type": "execute_result"
    }
   ],
   "source": [
    "a.sum(dim=0)"
   ]
  },
  {
   "cell_type": "code",
   "execution_count": 46,
   "metadata": {
    "colab": {
     "base_uri": "https://localhost:8080/"
    },
    "id": "ervIuNGnYKBD",
    "outputId": "28bde37f-c70e-4c6b-c6da-9ab734670a70"
   },
   "outputs": [
    {
     "data": {
      "text/plain": [
       "tensor([ 37.,  74., 111.])"
      ]
     },
     "execution_count": 46,
     "metadata": {},
     "output_type": "execute_result"
    }
   ],
   "source": [
    "a.mean(dim=0)"
   ]
  },
  {
   "cell_type": "markdown",
   "metadata": {
    "id": "1qxkdUQ2YKBF"
   },
   "source": [
    "#### Применение функции вдоль оси"
   ]
  },
  {
   "cell_type": "code",
   "execution_count": null,
   "metadata": {
    "colab": {
     "base_uri": "https://localhost:8080/"
    },
    "id": "OzU2H7jBbdS-",
    "outputId": "a701fb53-3b9b-435c-cb17-620c69315d7c"
   },
   "outputs": [
    {
     "data": {
      "text/plain": [
       "tensor([[  1.,   2.,   3.],\n",
       "        [ 10.,  20.,  30.],\n",
       "        [100., 200., 300.]])"
      ]
     },
     "execution_count": 90,
     "metadata": {},
     "output_type": "execute_result"
    }
   ],
   "source": [
    "a"
   ]
  },
  {
   "cell_type": "code",
   "execution_count": null,
   "metadata": {
    "colab": {
     "base_uri": "https://localhost:8080/"
    },
    "id": "cc6RjJYeYKBG",
    "outputId": "78e942a6-5820-4fde-88d2-d5e1ce0665c9"
   },
   "outputs": [
    {
     "data": {
      "text/plain": [
       "tensor([111., 222., 333.])"
      ]
     },
     "execution_count": 91,
     "metadata": {},
     "output_type": "execute_result"
    }
   ],
   "source": [
    "a.sum(dim=0)"
   ]
  },
  {
   "cell_type": "code",
   "execution_count": null,
   "metadata": {
    "colab": {
     "base_uri": "https://localhost:8080/"
    },
    "id": "Dgi5BmhOYKBJ",
    "outputId": "a6e73d38-78bc-42d2-da86-bccd3f9bb772"
   },
   "outputs": [
    {
     "data": {
      "text/plain": [
       "tensor([  6.,  60., 600.])"
      ]
     },
     "execution_count": 92,
     "metadata": {},
     "output_type": "execute_result"
    }
   ],
   "source": [
    "a.sum(dim=1)"
   ]
  },
  {
   "cell_type": "code",
   "execution_count": null,
   "metadata": {
    "colab": {
     "base_uri": "https://localhost:8080/"
    },
    "id": "-tIkcTENYKBK",
    "outputId": "bd0f3557-ca04-4c9d-94f5-1c01947f4432"
   },
   "outputs": [
    {
     "data": {
      "text/plain": [
       "tensor(300.)"
      ]
     },
     "execution_count": 93,
     "metadata": {},
     "output_type": "execute_result"
    }
   ],
   "source": [
    "a.max()"
   ]
  },
  {
   "cell_type": "code",
   "execution_count": null,
   "metadata": {
    "colab": {
     "base_uri": "https://localhost:8080/"
    },
    "id": "V4U_LyyPYKBL",
    "outputId": "b3e7f4e1-2ade-4d73-f3f5-16a9e1af266b"
   },
   "outputs": [
    {
     "data": {
      "text/plain": [
       "torch.return_types.max(values=tensor([100., 200., 300.]), indices=tensor([2, 2, 2]))"
      ]
     },
     "execution_count": 94,
     "metadata": {},
     "output_type": "execute_result"
    }
   ],
   "source": [
    "a.max(0)"
   ]
  },
  {
   "cell_type": "markdown",
   "metadata": {
    "id": "Ys-9hnr4YKBS"
   },
   "source": [
    "**Примечание:** второй тензор, возвращаемый `.max()`, содержит индексы элементов max вдоль этой оси. Например. в этом случае `a.max ()` вернула `(100, 200, 300)`, которые являются минимальными элементами по оси 0 (вдоль столбцов), а их индексы по оси 0 равны `(2, 2, 2)`.\n"
   ]
  },
  {
   "cell_type": "markdown",
   "metadata": {
    "id": "kepFeTZ0YKBV"
   },
   "source": [
    "## Матричные операции"
   ]
  },
  {
   "cell_type": "markdown",
   "metadata": {
    "id": "7RYm3mdrYKBX"
   },
   "source": [
    "#### Транспонирование тензора"
   ]
  },
  {
   "cell_type": "code",
   "execution_count": 74,
   "metadata": {
    "colab": {
     "base_uri": "https://localhost:8080/"
    },
    "id": "T8-1TSkeYKBY",
    "outputId": "aca565b2-ea0c-4909-964a-05cc5a3e6f68"
   },
   "outputs": [
    {
     "data": {
      "text/plain": [
       "tensor([[  1.,   2.,   3.],\n",
       "        [ 10.,  20.,  30.],\n",
       "        [100., 200., 300.]])"
      ]
     },
     "execution_count": 74,
     "metadata": {},
     "output_type": "execute_result"
    }
   ],
   "source": [
    "a = torch.FloatTensor([[1, 2, 3], [10, 20, 30], [100, 200, 300]])\n",
    "a"
   ]
  },
  {
   "cell_type": "code",
   "execution_count": 75,
   "metadata": {
    "colab": {
     "base_uri": "https://localhost:8080/"
    },
    "id": "HSAZwai7YKBa",
    "outputId": "6506227d-85fc-4b22-e1a9-8b212c742d2b"
   },
   "outputs": [
    {
     "data": {
      "text/plain": [
       "tensor([[  1.,  10., 100.],\n",
       "        [  2.,  20., 200.],\n",
       "        [  3.,  30., 300.]])"
      ]
     },
     "execution_count": 75,
     "metadata": {},
     "output_type": "execute_result"
    }
   ],
   "source": [
    "a.t()"
   ]
  },
  {
   "cell_type": "markdown",
   "metadata": {
    "id": "QqsPkleRYKBd"
   },
   "source": [
    "Это тоже не inplace-операция:"
   ]
  },
  {
   "cell_type": "code",
   "execution_count": 76,
   "metadata": {
    "colab": {
     "base_uri": "https://localhost:8080/"
    },
    "id": "NRPamd2EYKBe",
    "outputId": "6a8d5de2-9753-4b25-a31d-7f3910a235fe"
   },
   "outputs": [
    {
     "data": {
      "text/plain": [
       "tensor([[  1.,   2.,   3.],\n",
       "        [ 10.,  20.,  30.],\n",
       "        [100., 200., 300.]])"
      ]
     },
     "execution_count": 76,
     "metadata": {},
     "output_type": "execute_result"
    }
   ],
   "source": [
    "a"
   ]
  },
  {
   "cell_type": "markdown",
   "metadata": {
    "id": "q8YhoxHPYKBh"
   },
   "source": [
    "#### Скалярное произведение векторов"
   ]
  },
  {
   "cell_type": "code",
   "execution_count": 77,
   "metadata": {
    "id": "i1pRtl7HYKBi"
   },
   "outputs": [],
   "source": [
    "a = torch.FloatTensor([1, 2, 3, 4, 5, 6])\n",
    "b = torch.FloatTensor([-1, -2, -4, -6, -8, -10])"
   ]
  },
  {
   "cell_type": "code",
   "execution_count": 78,
   "metadata": {
    "colab": {
     "base_uri": "https://localhost:8080/"
    },
    "id": "qcS-28dwYKBp",
    "outputId": "9846a5f9-d2bf-4b3f-caf0-056fc0109ee8"
   },
   "outputs": [
    {
     "data": {
      "text/plain": [
       "tensor(-141.)"
      ]
     },
     "execution_count": 78,
     "metadata": {},
     "output_type": "execute_result"
    }
   ],
   "source": [
    "a.dot(b)"
   ]
  },
  {
   "cell_type": "code",
   "execution_count": 79,
   "metadata": {
    "colab": {
     "base_uri": "https://localhost:8080/"
    },
    "id": "sBiRR1V3LP-r",
    "outputId": "b8b20971-79bb-4da6-b008-5e1a4a387b18"
   },
   "outputs": [
    {
     "data": {
      "text/plain": [
       "(torch.Size([6]), torch.Size([6]))"
      ]
     },
     "execution_count": 79,
     "metadata": {},
     "output_type": "execute_result"
    }
   ],
   "source": [
    "a.shape, b.shape"
   ]
  },
  {
   "cell_type": "code",
   "execution_count": 80,
   "metadata": {
    "colab": {
     "base_uri": "https://localhost:8080/"
    },
    "id": "MXyhOelQYKBs",
    "outputId": "4f92a038-5f36-43e2-a4be-a50d321e1fdb"
   },
   "outputs": [
    {
     "data": {
      "text/plain": [
       "tensor(-141.)"
      ]
     },
     "execution_count": 80,
     "metadata": {},
     "output_type": "execute_result"
    }
   ],
   "source": [
    "a @ b"
   ]
  },
  {
   "cell_type": "code",
   "execution_count": 81,
   "metadata": {
    "colab": {
     "base_uri": "https://localhost:8080/"
    },
    "id": "sxqg4xhoYKBt",
    "outputId": "cb1e601e-ecea-42f3-bf10-e12babfe57af"
   },
   "outputs": [
    {
     "data": {
      "text/plain": [
       "torch.Tensor"
      ]
     },
     "execution_count": 81,
     "metadata": {},
     "output_type": "execute_result"
    }
   ],
   "source": [
    "type(a)"
   ]
  },
  {
   "cell_type": "code",
   "execution_count": 82,
   "metadata": {
    "colab": {
     "base_uri": "https://localhost:8080/"
    },
    "id": "_v2ZjPqDYKBz",
    "outputId": "d524bb4f-caf7-4e39-d681-9850f9fe63ec"
   },
   "outputs": [
    {
     "data": {
      "text/plain": [
       "torch.Tensor"
      ]
     },
     "execution_count": 82,
     "metadata": {},
     "output_type": "execute_result"
    }
   ],
   "source": [
    "type(b)"
   ]
  },
  {
   "cell_type": "code",
   "execution_count": 83,
   "metadata": {
    "colab": {
     "base_uri": "https://localhost:8080/"
    },
    "id": "UsWB9vTuYKB0",
    "outputId": "37980664-95ee-4852-da62-5ca6772548a0"
   },
   "outputs": [
    {
     "data": {
      "text/plain": [
       "torch.Tensor"
      ]
     },
     "execution_count": 83,
     "metadata": {},
     "output_type": "execute_result"
    }
   ],
   "source": [
    "type(a @ b)"
   ]
  },
  {
   "cell_type": "markdown",
   "metadata": {
    "id": "KSrnLwkGYKB1"
   },
   "source": [
    "#### Матричное произведение"
   ]
  },
  {
   "cell_type": "code",
   "execution_count": 84,
   "metadata": {
    "id": "ViurnbjPYKB2"
   },
   "outputs": [],
   "source": [
    "a = torch.FloatTensor([[1, 2, 3], [10, 20, 30], [100, 200, 300]])\n",
    "b = torch.FloatTensor([[-1, -2, -3], [-10, -20, -30], [100, 200, 300]])"
   ]
  },
  {
   "cell_type": "code",
   "execution_count": 85,
   "metadata": {
    "colab": {
     "base_uri": "https://localhost:8080/"
    },
    "id": "5TrCnfWiYKB3",
    "outputId": "f7bb653b-220d-44f5-ba64-e0a488fbcbbe"
   },
   "outputs": [
    {
     "data": {
      "text/plain": [
       "tensor([[  279.,   558.,   837.],\n",
       "        [ 2790.,  5580.,  8370.],\n",
       "        [27900., 55800., 83700.]])"
      ]
     },
     "execution_count": 85,
     "metadata": {},
     "output_type": "execute_result"
    }
   ],
   "source": [
    "a.mm(b)"
   ]
  },
  {
   "cell_type": "code",
   "execution_count": 86,
   "metadata": {
    "colab": {
     "base_uri": "https://localhost:8080/"
    },
    "id": "HMzIz-_MYKB4",
    "outputId": "74698a4c-c9ca-4cd0-ebcb-2bef7725e3d0"
   },
   "outputs": [
    {
     "data": {
      "text/plain": [
       "tensor([[  279.,   558.,   837.],\n",
       "        [ 2790.,  5580.,  8370.],\n",
       "        [27900., 55800., 83700.]])"
      ]
     },
     "execution_count": 86,
     "metadata": {},
     "output_type": "execute_result"
    }
   ],
   "source": [
    "a @ b"
   ]
  },
  {
   "cell_type": "code",
   "execution_count": 87,
   "metadata": {
    "colab": {
     "base_uri": "https://localhost:8080/"
    },
    "id": "Z_JBdgWk8o9S",
    "outputId": "b29b7065-4f1d-4c98-c346-40876436bcff"
   },
   "outputs": [
    {
     "data": {
      "text/plain": [
       "tensor([[  279.,   558.,   837.],\n",
       "        [ 2790.,  5580.,  8370.],\n",
       "        [27900., 55800., 83700.]])"
      ]
     },
     "execution_count": 87,
     "metadata": {},
     "output_type": "execute_result"
    }
   ],
   "source": [
    "a.matmul(b)"
   ]
  },
  {
   "cell_type": "code",
   "execution_count": 88,
   "metadata": {
    "id": "vtuvt20-YKB8"
   },
   "outputs": [],
   "source": [
    "a = torch.FloatTensor([[1, 2, 3], [10, 20, 30], [100, 200, 300]])\n",
    "b = torch.FloatTensor([[-1], [-10], [100]])"
   ]
  },
  {
   "cell_type": "code",
   "execution_count": 89,
   "metadata": {
    "colab": {
     "base_uri": "https://localhost:8080/"
    },
    "id": "fdDnu5XjYKB9",
    "outputId": "1a6c1ff2-a2e3-4f3f-8bd4-f644b9f82c97"
   },
   "outputs": [
    {
     "name": "stdout",
     "output_type": "stream",
     "text": [
      "torch.Size([3, 3]) torch.Size([3, 1])\n"
     ]
    }
   ],
   "source": [
    "print(a.shape, b.shape)"
   ]
  },
  {
   "cell_type": "code",
   "execution_count": 90,
   "metadata": {
    "colab": {
     "base_uri": "https://localhost:8080/"
    },
    "id": "oD4N4WN8YKB_",
    "outputId": "595cf2fb-820f-4029-fbc7-e21fc140ba9f"
   },
   "outputs": [
    {
     "data": {
      "text/plain": [
       "tensor([[  279.],\n",
       "        [ 2790.],\n",
       "        [27900.]])"
      ]
     },
     "execution_count": 90,
     "metadata": {},
     "output_type": "execute_result"
    }
   ],
   "source": [
    "a @ b"
   ]
  },
  {
   "cell_type": "markdown",
   "metadata": {
    "id": "va9w-BavYKCB"
   },
   "source": [
    "Тензор `b` можно развернуть в одномерный массив с помощью функции `torch.view(-1)`, чтобы результат был вектором"
   ]
  },
  {
   "cell_type": "code",
   "execution_count": 91,
   "metadata": {
    "colab": {
     "base_uri": "https://localhost:8080/"
    },
    "id": "V7KsdYcBYKCC",
    "outputId": "3fd989f8-2b94-4082-af61-e1030a8ca47f"
   },
   "outputs": [
    {
     "data": {
      "text/plain": [
       "tensor([[ -1.],\n",
       "        [-10.],\n",
       "        [100.]])"
      ]
     },
     "execution_count": 91,
     "metadata": {},
     "output_type": "execute_result"
    }
   ],
   "source": [
    "b"
   ]
  },
  {
   "cell_type": "code",
   "execution_count": 92,
   "metadata": {
    "colab": {
     "base_uri": "https://localhost:8080/"
    },
    "id": "t7k6spayYKCF",
    "outputId": "d3d8ed57-ab88-4b71-a28c-2d1b22e0b7e6"
   },
   "outputs": [
    {
     "data": {
      "text/plain": [
       "tensor([ -1., -10., 100.])"
      ]
     },
     "execution_count": 92,
     "metadata": {},
     "output_type": "execute_result"
    }
   ],
   "source": [
    "b.view(-1)"
   ]
  },
  {
   "cell_type": "code",
   "execution_count": 93,
   "metadata": {
    "colab": {
     "base_uri": "https://localhost:8080/"
    },
    "id": "8u8xQ20bYKCH",
    "outputId": "c5b424dc-6824-46d9-d356-251cf6926933"
   },
   "outputs": [
    {
     "data": {
      "text/plain": [
       "tensor([  279.,  2790., 27900.])"
      ]
     },
     "execution_count": 93,
     "metadata": {},
     "output_type": "execute_result"
    }
   ],
   "source": [
    "a @ b.view(-1)"
   ]
  },
  {
   "cell_type": "code",
   "execution_count": 94,
   "metadata": {
    "colab": {
     "base_uri": "https://localhost:8080/"
    },
    "id": "QvCu1sJEYKCJ",
    "outputId": "7dac2139-3516-4680-c588-3391fd199703"
   },
   "outputs": [
    {
     "data": {
      "text/plain": [
       "tensor([  279.,  2790., 27900.])"
      ]
     },
     "execution_count": 94,
     "metadata": {},
     "output_type": "execute_result"
    }
   ],
   "source": [
    "a.mv(b.view(-1))"
   ]
  },
  {
   "cell_type": "markdown",
   "metadata": {
    "id": "gZitrCN6YKCL"
   },
   "source": [
    "## Конвертация\n",
    "#### Конвертация из Numpy в Pytorch:"
   ]
  },
  {
   "cell_type": "code",
   "execution_count": 95,
   "metadata": {
    "colab": {
     "base_uri": "https://localhost:8080/"
    },
    "id": "bnLS4CGXYKCL",
    "outputId": "4695cd5a-bde6-4c62-cbfe-59a72102fb51"
   },
   "outputs": [
    {
     "data": {
      "text/plain": [
       "array([[0.6529942 , 0.50777746, 0.6377586 ],\n",
       "       [0.08120261, 0.55999048, 0.49047753],\n",
       "       [0.60647774, 0.67777001, 0.9773639 ]])"
      ]
     },
     "execution_count": 95,
     "metadata": {},
     "output_type": "execute_result"
    }
   ],
   "source": [
    "import numpy as np\n",
    "\n",
    "a = np.random.rand(3, 3)\n",
    "a"
   ]
  },
  {
   "cell_type": "code",
   "execution_count": 96,
   "metadata": {
    "colab": {
     "base_uri": "https://localhost:8080/"
    },
    "id": "PXge57waYKCM",
    "outputId": "1602fee2-f37c-4c9a-f871-fcd6954a7263"
   },
   "outputs": [
    {
     "data": {
      "text/plain": [
       "tensor([[0.6530, 0.5078, 0.6378],\n",
       "        [0.0812, 0.5600, 0.4905],\n",
       "        [0.6065, 0.6778, 0.9774]], dtype=torch.float64)"
      ]
     },
     "execution_count": 96,
     "metadata": {},
     "output_type": "execute_result"
    }
   ],
   "source": [
    "b = torch.from_numpy(a)\n",
    "b"
   ]
  },
  {
   "cell_type": "markdown",
   "metadata": {
    "id": "Nvcr3ymPYKCN"
   },
   "source": [
    "**Внимание!** `a` и `b` хранятся в одной и той же ячейке данных. Если именить один тензор, то изменится и другой."
   ]
  },
  {
   "cell_type": "code",
   "execution_count": 97,
   "metadata": {
    "colab": {
     "base_uri": "https://localhost:8080/"
    },
    "id": "0N_ZW6TQYKCN",
    "outputId": "1d419bf2-5353-4cea-bd85-e6ce1ea3255d"
   },
   "outputs": [
    {
     "data": {
      "text/plain": [
       "tensor([[0., 0., 0.],\n",
       "        [0., 0., 0.],\n",
       "        [0., 0., 0.]], dtype=torch.float64)"
      ]
     },
     "execution_count": 97,
     "metadata": {},
     "output_type": "execute_result"
    }
   ],
   "source": [
    "b -= b\n",
    "b"
   ]
  },
  {
   "cell_type": "code",
   "execution_count": 98,
   "metadata": {
    "colab": {
     "base_uri": "https://localhost:8080/"
    },
    "id": "wzUnCKsiYKCP",
    "outputId": "fdefbd15-9512-4752-a16a-13a1aaf03704"
   },
   "outputs": [
    {
     "data": {
      "text/plain": [
       "array([[0., 0., 0.],\n",
       "       [0., 0., 0.],\n",
       "       [0., 0., 0.]])"
      ]
     },
     "execution_count": 98,
     "metadata": {},
     "output_type": "execute_result"
    }
   ],
   "source": [
    "a"
   ]
  },
  {
   "cell_type": "markdown",
   "metadata": {
    "id": "Al73RqKSYKCR"
   },
   "source": [
    "#### Конвертация из Torch в Numpy"
   ]
  },
  {
   "cell_type": "code",
   "execution_count": 99,
   "metadata": {
    "colab": {
     "base_uri": "https://localhost:8080/"
    },
    "id": "u5rngw4vYKCR",
    "outputId": "8a8561d2-8199-4dbd-fb0d-c27dec81755f"
   },
   "outputs": [
    {
     "data": {
      "text/plain": [
       "tensor([[[1.8617e-34, 0.0000e+00, 2.6452e-37, 0.0000e+00],\n",
       "         [0.0000e+00, 0.0000e+00, 0.0000e+00, 0.0000e+00],\n",
       "         [0.0000e+00, 0.0000e+00, 1.4013e-45, 0.0000e+00]],\n",
       "\n",
       "        [[0.0000e+00, 0.0000e+00, 1.1351e-43, 0.0000e+00],\n",
       "         [1.8558e-34, 0.0000e+00, 2.2316e-11, 4.5600e-41],\n",
       "         [1.4013e-45, 0.0000e+00, 1.4013e-45, 0.0000e+00]]])"
      ]
     },
     "execution_count": 99,
     "metadata": {},
     "output_type": "execute_result"
    }
   ],
   "source": [
    "a = torch.FloatTensor(2, 3, 4)\n",
    "a"
   ]
  },
  {
   "cell_type": "code",
   "execution_count": 100,
   "metadata": {
    "colab": {
     "base_uri": "https://localhost:8080/"
    },
    "id": "yjK68Kk-YKCS",
    "outputId": "8d0cd1e7-e497-44ac-c42c-6be7afd6c96b"
   },
   "outputs": [
    {
     "data": {
      "text/plain": [
       "torch.Tensor"
      ]
     },
     "execution_count": 100,
     "metadata": {},
     "output_type": "execute_result"
    }
   ],
   "source": [
    "type(a)"
   ]
  },
  {
   "cell_type": "code",
   "execution_count": 101,
   "metadata": {
    "colab": {
     "base_uri": "https://localhost:8080/"
    },
    "id": "viLUF7gQYKCU",
    "outputId": "57c34d40-d599-4e65-ce84-1b2b23ca80ff"
   },
   "outputs": [
    {
     "data": {
      "text/plain": [
       "array([[[1.8616892e-34, 0.0000000e+00, 2.6452461e-37, 0.0000000e+00],\n",
       "        [0.0000000e+00, 0.0000000e+00, 0.0000000e+00, 0.0000000e+00],\n",
       "        [0.0000000e+00, 0.0000000e+00, 1.4012985e-45, 0.0000000e+00]],\n",
       "\n",
       "       [[0.0000000e+00, 0.0000000e+00, 1.1350518e-43, 0.0000000e+00],\n",
       "        [1.8557786e-34, 0.0000000e+00, 2.2316426e-11, 4.5599653e-41],\n",
       "        [1.4012985e-45, 0.0000000e+00, 1.4012985e-45, 0.0000000e+00]]],\n",
       "      dtype=float32)"
      ]
     },
     "execution_count": 101,
     "metadata": {},
     "output_type": "execute_result"
    }
   ],
   "source": [
    "x = a.numpy()\n",
    "x"
   ]
  },
  {
   "cell_type": "code",
   "execution_count": 102,
   "metadata": {
    "colab": {
     "base_uri": "https://localhost:8080/"
    },
    "id": "9HxgiLxKYKCV",
    "outputId": "24ec3459-041d-49c8-cd68-4f7d6531622e"
   },
   "outputs": [
    {
     "data": {
      "text/plain": [
       "(2, 3, 4)"
      ]
     },
     "execution_count": 102,
     "metadata": {},
     "output_type": "execute_result"
    }
   ],
   "source": [
    "x.shape"
   ]
  },
  {
   "cell_type": "code",
   "execution_count": 103,
   "metadata": {
    "colab": {
     "base_uri": "https://localhost:8080/"
    },
    "id": "SdW5bhmeYKCX",
    "outputId": "ec9284db-ac45-411c-e93a-aa0458d08f6c"
   },
   "outputs": [
    {
     "data": {
      "text/plain": [
       "numpy.ndarray"
      ]
     },
     "execution_count": 103,
     "metadata": {},
     "output_type": "execute_result"
    }
   ],
   "source": [
    "type(x)"
   ]
  },
  {
   "cell_type": "code",
   "execution_count": 104,
   "metadata": {
    "id": "GbCc-vnWDj1l"
   },
   "outputs": [],
   "source": [
    "x -= x"
   ]
  },
  {
   "cell_type": "code",
   "execution_count": 105,
   "metadata": {
    "colab": {
     "base_uri": "https://localhost:8080/"
    },
    "id": "Ui-4DptBDlet",
    "outputId": "ec2f647c-0192-4c15-b45c-b4b853818345"
   },
   "outputs": [
    {
     "data": {
      "text/plain": [
       "tensor([[[0., 0., 0., 0.],\n",
       "         [0., 0., 0., 0.],\n",
       "         [0., 0., 0., 0.]],\n",
       "\n",
       "        [[0., 0., 0., 0.],\n",
       "         [0., 0., 0., 0.],\n",
       "         [0., 0., 0., 0.]]])"
      ]
     },
     "execution_count": 105,
     "metadata": {},
     "output_type": "execute_result"
    }
   ],
   "source": [
    "a"
   ]
  },
  {
   "cell_type": "markdown",
   "metadata": {
    "id": "MzLVLQ2GYKCa"
   },
   "source": [
    "## <h1 style=\"text-align: center;\"><a href=\"https://ru.wikipedia.org/wiki/CUDA\">CUDA</a></h3>\n",
    "\n",
    "CUDA --- это программно-аппаратная архитектура параллельных вычислений, которая позволяет существенно увеличить вычислительную производительность благодаря использованию графических процессоров фирмы Nvidia. Для нас CUDA --- это драйвер, который позволяет нам проводить вычисления на GPU."
   ]
  },
  {
   "cell_type": "markdown",
   "metadata": {
    "id": "PrIicAAiYKCa"
   },
   "source": [
    "[CUDA documentation](https://docs.nvidia.com/cuda/)"
   ]
  },
  {
   "cell_type": "markdown",
   "metadata": {
    "id": "2nDkAG6NYKCa"
   },
   "source": [
    "Для вычислений на Pytorch мы можем использовать как CPU (Central Processing Unit), так и GPU (Graphical Processing Unit). Между ними можно легко переключаться, и это очень важно!"
   ]
  },
  {
   "cell_type": "code",
   "execution_count": 130,
   "metadata": {
    "colab": {
     "base_uri": "https://localhost:8080/"
    },
    "id": "_0Nsl2IoYKCa",
    "outputId": "387a73a2-2cb9-443b-e0bc-09b13b4ce677"
   },
   "outputs": [
    {
     "data": {
      "text/plain": [
       "tensor([[0.2865, 0.1246, 0.1817,  ..., 0.2746, 0.2980, 0.4204],\n",
       "        [0.6218, 0.2908, 0.2601,  ..., 0.3198, 0.0231, 0.0312],\n",
       "        [0.7858, 0.9737, 0.3149,  ..., 0.5433, 0.8013, 0.3028],\n",
       "        ...,\n",
       "        [0.8839, 0.0853, 0.6754,  ..., 0.1506, 0.9244, 0.0803],\n",
       "        [0.6538, 0.3602, 0.4594,  ..., 0.5801, 0.3725, 0.6669],\n",
       "        [0.9593, 0.3496, 0.5332,  ..., 0.3113, 0.9677, 0.7203]])"
      ]
     },
     "execution_count": 130,
     "metadata": {},
     "output_type": "execute_result"
    }
   ],
   "source": [
    "x = torch.FloatTensor(1024, 10024).uniform_()\n",
    "x"
   ]
  },
  {
   "cell_type": "code",
   "execution_count": 131,
   "metadata": {
    "colab": {
     "base_uri": "https://localhost:8080/"
    },
    "id": "FVr5_SAdYKCb",
    "outputId": "e9ddd4ef-937f-40cb-989e-974286c6d1c6"
   },
   "outputs": [
    {
     "data": {
      "text/plain": [
       "False"
      ]
     },
     "execution_count": 131,
     "metadata": {},
     "output_type": "execute_result"
    }
   ],
   "source": [
    "x.is_cuda"
   ]
  },
  {
   "cell_type": "markdown",
   "metadata": {
    "id": "mAy8GGXAYKCd"
   },
   "source": [
    "#### Кладём тензор на GPU"
   ]
  },
  {
   "cell_type": "code",
   "execution_count": 132,
   "metadata": {
    "colab": {
     "base_uri": "https://localhost:8080/"
    },
    "id": "Pofrx0jug6QM",
    "outputId": "471b7407-a2bc-4dce-868b-5ac116722353"
   },
   "outputs": [
    {
     "name": "stdout",
     "output_type": "stream",
     "text": [
      "Fri Feb  9 15:36:22 2024       \n",
      "+-----------------------------------------------------------------------------+\n",
      "| NVIDIA-SMI 470.182.03   Driver Version: 470.182.03   CUDA Version: 11.8     |\n",
      "|-------------------------------+----------------------+----------------------+\n",
      "| GPU  Name        Persistence-M| Bus-Id        Disp.A | Volatile Uncorr. ECC |\n",
      "| Fan  Temp  Perf  Pwr:Usage/Cap|         Memory-Usage | GPU-Util  Compute M. |\n",
      "|                               |                      |               MIG M. |\n",
      "|===============================+======================+======================|\n",
      "|   0  Tesla T4            On   | 00000000:1A:00.0 Off |                    0 |\n",
      "| N/A   49C    P0    28W /  70W |    579MiB / 15109MiB |      0%      Default |\n",
      "|                               |                      |                  N/A |\n",
      "+-------------------------------+----------------------+----------------------+\n",
      "|   1  Tesla T4            On   | 00000000:1B:00.0 Off |                    0 |\n",
      "| N/A   42C    P8    15W /  70W |      3MiB / 15109MiB |      0%      Default |\n",
      "|                               |                      |                  N/A |\n",
      "+-------------------------------+----------------------+----------------------+\n",
      "|   2  Tesla T4            On   | 00000000:1F:00.0 Off |                    0 |\n",
      "| N/A   30C    P8     9W /  70W |      3MiB / 15109MiB |      0%      Default |\n",
      "|                               |                      |                  N/A |\n",
      "+-------------------------------+----------------------+----------------------+\n",
      "|   3  Tesla T4            On   | 00000000:20:00.0 Off |                    0 |\n",
      "| N/A   31C    P8     9W /  70W |      3MiB / 15109MiB |      0%      Default |\n",
      "|                               |                      |                  N/A |\n",
      "+-------------------------------+----------------------+----------------------+\n",
      "|   4  Tesla T4            On   | 00000000:21:00.0 Off |                    0 |\n",
      "| N/A   32C    P8     9W /  70W |      3MiB / 15109MiB |      0%      Default |\n",
      "|                               |                      |                  N/A |\n",
      "+-------------------------------+----------------------+----------------------+\n",
      "|   5  Tesla T4            On   | 00000000:22:00.0 Off |                    0 |\n",
      "| N/A   32C    P8     9W /  70W |      3MiB / 15109MiB |      0%      Default |\n",
      "|                               |                      |                  N/A |\n",
      "+-------------------------------+----------------------+----------------------+\n",
      "|   6  Tesla T4            On   | 00000000:23:00.0 Off |                    0 |\n",
      "| N/A   35C    P8     9W /  70W |      3MiB / 15109MiB |      0%      Default |\n",
      "|                               |                      |                  N/A |\n",
      "+-------------------------------+----------------------+----------------------+\n",
      "|   7  Tesla T4            On   | 00000000:24:00.0 Off |                    0 |\n",
      "| N/A   35C    P8    10W /  70W |      3MiB / 15109MiB |      0%      Default |\n",
      "|                               |                      |                  N/A |\n",
      "+-------------------------------+----------------------+----------------------+\n",
      "                                                                               \n",
      "+-----------------------------------------------------------------------------+\n",
      "| Processes:                                                                  |\n",
      "|  GPU   GI   CI        PID   Type   Process name                  GPU Memory |\n",
      "|        ID   ID                                                   Usage      |\n",
      "|=============================================================================|\n",
      "+-----------------------------------------------------------------------------+\n"
     ]
    }
   ],
   "source": [
    "!nvidia-smi"
   ]
  },
  {
   "cell_type": "code",
   "execution_count": 133,
   "metadata": {
    "id": "6UGKZbfyYKCd"
   },
   "outputs": [],
   "source": [
    "x = x.cuda()"
   ]
  },
  {
   "cell_type": "code",
   "execution_count": 134,
   "metadata": {
    "colab": {
     "base_uri": "https://localhost:8080/"
    },
    "id": "RwvXhDD2gezR",
    "outputId": "7ae0ecc3-0c00-4f03-db1e-6e6f303ebf8b"
   },
   "outputs": [
    {
     "name": "stdout",
     "output_type": "stream",
     "text": [
      "Fri Feb  9 15:36:26 2024       \n",
      "+-----------------------------------------------------------------------------+\n",
      "| NVIDIA-SMI 470.182.03   Driver Version: 470.182.03   CUDA Version: 11.8     |\n",
      "|-------------------------------+----------------------+----------------------+\n",
      "| GPU  Name        Persistence-M| Bus-Id        Disp.A | Volatile Uncorr. ECC |\n",
      "| Fan  Temp  Perf  Pwr:Usage/Cap|         Memory-Usage | GPU-Util  Compute M. |\n",
      "|                               |                      |               MIG M. |\n",
      "|===============================+======================+======================|\n",
      "|   0  Tesla T4            On   | 00000000:1A:00.0 Off |                    0 |\n",
      "| N/A   49C    P0    28W /  70W |    619MiB / 15109MiB |      0%      Default |\n",
      "|                               |                      |                  N/A |\n",
      "+-------------------------------+----------------------+----------------------+\n",
      "|   1  Tesla T4            On   | 00000000:1B:00.0 Off |                    0 |\n",
      "| N/A   42C    P8    15W /  70W |      3MiB / 15109MiB |      0%      Default |\n",
      "|                               |                      |                  N/A |\n",
      "+-------------------------------+----------------------+----------------------+\n",
      "|   2  Tesla T4            On   | 00000000:1F:00.0 Off |                    0 |\n",
      "| N/A   30C    P8     9W /  70W |      3MiB / 15109MiB |      0%      Default |\n",
      "|                               |                      |                  N/A |\n",
      "+-------------------------------+----------------------+----------------------+\n",
      "|   3  Tesla T4            On   | 00000000:20:00.0 Off |                    0 |\n",
      "| N/A   31C    P8     9W /  70W |      3MiB / 15109MiB |      0%      Default |\n",
      "|                               |                      |                  N/A |\n",
      "+-------------------------------+----------------------+----------------------+\n",
      "|   4  Tesla T4            On   | 00000000:21:00.0 Off |                    0 |\n",
      "| N/A   32C    P8    10W /  70W |      3MiB / 15109MiB |      0%      Default |\n",
      "|                               |                      |                  N/A |\n",
      "+-------------------------------+----------------------+----------------------+\n",
      "|   5  Tesla T4            On   | 00000000:22:00.0 Off |                    0 |\n",
      "| N/A   32C    P8     9W /  70W |      3MiB / 15109MiB |      0%      Default |\n",
      "|                               |                      |                  N/A |\n",
      "+-------------------------------+----------------------+----------------------+\n",
      "|   6  Tesla T4            On   | 00000000:23:00.0 Off |                    0 |\n",
      "| N/A   35C    P8     9W /  70W |      3MiB / 15109MiB |      0%      Default |\n",
      "|                               |                      |                  N/A |\n",
      "+-------------------------------+----------------------+----------------------+\n",
      "|   7  Tesla T4            On   | 00000000:24:00.0 Off |                    0 |\n",
      "| N/A   35C    P8     9W /  70W |      3MiB / 15109MiB |      0%      Default |\n",
      "|                               |                      |                  N/A |\n",
      "+-------------------------------+----------------------+----------------------+\n",
      "                                                                               \n",
      "+-----------------------------------------------------------------------------+\n",
      "| Processes:                                                                  |\n",
      "|  GPU   GI   CI        PID   Type   Process name                  GPU Memory |\n",
      "|        ID   ID                                                   Usage      |\n",
      "|=============================================================================|\n",
      "+-----------------------------------------------------------------------------+\n"
     ]
    }
   ],
   "source": [
    "!nvidia-smi"
   ]
  },
  {
   "cell_type": "code",
   "execution_count": 135,
   "metadata": {
    "colab": {
     "base_uri": "https://localhost:8080/"
    },
    "id": "hyhJsU5ib591",
    "outputId": "cac2f2c4-d926-48dc-e823-8f3c7ef12dfd"
   },
   "outputs": [
    {
     "data": {
      "text/plain": [
       "tensor([[0.2865, 0.1246, 0.1817,  ..., 0.2746, 0.2980, 0.4204],\n",
       "        [0.6218, 0.2908, 0.2601,  ..., 0.3198, 0.0231, 0.0312],\n",
       "        [0.7858, 0.9737, 0.3149,  ..., 0.5433, 0.8013, 0.3028],\n",
       "        ...,\n",
       "        [0.8839, 0.0853, 0.6754,  ..., 0.1506, 0.9244, 0.0803],\n",
       "        [0.6538, 0.3602, 0.4594,  ..., 0.5801, 0.3725, 0.6669],\n",
       "        [0.9593, 0.3496, 0.5332,  ..., 0.3113, 0.9677, 0.7203]],\n",
       "       device='cuda:0')"
      ]
     },
     "execution_count": 135,
     "metadata": {},
     "output_type": "execute_result"
    }
   ],
   "source": [
    "x"
   ]
  },
  {
   "cell_type": "code",
   "execution_count": 136,
   "metadata": {
    "colab": {
     "base_uri": "https://localhost:8080/"
    },
    "id": "ue2SLd9nYKCd",
    "outputId": "14a91107-6ec6-4a96-b8d8-502534104c76"
   },
   "outputs": [
    {
     "name": "stdout",
     "output_type": "stream",
     "text": [
      "Fri Feb  9 15:36:30 2024       \n",
      "+-----------------------------------------------------------------------------+\n",
      "| NVIDIA-SMI 470.182.03   Driver Version: 470.182.03   CUDA Version: 11.8     |\n",
      "|-------------------------------+----------------------+----------------------+\n",
      "| GPU  Name        Persistence-M| Bus-Id        Disp.A | Volatile Uncorr. ECC |\n",
      "| Fan  Temp  Perf  Pwr:Usage/Cap|         Memory-Usage | GPU-Util  Compute M. |\n",
      "|                               |                      |               MIG M. |\n",
      "|===============================+======================+======================|\n",
      "|   0  Tesla T4            On   | 00000000:1A:00.0 Off |                    0 |\n",
      "| N/A   49C    P0    28W /  70W |    619MiB / 15109MiB |      2%      Default |\n",
      "|                               |                      |                  N/A |\n",
      "+-------------------------------+----------------------+----------------------+\n",
      "|   1  Tesla T4            On   | 00000000:1B:00.0 Off |                    0 |\n",
      "| N/A   42C    P8    15W /  70W |      3MiB / 15109MiB |      0%      Default |\n",
      "|                               |                      |                  N/A |\n",
      "+-------------------------------+----------------------+----------------------+\n",
      "|   2  Tesla T4            On   | 00000000:1F:00.0 Off |                    0 |\n",
      "| N/A   30C    P8     9W /  70W |      3MiB / 15109MiB |      0%      Default |\n",
      "|                               |                      |                  N/A |\n",
      "+-------------------------------+----------------------+----------------------+\n",
      "|   3  Tesla T4            On   | 00000000:20:00.0 Off |                    0 |\n",
      "| N/A   31C    P8     9W /  70W |      3MiB / 15109MiB |      0%      Default |\n",
      "|                               |                      |                  N/A |\n",
      "+-------------------------------+----------------------+----------------------+\n",
      "|   4  Tesla T4            On   | 00000000:21:00.0 Off |                    0 |\n",
      "| N/A   32C    P8     9W /  70W |      3MiB / 15109MiB |      0%      Default |\n",
      "|                               |                      |                  N/A |\n",
      "+-------------------------------+----------------------+----------------------+\n",
      "|   5  Tesla T4            On   | 00000000:22:00.0 Off |                    0 |\n",
      "| N/A   32C    P8     9W /  70W |      3MiB / 15109MiB |      0%      Default |\n",
      "|                               |                      |                  N/A |\n",
      "+-------------------------------+----------------------+----------------------+\n",
      "|   6  Tesla T4            On   | 00000000:23:00.0 Off |                    0 |\n",
      "| N/A   35C    P8     9W /  70W |      3MiB / 15109MiB |      0%      Default |\n",
      "|                               |                      |                  N/A |\n",
      "+-------------------------------+----------------------+----------------------+\n",
      "|   7  Tesla T4            On   | 00000000:24:00.0 Off |                    0 |\n",
      "| N/A   35C    P8    10W /  70W |      3MiB / 15109MiB |      0%      Default |\n",
      "|                               |                      |                  N/A |\n",
      "+-------------------------------+----------------------+----------------------+\n",
      "                                                                               \n",
      "+-----------------------------------------------------------------------------+\n",
      "| Processes:                                                                  |\n",
      "|  GPU   GI   CI        PID   Type   Process name                  GPU Memory |\n",
      "|        ID   ID                                                   Usage      |\n",
      "|=============================================================================|\n",
      "+-----------------------------------------------------------------------------+\n"
     ]
    }
   ],
   "source": [
    "x = x.cpu().detach()\n",
    "del x\n",
    "torch.cuda.empty_cache()\n",
    "!nvidia-smi"
   ]
  },
  {
   "cell_type": "code",
   "execution_count": 113,
   "metadata": {
    "colab": {
     "base_uri": "https://localhost:8080/"
    },
    "id": "qVVp6BnbD7fy",
    "outputId": "e097c457-a4d5-40a7-b86b-1f17ffe0ad6d"
   },
   "outputs": [
    {
     "data": {
      "text/plain": [
       "tensor([[0.0677, 0.2616, 0.0333,  ..., 0.7720, 0.3502, 0.0513],\n",
       "        [0.9806, 0.4155, 0.4296,  ..., 0.4077, 0.8897, 0.8949],\n",
       "        [0.9110, 0.5538, 0.5530,  ..., 0.3764, 0.5964, 0.5805],\n",
       "        ...,\n",
       "        [0.6196, 0.5529, 0.6042,  ..., 0.0613, 0.6647, 0.0159],\n",
       "        [0.5222, 0.8412, 0.4637,  ..., 0.7849, 0.9551, 0.8379],\n",
       "        [0.0075, 0.4646, 0.9329,  ..., 0.5991, 0.9607, 0.8722]],\n",
       "       device='cuda:0')"
      ]
     },
     "execution_count": 113,
     "metadata": {},
     "output_type": "execute_result"
    }
   ],
   "source": [
    "device = torch.device(\"cuda:0\") if torch.cuda.is_available() else torch.device(\"cpu\")\n",
    "\n",
    "x = x.to(device)\n",
    "x"
   ]
  },
  {
   "cell_type": "markdown",
   "metadata": {
    "id": "dI73B59PYKCg"
   },
   "source": [
    "Умножим два тензора в GPU и вернём результат обратно на CPU:"
   ]
  },
  {
   "cell_type": "code",
   "execution_count": 114,
   "metadata": {
    "id": "KS4QxJJoYKCg"
   },
   "outputs": [],
   "source": [
    "a = torch.FloatTensor(10000, 10000).uniform_()\n",
    "b = torch.FloatTensor(10000, 10000).uniform_()\n",
    "c = a.cuda().mul(b.cuda()).cpu()"
   ]
  },
  {
   "cell_type": "code",
   "execution_count": 115,
   "metadata": {
    "colab": {
     "base_uri": "https://localhost:8080/"
    },
    "id": "1ImlgEbwYKCg",
    "outputId": "08840d69-9844-4baf-f17d-26ae59cd171e"
   },
   "outputs": [
    {
     "data": {
      "text/plain": [
       "tensor([[0.1609, 0.2306, 0.0032,  ..., 0.4591, 0.1394, 0.5672],\n",
       "        [0.6999, 0.1064, 0.6273,  ..., 0.0261, 0.0548, 0.0836],\n",
       "        [0.3557, 0.0153, 0.1673,  ..., 0.0088, 0.3282, 0.3525],\n",
       "        ...,\n",
       "        [0.0383, 0.1347, 0.1580,  ..., 0.0305, 0.6656, 0.3184],\n",
       "        [0.1211, 0.1444, 0.4060,  ..., 0.3453, 0.0120, 0.5279],\n",
       "        [0.0611, 0.4763, 0.4933,  ..., 0.0018, 0.0873, 0.6774]])"
      ]
     },
     "execution_count": 115,
     "metadata": {},
     "output_type": "execute_result"
    }
   ],
   "source": [
    "c"
   ]
  },
  {
   "cell_type": "code",
   "execution_count": 116,
   "metadata": {
    "colab": {
     "base_uri": "https://localhost:8080/"
    },
    "id": "4DAN9MhDYKCh",
    "outputId": "435e0564-edf4-4486-d26a-1bb9e305f305"
   },
   "outputs": [
    {
     "data": {
      "text/plain": [
       "tensor([[0.8542, 0.8903, 0.9784,  ..., 0.5470, 0.1793, 0.9003],\n",
       "        [0.8757, 0.5662, 0.9825,  ..., 0.2071, 0.1193, 0.7909],\n",
       "        [0.4161, 0.1702, 0.5115,  ..., 0.0205, 0.3445, 0.8182],\n",
       "        ...,\n",
       "        [0.1940, 0.4188, 0.8242,  ..., 0.0515, 0.8341, 0.4170],\n",
       "        [0.3411, 0.3192, 0.5302,  ..., 0.5619, 0.0703, 0.7270],\n",
       "        [0.0758, 0.5901, 0.8698,  ..., 0.9635, 0.4473, 0.6977]])"
      ]
     },
     "execution_count": 116,
     "metadata": {},
     "output_type": "execute_result"
    }
   ],
   "source": [
    "a"
   ]
  },
  {
   "cell_type": "markdown",
   "metadata": {
    "id": "xWc-PiA9YKCi"
   },
   "source": [
    "Тензоры из разных областей памяти не совместимы:"
   ]
  },
  {
   "cell_type": "code",
   "execution_count": 117,
   "metadata": {
    "id": "1lwV1sgSYKCi"
   },
   "outputs": [],
   "source": [
    "a = torch.FloatTensor(10000, 10000).uniform_().cpu()\n",
    "b = torch.FloatTensor(10000, 10000).uniform_().cuda()"
   ]
  },
  {
   "cell_type": "code",
   "execution_count": 118,
   "metadata": {
    "colab": {
     "base_uri": "https://localhost:8080/",
     "height": 162
    },
    "id": "G6tYdYtTYKCj",
    "outputId": "f92ecd9b-052a-401f-b0db-530e7bd20579"
   },
   "outputs": [
    {
     "ename": "RuntimeError",
     "evalue": "Expected all tensors to be on the same device, but found at least two devices, cuda:0 and cpu!",
     "output_type": "error",
     "traceback": [
      "\u001b[0;31m---------------------------------------------------------------------------\u001b[0m",
      "\u001b[0;31mRuntimeError\u001b[0m                              Traceback (most recent call last)",
      "Cell \u001b[0;32mIn[118], line 1\u001b[0m\n\u001b[0;32m----> 1\u001b[0m \u001b[43ma\u001b[49m\u001b[43m \u001b[49m\u001b[38;5;241;43m+\u001b[39;49m\u001b[43m \u001b[49m\u001b[43mb\u001b[49m\n",
      "\u001b[0;31mRuntimeError\u001b[0m: Expected all tensors to be on the same device, but found at least two devices, cuda:0 and cpu!"
     ]
    }
   ],
   "source": [
    "a + b"
   ]
  },
  {
   "cell_type": "markdown",
   "metadata": {
    "id": "J094WEHQYKCv"
   },
   "source": [
    "## Дополнительные материалы"
   ]
  },
  {
   "cell_type": "markdown",
   "metadata": {
    "id": "ftVUTfvUYKCv"
   },
   "source": [
    "*1). Official PyTorch tutorials: https://pytorch.org/tutorials/beginner/blitz/tensor_tutorial.html#sphx-glr-beginner-blitz-tensor-tutorial-py*"
   ]
  },
  {
   "cell_type": "markdown",
   "metadata": {
    "id": "ovymy5F6YKCw"
   },
   "source": [
    "*2). arXiv article about the deep learning frameworks comparison: https://arxiv.org/pdf/1511.06435.pdf*"
   ]
  },
  {
   "cell_type": "markdown",
   "metadata": {
    "id": "VXEEowQAYKCx"
   },
   "source": [
    "*3). Useful repo with different tutorials: https://github.com/yunjey/pytorch-tutorial*"
   ]
  },
  {
   "cell_type": "markdown",
   "metadata": {
    "id": "9cROZcrYYKC0"
   },
   "source": [
    "*4). Facebook AI Research (main contributor of PyTorch) website: https://facebook.ai/developers/tools*"
   ]
  }
 ],
 "metadata": {
  "accelerator": "GPU",
  "colab": {
   "provenance": []
  },
  "kernelspec": {
   "display_name": "Python 3 (ipykernel)",
   "language": "python",
   "name": "python3"
  },
  "language_info": {
   "codemirror_mode": {
    "name": "ipython",
    "version": 3
   },
   "file_extension": ".py",
   "mimetype": "text/x-python",
   "name": "python",
   "nbconvert_exporter": "python",
   "pygments_lexer": "ipython3",
   "version": "3.8.10"
  }
 },
 "nbformat": 4,
 "nbformat_minor": 4
}
