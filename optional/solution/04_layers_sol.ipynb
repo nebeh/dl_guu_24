{
 "cells": [
  {
   "cell_type": "code",
   "execution_count": 1,
   "metadata": {},
   "outputs": [],
   "source": [
    "import torch\n",
    "import numpy as np "
   ]
  },
  {
   "cell_type": "markdown",
   "metadata": {},
   "source": [
    "### Задача 1\n",
    "На вход идет изображение 28х28. Применить свертку так, чтобы в результате получить 5 карт характеристик размером\n",
    "- 28х28\n",
    "- 26х26\n",
    "- 14х14"
   ]
  },
  {
   "cell_type": "code",
   "execution_count": 15,
   "metadata": {},
   "outputs": [],
   "source": [
    "t = torch.randn(1,1,28,28)\n",
    "# разменость 0 - batch, т.е. мы подаем пакет, который содержит одну картинку\n",
    "# размерность 1 - это глубина картинки (количество каналов, например rgb)\n",
    "# последние 2 размерности это высота и ширина картинки\n",
    "t2 = torch.randn(2,3,28,28) # здесь задается пакет из 2-х картинок размера 28х28х3\n"
   ]
  },
  {
   "cell_type": "code",
   "execution_count": 14,
   "metadata": {},
   "outputs": [
    {
     "name": "stdout",
     "output_type": "stream",
     "text": [
      "torch.Size([1, 5, 28, 28])\n",
      "torch.Size([1, 5, 26, 26])\n",
      "torch.Size([1, 5, 14, 14])\n"
     ]
    }
   ],
   "source": [
    "conv1 = torch.nn.Conv2d(1,5,kernel_size=3,stride=1,padding=1)\n",
    "# 1 - количество входных каналов, 5 - количество выходных каналов (количество сверток), kernel_size - размер свертки, padding - на сколько свертка выходит за пределы исходной картинки\n",
    "out1 = conv1(t)\n",
    "print(out1.shape) # получили 5 матриц (каналов) размером 28х28\n",
    "conv2 = torch.nn.Conv2d(1,5,kernel_size=3,stride=1,padding=0)\n",
    "out2 = conv2(t)\n",
    "print(out2.shape)\n",
    "conv3 = torch.nn.Conv2d(1,5,kernel_size=3,stride=2,padding=1)\n",
    "out3 = conv3(t)\n",
    "print(out3.shape)"
   ]
  },
  {
   "cell_type": "markdown",
   "metadata": {},
   "source": [
    "### Задача 2\n",
    "На вход идет изображение 28х28. Реализовать следующую архитектуру: входное изображение разбивается на 3 потока. \n",
    "- Первый поток обрабатывается 4-я свертками 1х1, polling с шагом 2\n",
    "- Второй поток обрабатывается 3-я свертками 3х3, polling с шагом 2\n",
    "- Третий поток обрабатывается 2-я свертками 5х5, polling с шагом 2\n",
    "\n",
    "Выходы потоков необходимо конкатенировать (объединить) и получить 9 карт характеристик"
   ]
  },
  {
   "cell_type": "code",
   "execution_count": 22,
   "metadata": {},
   "outputs": [
    {
     "data": {
      "text/plain": [
       "torch.Size([1, 9, 14, 14])"
      ]
     },
     "execution_count": 22,
     "metadata": {},
     "output_type": "execute_result"
    }
   ],
   "source": [
    "t = torch.randn(1,1,28,28)\n",
    "conv1 = torch.nn.Conv2d(1,4,kernel_size=1)\n",
    "conv2 = torch.nn.Conv2d(1,3,kernel_size=3,padding=1)\n",
    "conv3 = torch.nn.Conv2d(1,2,kernel_size=5,padding=2)\n",
    "mp = torch.nn.MaxPool2d(2)\n",
    "\n",
    "out1 = mp(conv1(t))\n",
    "out2 = mp(conv2(t))\n",
    "out3 = mp(conv3(t))\n",
    "out = torch.cat((out1,out2,out3),dim=1)\n",
    "out.shape"
   ]
  },
  {
   "cell_type": "markdown",
   "metadata": {},
   "source": [
    "### Задача 3\n",
    "На вход идет изображение 28х28. Реализовать следующую архитектуру: входное изображение разбивается на 3 потока. \n",
    "- Первый поток обрабатывается 4-я свертками 1х1, polling с шагом 2\n",
    "- Второй поток обрабатывается 3-я свертками 3х3, polling с шагом 2\n",
    "- Третий поток обрабатывается 2-я свертками 5х5, polling с шагом 2\n",
    "\n",
    " Организовать каждый поток в виде блока  sequential. Выходы потоков необходимо конкатенировать (объединить) и получить 9 карт характеристик"
   ]
  },
  {
   "cell_type": "code",
   "execution_count": 23,
   "metadata": {},
   "outputs": [
    {
     "data": {
      "text/plain": [
       "torch.Size([1, 9, 14, 14])"
      ]
     },
     "execution_count": 23,
     "metadata": {},
     "output_type": "execute_result"
    }
   ],
   "source": [
    "t = torch.randn(1,1,28,28)\n",
    "seq1 = torch.nn.Sequential(torch.nn.Conv2d(1,4,kernel_size=1), torch.nn.MaxPool2d(2))\n",
    "seq2 = torch.nn.Sequential(torch.nn.Conv2d(1,3,kernel_size=3,padding=1), torch.nn.MaxPool2d(2))\n",
    "seq3 = torch.nn.Sequential(torch.nn.Conv2d(1,2,kernel_size=5,padding=2), torch.nn.MaxPool2d(2))\n",
    "\n",
    "\n",
    "out1 = seq1(t)\n",
    "out2 = seq2(t)\n",
    "out3 = seq3(t)\n",
    "out = torch.cat((out1,out2,out3),dim=1)\n",
    "out.shape"
   ]
  },
  {
   "cell_type": "markdown",
   "metadata": {},
   "source": [
    "### Задача 4\n",
    "На вход идет изображение 28х28. Реализовать следующую архитектуру: входное изображение разбивается на 3 потока. \n",
    "- Первый поток обрабатывается 4-я свертками 1х1, polling с шагом 2\n",
    "- Второй поток обрабатывается 3-я свертками 3х3, polling с шагом 2\n",
    "- Третий поток обрабатывается 2-я свертками 5х5, polling с шагом 2\n",
    "\n",
    " Организовать каждый поток в виде блока  sequential. Выходы потоков необходимо конкатенировать (объединить) и получить 9 карт характеристик.\n",
    " - Применить к результату нелинейность ReLU\n",
    " - Выход ReLU подать на полносвязный слой, на выходе которого 10 значений (10 классов)"
   ]
  },
  {
   "cell_type": "code",
   "execution_count": 25,
   "metadata": {},
   "outputs": [
    {
     "data": {
      "text/plain": [
       "torch.Size([1, 9, 14, 14])"
      ]
     },
     "execution_count": 25,
     "metadata": {},
     "output_type": "execute_result"
    }
   ],
   "source": [
    "t = torch.randn(1,1,28,28)\n",
    "seq1 = torch.nn.Sequential(torch.nn.Conv2d(1,4,kernel_size=1), torch.nn.MaxPool2d(2))\n",
    "seq2 = torch.nn.Sequential(torch.nn.Conv2d(1,3,kernel_size=3,padding=1), torch.nn.MaxPool2d(2))\n",
    "seq3 = torch.nn.Sequential(torch.nn.Conv2d(1,2,kernel_size=5,padding=2), torch.nn.MaxPool2d(2))\n",
    "relu = torch.nn.ReLU()\n",
    "\n",
    "out1 = seq1(t)\n",
    "out2 = seq2(t)\n",
    "out3 = seq3(t)\n",
    "out = relu(torch.cat((out1,out2,out3),dim=1))\n",
    "out.shape"
   ]
  },
  {
   "cell_type": "markdown",
   "metadata": {},
   "source": [
    "### Задача 5\n",
    "Организовать задачу 4 используя классы (наследуя от nn.Module)"
   ]
  },
  {
   "cell_type": "code",
   "execution_count": 26,
   "metadata": {},
   "outputs": [],
   "source": [
    "class convNet(torch.nn.Module):\n",
    "    def __init__(self):\n",
    "        super(convNet,self).__init__()\n",
    "        self.seq1 = torch.nn.Sequential(torch.nn.Conv2d(1,4,kernel_size=1), torch.nn.MaxPool2d(2))\n",
    "        self.seq2 = torch.nn.Sequential(torch.nn.Conv2d(1,3,kernel_size=3,padding=1), torch.nn.MaxPool2d(2))\n",
    "        self.seq3 = torch.nn.Sequential(torch.nn.Conv2d(1,2,kernel_size=5,padding=2), torch.nn.MaxPool2d(2))\n",
    "        self.relu = torch.nn.ReLU()\n",
    "    def forward(self,x):\n",
    "        x1 = self.seq1(x)\n",
    "        x2 = self.seq2(x)\n",
    "        x3 = self.seq3(x)\n",
    "        x = torch.cat((x1,x2,x3),dim=1)\n",
    "        x = self.relu(x)\n",
    "        return x\n"
   ]
  },
  {
   "cell_type": "code",
   "execution_count": 27,
   "metadata": {},
   "outputs": [
    {
     "data": {
      "text/plain": [
       "torch.Size([1, 1, 28, 28])"
      ]
     },
     "execution_count": 27,
     "metadata": {},
     "output_type": "execute_result"
    }
   ],
   "source": [
    "model = convNet()\n",
    "out = model(t)\n",
    "t.shape"
   ]
  }
 ],
 "metadata": {
  "kernelspec": {
   "display_name": "deep",
   "language": "python",
   "name": "python3"
  },
  "language_info": {
   "codemirror_mode": {
    "name": "ipython",
    "version": 3
   },
   "file_extension": ".py",
   "mimetype": "text/x-python",
   "name": "python",
   "nbconvert_exporter": "python",
   "pygments_lexer": "ipython3",
   "version": "3.10.12"
  }
 },
 "nbformat": 4,
 "nbformat_minor": 2
}
