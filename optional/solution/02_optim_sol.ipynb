{
 "cells": [
  {
   "cell_type": "code",
   "execution_count": 2,
   "metadata": {},
   "outputs": [],
   "source": [
    "import numpy as np"
   ]
  },
  {
   "cell_type": "markdown",
   "metadata": {},
   "source": [
    "Найти значение параметра $w$ минимизируеюшего зависимость\n",
    "$$ y = w*x$$\n",
    "Где $y$ и $x$ - константы"
   ]
  },
  {
   "cell_type": "markdown",
   "metadata": {},
   "source": [
    "Алгоритм:\n",
    "1. выписываем функцию ошибки: $Loss = (y - w*x)^2$\n",
    "2. находим градиент функции $Loss$:  $ \\nabla_w Loss = -2(y-w*x)x$\n",
    "3. задаем начальное значение параметра $w$\n",
    "4. в цикле обновляем градиент $ w = w - \\eta\\nabla_w Loss$"
   ]
  },
  {
   "cell_type": "markdown",
   "metadata": {},
   "source": [
    "Градиентный спуск numpy"
   ]
  },
  {
   "cell_type": "code",
   "execution_count": 7,
   "metadata": {},
   "outputs": [
    {
     "name": "stdout",
     "output_type": "stream",
     "text": [
      "0.11487999999999993\n",
      "0.4049161216000001\n",
      "0.30987708527411195\n",
      "0.3410194766973789\n",
      "0.3308147378758028\n",
      "0.33415862669285695\n",
      "0.33306290120528476\n",
      "0.3334219485330524\n",
      "0.3333042959046895\n",
      "0.33334284831795136\n",
      "0.3333302154631737\n",
      "0.33333435499702724\n",
      "Количество итераций = 64\n"
     ]
    }
   ],
   "source": [
    "y = 1\n",
    "x = 3\n",
    "w = np.array(1) # начальное значение параметра w\n",
    "loss = (y - w*x)**2 # функция ошибки\n",
    "grad_w = lambda w: -2*(y - w*x)*x\n",
    "\n",
    "eps = 10**-6\n",
    "i=0\n",
    "while True & i<1000:\n",
    "    i += 1\n",
    "    w1 = w - 0.1*grad_w(w)\n",
    "    if np.abs(w1-w)<eps:\n",
    "        print('Количество итераций =',i)\n",
    "        break\n",
    "    w = w1\n",
    "    if i%5 == 0:\n",
    "        print(w)"
   ]
  },
  {
   "cell_type": "code",
   "execution_count": 6,
   "metadata": {},
   "outputs": [
    {
     "name": "stdout",
     "output_type": "stream",
     "text": [
      "2.462625387195531e-12\n"
     ]
    }
   ],
   "source": [
    "# loss\n",
    "print((y - w*x)**2)"
   ]
  },
  {
   "cell_type": "markdown",
   "metadata": {},
   "source": [
    "Градиентный спуск torch"
   ]
  },
  {
   "cell_type": "code",
   "execution_count": 3,
   "metadata": {},
   "outputs": [],
   "source": [
    "import torch"
   ]
  },
  {
   "cell_type": "code",
   "execution_count": 4,
   "metadata": {},
   "outputs": [],
   "source": [
    "y = 2\n",
    "x = 1\n",
    "w = torch.tensor(0.1, requires_grad=True) # здесь если задать целое число, при расчете градиента torch выдаст ошибку"
   ]
  },
  {
   "cell_type": "markdown",
   "metadata": {},
   "source": [
    "При использовании torch задача упрощается тем, что фреймворк посчитает градиент. Для нашего игрушечного примера не совсем очевидно преимущество, но для обучения нейросетей это подход, как увидим в будущем, будет очень удобным "
   ]
  },
  {
   "cell_type": "code",
   "execution_count": 5,
   "metadata": {},
   "outputs": [
    {
     "name": "stdout",
     "output_type": "stream",
     "text": [
      "tensor(0.4800, requires_grad=True) tensor(-3.8000)\n",
      "tensor(0.7840, requires_grad=True) tensor(-3.0400)\n",
      "tensor(1.0272, requires_grad=True) tensor(-2.4320)\n",
      "tensor(1.2218, requires_grad=True) tensor(-1.9456)\n",
      "tensor(1.3774, requires_grad=True) tensor(-1.5565)\n",
      "tensor(1.5019, requires_grad=True) tensor(-1.2452)\n",
      "tensor(1.6015, requires_grad=True) tensor(-0.9961)\n",
      "tensor(1.6812, requires_grad=True) tensor(-0.7969)\n",
      "tensor(1.7450, requires_grad=True) tensor(-0.6375)\n",
      "tensor(1.7960, requires_grad=True) tensor(-0.5100)\n",
      "tensor(1.8368, requires_grad=True) tensor(-0.4080)\n",
      "tensor(1.8694, requires_grad=True) tensor(-0.3264)\n",
      "tensor(1.8955, requires_grad=True) tensor(-0.2611)\n",
      "tensor(1.9164, requires_grad=True) tensor(-0.2089)\n",
      "tensor(1.9331, requires_grad=True) tensor(-0.1671)\n",
      "tensor(1.9465, requires_grad=True) tensor(-0.1337)\n",
      "tensor(1.9572, requires_grad=True) tensor(-0.1070)\n",
      "tensor(1.9658, requires_grad=True) tensor(-0.0856)\n",
      "tensor(1.9726, requires_grad=True) tensor(-0.0685)\n",
      "tensor(1.9781, requires_grad=True) tensor(-0.0548)\n",
      "tensor(1.9825, requires_grad=True) tensor(-0.0438)\n",
      "tensor(1.9860, requires_grad=True) tensor(-0.0350)\n",
      "tensor(1.9888, requires_grad=True) tensor(-0.0280)\n",
      "tensor(1.9910, requires_grad=True) tensor(-0.0224)\n",
      "tensor(1.9928, requires_grad=True) tensor(-0.0179)\n",
      "tensor(1.9943, requires_grad=True) tensor(-0.0144)\n",
      "tensor(1.9954, requires_grad=True) tensor(-0.0115)\n",
      "tensor(1.9963, requires_grad=True) tensor(-0.0092)\n",
      "tensor(1.9971, requires_grad=True) tensor(-0.0074)\n",
      "tensor(1.9976, requires_grad=True) tensor(-0.0059)\n"
     ]
    }
   ],
   "source": [
    "\n",
    "x = 1\n",
    "y = 2\n",
    "\n",
    "w = torch.tensor(0.1,requires_grad=True)\n",
    "\n",
    "for i in range(30):\n",
    "  loss = (y - x*w)**2\n",
    "  loss.backward()\n",
    "  with torch.no_grad():\n",
    "    w -= 0.1*w.grad\n",
    "    print(w,w.grad)\n",
    "  w.grad.zero_()"
   ]
  },
  {
   "cell_type": "markdown",
   "metadata": {},
   "source": [
    "### Задача 1\n",
    "Найти решение нелинейного уравнения\n",
    "$$ sin(x) + e^x - 1 = 0 $$"
   ]
  },
  {
   "cell_type": "code",
   "execution_count": 12,
   "metadata": {},
   "outputs": [],
   "source": [
    "target = 0\n",
    "x = torch.tensor(1.,requires_grad=True) # начальная точка "
   ]
  },
  {
   "cell_type": "markdown",
   "metadata": {},
   "source": []
  },
  {
   "cell_type": "code",
   "execution_count": 13,
   "metadata": {},
   "outputs": [
    {
     "data": {
      "text/plain": [
       "tensor(6.5523, grad_fn=<PowBackward0>)"
      ]
     },
     "execution_count": 13,
     "metadata": {},
     "output_type": "execute_result"
    }
   ],
   "source": [
    "y = torch.sin(x) + torch.exp(x) - 1\n",
    "target = 0\n",
    "loss = (y - target)**2\n",
    "loss"
   ]
  },
  {
   "cell_type": "code",
   "execution_count": 14,
   "metadata": {},
   "outputs": [
    {
     "name": "stdout",
     "output_type": "stream",
     "text": [
      "tensor(-15.6823, requires_grad=True) tensor(16.6823)\n",
      "tensor(-17.4783, requires_grad=True) tensor(-0.0090)\n",
      "tensor(-17.4264, requires_grad=True) tensor(-0.0034)\n",
      "tensor(-17.4015, requires_grad=True) tensor(-0.0019)\n",
      "tensor(-17.3862, requires_grad=True) tensor(-0.0013)\n",
      "tensor(-17.3755, requires_grad=True) tensor(-0.0009)\n",
      "tensor(-17.3674, requires_grad=True) tensor(-0.0007)\n",
      "tensor(-17.3611, requires_grad=True) tensor(-0.0006)\n",
      "tensor(-17.3560, requires_grad=True) tensor(-0.0005)\n",
      "tensor(-17.3518, requires_grad=True) tensor(-0.0004)\n"
     ]
    }
   ],
   "source": [
    "for i in range(100):\n",
    "  y = torch.sin(x) + torch.exp(x) - 1\n",
    "  loss = (y - target)**2\n",
    "  loss.backward()\n",
    "  with torch.no_grad():\n",
    "    x -= 1*x.grad\n",
    "    if i%10 == 0:\n",
    "        print(x,x.grad)\n",
    "  x.grad.zero_()"
   ]
  },
  {
   "cell_type": "code",
   "execution_count": 16,
   "metadata": {},
   "outputs": [
    {
     "name": "stdout",
     "output_type": "stream",
     "text": [
      "tensor(-0.0024, grad_fn=<SubBackward0>)\n"
     ]
    }
   ],
   "source": [
    "print(torch.sin(x) + torch.exp(x) - 1)"
   ]
  },
  {
   "cell_type": "markdown",
   "metadata": {},
   "source": [
    "### Задача 2\n",
    "Найти коэффициенты $a$ и $b$ линейной регрессии\n",
    "$$ y = ax + b$$"
   ]
  },
  {
   "cell_type": "code",
   "execution_count": 37,
   "metadata": {},
   "outputs": [],
   "source": [
    "x = torch.arange(0,1,0.1)\n",
    "target = 2*x + 1 + torch.randn(x.shape)/3"
   ]
  },
  {
   "cell_type": "code",
   "execution_count": 38,
   "metadata": {},
   "outputs": [
    {
     "data": {
      "image/png": "[encoded data removed]",
      "text/plain": [
       "<Figure size 640x480 with 1 Axes>"
      ]
     },
     "metadata": {},
     "output_type": "display_data"
    }
   ],
   "source": [
    "import matplotlib.pyplot as plt\n",
    "plt.plot(x,target,'o')\n",
    "plt.grid(True)"
   ]
  },
  {
   "cell_type": "markdown",
   "metadata": {},
   "source": [
    "Задаем коэффициенты линейной регрессии. Необходимо указать, что эти коэффициенты обучаемы (т.е. добавить опцию requires_grad=True)"
   ]
  },
  {
   "cell_type": "code",
   "execution_count": 39,
   "metadata": {},
   "outputs": [],
   "source": [
    "a = torch.tensor(1.,requires_grad=True)\n",
    "b = torch.tensor(0.,requires_grad=True)"
   ]
  },
  {
   "cell_type": "code",
   "execution_count": 28,
   "metadata": {},
   "outputs": [
    {
     "data": {
      "text/plain": [
       "tensor(21.4126, grad_fn=<SumBackward0>)"
      ]
     },
     "execution_count": 28,
     "metadata": {},
     "output_type": "execute_result"
    }
   ],
   "source": [
    "loss = torch.sum((a*x + b - target)**2)\n",
    "loss"
   ]
  },
  {
   "cell_type": "code",
   "execution_count": 42,
   "metadata": {},
   "outputs": [
    {
     "name": "stdout",
     "output_type": "stream",
     "text": [
      "tensor(1.1414)\n",
      "tensor(1.1190)\n",
      "tensor(1.1060)\n",
      "tensor(1.0985)\n",
      "tensor(1.0941)\n",
      "tensor(1.0916)\n",
      "tensor(1.0901)\n",
      "tensor(1.0893)\n",
      "tensor(1.0888)\n",
      "tensor(1.0885)\n"
     ]
    }
   ],
   "source": [
    "for i in range(200):\n",
    "  y = a*x + b\n",
    "  loss = torch.sum((y - target)**2)\n",
    "  loss.backward()\n",
    "  with torch.no_grad():\n",
    "    a -= 0.01*a.grad\n",
    "    b -= 0.01*b.grad\n",
    "    if i%20 == 0:\n",
    "        print(loss.detach())\n",
    "  a.grad.zero_()\n",
    "  b.grad.zero_()"
   ]
  },
  {
   "cell_type": "code",
   "execution_count": 43,
   "metadata": {},
   "outputs": [
    {
     "data": {
      "text/plain": [
       "(tensor(2.5642, requires_grad=True), tensor(0.7579, requires_grad=True))"
      ]
     },
     "execution_count": 43,
     "metadata": {},
     "output_type": "execute_result"
    }
   ],
   "source": [
    "a,b"
   ]
  },
  {
   "cell_type": "code",
   "execution_count": 44,
   "metadata": {},
   "outputs": [
    {
     "data": {
      "image/png": "[encoded data removed]",
      "text/plain": [
       "<Figure size 640x480 with 1 Axes>"
      ]
     },
     "metadata": {},
     "output_type": "display_data"
    }
   ],
   "source": [
    "Y = y.detach()\n",
    "plt.plot(x,target,'o')\n",
    "plt.plot(x,Y)\n",
    "plt.grid(True)"
   ]
  }
 ],
 "metadata": {
  "kernelspec": {
   "display_name": "deep",
   "language": "python",
   "name": "python3"
  },
  "language_info": {
   "codemirror_mode": {
    "name": "ipython",
    "version": 3
   },
   "file_extension": ".py",
   "mimetype": "text/x-python",
   "name": "python",
   "nbconvert_exporter": "python",
   "pygments_lexer": "ipython3",
   "version": "3.10.12"
  }
 },
 "nbformat": 4,
 "nbformat_minor": 2
}
