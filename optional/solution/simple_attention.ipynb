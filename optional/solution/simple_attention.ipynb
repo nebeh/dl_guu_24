{
 "cells": [
  {
   "cell_type": "markdown",
   "id": "adb37841-a385-4af6-af06-25cc98bc449c",
   "metadata": {},
   "source": [
    "https://habr.com/ru/articles/486358/"
   ]
  },
  {
   "cell_type": "code",
   "execution_count": 9,
   "id": "58cad2b0",
   "metadata": {},
   "outputs": [],
   "source": [
    "import numpy as np\n",
    "np.random.seed(1)"
   ]
  },
  {
   "cell_type": "markdown",
   "id": "2ed46a7b",
   "metadata": {},
   "source": [
    "Эмбединги "
   ]
  },
  {
   "cell_type": "code",
   "execution_count": 10,
   "id": "c87b5f84",
   "metadata": {},
   "outputs": [
    {
     "data": {
      "text/plain": [
       "array([[ 1.62434536, -0.61175641],\n",
       "       [-0.52817175, -1.07296862],\n",
       "       [ 0.86540763, -2.3015387 ],\n",
       "       [ 1.74481176, -0.7612069 ]])"
      ]
     },
     "execution_count": 10,
     "metadata": {},
     "output_type": "execute_result"
    }
   ],
   "source": [
    "num_word = 2\n",
    "num_emb = 4\n",
    "emb = np.random.randn(num_emb,num_word)\n",
    "emb"
   ]
  },
  {
   "cell_type": "markdown",
   "id": "1847a209",
   "metadata": {},
   "source": [
    "Обучаемые матрицы query, key, value"
   ]
  },
  {
   "cell_type": "code",
   "execution_count": 11,
   "id": "58c13b03",
   "metadata": {},
   "outputs": [],
   "source": [
    "Q = np.random.rand(num_emb,num_emb)\n",
    "K = np.random.rand(num_emb,num_emb)\n",
    "V = np.random.rand(num_emb,num_emb)"
   ]
  },
  {
   "cell_type": "code",
   "execution_count": 28,
   "id": "5c270296",
   "metadata": {},
   "outputs": [
    {
     "data": {
      "text/plain": [
       "array([[0.20445225, 0.87811744, 0.02738759, 0.67046751],\n",
       "       [0.4173048 , 0.55868983, 0.14038694, 0.19810149],\n",
       "       [0.80074457, 0.96826158, 0.31342418, 0.69232262],\n",
       "       [0.87638915, 0.89460666, 0.08504421, 0.03905478]])"
      ]
     },
     "execution_count": 28,
     "metadata": {},
     "output_type": "execute_result"
    }
   ],
   "source": [
    "Q"
   ]
  },
  {
   "cell_type": "markdown",
   "id": "bce81206",
   "metadata": {},
   "source": [
    "Queries"
   ]
  },
  {
   "cell_type": "code",
   "execution_count": 12,
   "id": "82b9f7a0",
   "metadata": {},
   "outputs": [
    {
     "data": {
      "text/plain": [
       "array([[ 1.06184527, -1.64066553],\n",
       "       [ 0.84990467, -1.32864774],\n",
       "       [ 2.26848963, -2.77713354],\n",
       "       [ 1.09279384, -1.72148288]])"
      ]
     },
     "execution_count": 12,
     "metadata": {},
     "output_type": "execute_result"
    }
   ],
   "source": [
    "q = Q@emb\n",
    "q"
   ]
  },
  {
   "cell_type": "markdown",
   "id": "3a55b018",
   "metadata": {},
   "source": [
    "Keys"
   ]
  },
  {
   "cell_type": "code",
   "execution_count": 13,
   "id": "3ef83ba8",
   "metadata": {},
   "outputs": [
    {
     "data": {
      "text/plain": [
       "array([[ 0.63191683, -1.59301327],\n",
       "       [ 2.42361169, -2.99061931],\n",
       "       [ 1.99897634, -1.92860471],\n",
       "       [ 2.83093419, -2.65395796]])"
      ]
     },
     "execution_count": 13,
     "metadata": {},
     "output_type": "execute_result"
    }
   ],
   "source": [
    "k = K@emb\n",
    "k"
   ]
  },
  {
   "cell_type": "markdown",
   "id": "345b1bfb",
   "metadata": {},
   "source": [
    "Values"
   ]
  },
  {
   "cell_type": "code",
   "execution_count": 14,
   "id": "be809cc4",
   "metadata": {},
   "outputs": [
    {
     "data": {
      "text/plain": [
       "array([[ 1.22971688, -2.8583937 ],\n",
       "       [ 1.59996966, -0.87687308],\n",
       "       [ 0.72202166, -1.58638268],\n",
       "       [ 2.58600351, -2.39762567]])"
      ]
     },
     "execution_count": 14,
     "metadata": {},
     "output_type": "execute_result"
    }
   ],
   "source": [
    "v = V@emb\n",
    "v"
   ]
  },
  {
   "cell_type": "markdown",
   "id": "867db64c",
   "metadata": {},
   "source": [
    "Score"
   ]
  },
  {
   "cell_type": "code",
   "execution_count": 15,
   "id": "8f4cf3d7",
   "metadata": {},
   "outputs": [
    {
     "data": {
      "text/plain": [
       "array([[0.15560988, 0.11350688, 0.56329633, 0.16758691],\n",
       "       [0.03807379, 0.01846971, 0.89885014, 0.04460637],\n",
       "       [0.078695  , 0.04712803, 0.78643111, 0.08774586],\n",
       "       [0.03625581, 0.01775316, 0.90382355, 0.04216748]])"
      ]
     },
     "execution_count": 15,
     "metadata": {},
     "output_type": "execute_result"
    }
   ],
   "source": [
    "from scipy.special import softmax\n",
    "s = softmax(k@q.T/np.sqrt(num_emb),1)\n",
    "s"
   ]
  },
  {
   "cell_type": "markdown",
   "id": "0547294a",
   "metadata": {},
   "source": [
    "Output"
   ]
  },
  {
   "cell_type": "code",
   "execution_count": 16,
   "id": "fd79c830",
   "metadata": {},
   "outputs": [
    {
     "data": {
      "text/plain": [
       "array([[ 1.21305615, -1.83973965],\n",
       "       [ 0.84071245, -1.65789512],\n",
       "       [ 0.96690739, -1.724229  ],\n",
       "       [ 0.83461433, -1.6541125 ]])"
      ]
     },
     "execution_count": 16,
     "metadata": {},
     "output_type": "execute_result"
    }
   ],
   "source": [
    "z = s@v\n",
    "z"
   ]
  },
  {
   "cell_type": "markdown",
   "id": "80e91bbb",
   "metadata": {},
   "source": [
    "Многоголовое внимание: 2 головы"
   ]
  },
  {
   "cell_type": "code",
   "execution_count": 17,
   "id": "e7f0c052",
   "metadata": {},
   "outputs": [],
   "source": [
    "n_emb = int(num_emb/2)\n",
    "Q1,Q2 = np.random.rand(n_emb,n_emb),np.random.rand(n_emb,n_emb)\n",
    "K1,K2 = np.random.rand(n_emb,n_emb),np.random.rand(n_emb,n_emb)\n",
    "V1,V2 = np.random.rand(n_emb,n_emb),np.random.rand(n_emb,n_emb)"
   ]
  },
  {
   "cell_type": "code",
   "execution_count": 27,
   "id": "11e5da0b",
   "metadata": {},
   "outputs": [
    {
     "data": {
      "text/plain": [
       "array([[0.10233443, 0.41405599],\n",
       "       [0.69440016, 0.41417927]])"
      ]
     },
     "execution_count": 27,
     "metadata": {},
     "output_type": "execute_result"
    }
   ],
   "source": [
    "Q1"
   ]
  },
  {
   "cell_type": "code",
   "execution_count": 18,
   "id": "f005b999",
   "metadata": {},
   "outputs": [
    {
     "data": {
      "text/plain": [
       "(array([[ 1.62434536, -0.61175641],\n",
       "        [-0.52817175, -1.07296862]]),\n",
       " array([[ 0.86540763, -2.3015387 ],\n",
       "        [ 1.74481176, -0.7612069 ]]))"
      ]
     },
     "execution_count": 18,
     "metadata": {},
     "output_type": "execute_result"
    }
   ],
   "source": [
    "num_word = 2\n",
    "num_emb = 4\n",
    "emb1,emb2 = emb[:2,:], emb[2:,:]\n",
    "emb1, emb2\n"
   ]
  },
  {
   "cell_type": "markdown",
   "id": "d14db522",
   "metadata": {},
   "source": [
    "Queries, Keys, Values\n"
   ]
  },
  {
   "cell_type": "code",
   "execution_count": 29,
   "id": "baf9e27a",
   "metadata": {},
   "outputs": [],
   "source": [
    "q1,q2 = Q1@emb1, Q2@emb2\n",
    "k1,k2 = K1@emb1, K2@emb2\n",
    "v1,v2 = V1@emb1, V2@emb2"
   ]
  },
  {
   "cell_type": "code",
   "execution_count": 20,
   "id": "75bc7404",
   "metadata": {},
   "outputs": [
    {
     "data": {
      "text/plain": [
       "(array([[ 0.95390821, -1.16624787],\n",
       "        [ 0.95517354, -1.16547395]]),\n",
       " array([[ 1.37072146, -2.09086501],\n",
       "        [ 1.39095728, -2.10836932]]))"
      ]
     },
     "execution_count": 20,
     "metadata": {},
     "output_type": "execute_result"
    }
   ],
   "source": [
    "z1 = softmax(k1@q1.T/np.sqrt(n_emb),1)@v1\n",
    "z2 = softmax(k2@q2.T/np.sqrt(n_emb),1)@v2\n",
    "z1,z2"
   ]
  },
  {
   "cell_type": "code",
   "execution_count": 21,
   "id": "7f42a60b",
   "metadata": {},
   "outputs": [
    {
     "data": {
      "text/plain": [
       "array([[ 0.95390821, -1.16624787],\n",
       "       [ 0.95517354, -1.16547395],\n",
       "       [ 1.37072146, -2.09086501],\n",
       "       [ 1.39095728, -2.10836932]])"
      ]
     },
     "execution_count": 21,
     "metadata": {},
     "output_type": "execute_result"
    }
   ],
   "source": [
    "z = np.vstack([z1,z2])\n",
    "z"
   ]
  },
  {
   "cell_type": "markdown",
   "id": "5d672a10",
   "metadata": {},
   "source": []
  },
  {
   "cell_type": "code",
   "execution_count": 32,
   "id": "4561dd4b",
   "metadata": {},
   "outputs": [
    {
     "name": "stdout",
     "output_type": "stream",
     "text": [
      "torch.Size([1, 10, 4])\n"
     ]
    }
   ],
   "source": [
    "import torch\n",
    "import torch.nn as nn\n",
    "\n",
    "class PositionalEncoding(nn.Module):\n",
    "    def __init__(self, d_model, max_len=5000):\n",
    "        super(PositionalEncoding, self).__init__()\n",
    "        self.encoding = torch.zeros(max_len, d_model)\n",
    "        position = torch.arange(0, max_len).unsqueeze(1)\n",
    "        div_term = torch.exp(torch.arange(0, d_model, 2) * -(torch.log(torch.tensor(10000.0)) / d_model))\n",
    "        self.encoding[:, 0::2] = torch.sin(position * div_term)\n",
    "        self.encoding[:, 1::2] = torch.cos(position * div_term)\n",
    "        self.encoding = self.encoding.unsqueeze(0)\n",
    "\n",
    "    def forward(self, x):\n",
    "        return x + self.encoding[:, :x.size(1)].detach()\n",
    "\n",
    "# Пример использования позиционного кодирования\n",
    "d_model = 4  # размерность модели\n",
    "max_len = 20  # максимальная длина последовательности\n",
    "\n",
    "pos_encoding = PositionalEncoding(d_model, max_len)\n",
    "\n",
    "# Пример применения позиционного кодирования к входным данным\n",
    "input_sequence = torch.randn(1, 10, d_model)  # пример входной последовательности\n",
    "output_sequence = pos_encoding(input_sequence)\n",
    "\n",
    "print(output_sequence.shape)  # вывод размерности выходной последовательности"
   ]
  },
  {
   "cell_type": "code",
   "execution_count": 33,
   "id": "2eff02f0",
   "metadata": {},
   "outputs": [],
   "source": [
    "div_term = torch.exp(torch.arange(0, d_model, 2) * -(torch.log(torch.tensor(10000.0)) / d_model))"
   ]
  },
  {
   "cell_type": "code",
   "execution_count": 24,
   "id": "59cea4c0",
   "metadata": {},
   "outputs": [
    {
     "data": {
      "text/plain": [
       "tensor([1.0000, 0.0100])"
      ]
     },
     "execution_count": 24,
     "metadata": {},
     "output_type": "execute_result"
    }
   ],
   "source": [
    "div_term"
   ]
  },
  {
   "cell_type": "code",
   "execution_count": 25,
   "id": "90cefbc3",
   "metadata": {},
   "outputs": [
    {
     "data": {
      "text/plain": [
       "torch.Size([1, 2, 4])"
      ]
     },
     "execution_count": 25,
     "metadata": {},
     "output_type": "execute_result"
    }
   ],
   "source": [
    "input_seq = torch.tensor(emb).unsqueeze(0)\n",
    "input_seq = input_seq.permute(0,2,1)\n",
    "input_seq.shape"
   ]
  },
  {
   "cell_type": "code",
   "execution_count": 26,
   "id": "89ec1130",
   "metadata": {},
   "outputs": [
    {
     "data": {
      "text/plain": [
       "(tensor([[ 1.6243, -0.6118],\n",
       "         [-0.5282, -1.0730],\n",
       "         [ 0.8654, -2.3015],\n",
       "         [ 1.7448, -0.7612]], dtype=torch.float64),\n",
       " tensor([[ 1.6243,  0.2297],\n",
       "         [ 0.4718, -0.5327],\n",
       "         [ 0.8654, -2.2915],\n",
       "         [ 2.7448,  0.2387]], dtype=torch.float64))"
      ]
     },
     "execution_count": 26,
     "metadata": {},
     "output_type": "execute_result"
    }
   ],
   "source": [
    "output_sequence = pos_encoding(input_seq)\n",
    "input_seq.squeeze(0).T, output_sequence.squeeze(0).T\n"
   ]
  }
 ],
 "metadata": {
  "kernelspec": {
   "display_name": "Python 3 (ipykernel)",
   "language": "python",
   "name": "python3"
  },
  "language_info": {
   "codemirror_mode": {
    "name": "ipython",
    "version": 3
   },
   "file_extension": ".py",
   "mimetype": "text/x-python",
   "name": "python",
   "nbconvert_exporter": "python",
   "pygments_lexer": "ipython3",
   "version": "3.10.12"
  }
 },
 "nbformat": 4,
 "nbformat_minor": 5
}
