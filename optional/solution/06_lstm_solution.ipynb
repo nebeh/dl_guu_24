{
 "cells": [
  {
   "cell_type": "markdown",
   "metadata": {},
   "source": []
  },
  {
   "cell_type": "code",
   "execution_count": 1,
   "metadata": {},
   "outputs": [],
   "source": [
    "import torch\n",
    "import numpy as np \n",
    "import matplotlib.pyplot as plt\n",
    "import torch.optim as optim\n"
   ]
  },
  {
   "cell_type": "markdown",
   "metadata": {},
   "source": [
    "На вход задан временной ряд $ y = A sin(b*x) $  \n",
    "### Задача 1 (регрессия):  \n",
    "По значениям временного ряда предсказать параметры $A$ и $b$  \n",
    "### Зачада 2 (авторегрессия):\n",
    "По значениям временного ряда предсказать 5 следующих значений\n"
   ]
  },
  {
   "cell_type": "markdown",
   "metadata": {},
   "source": [
    "Генерация данных: подзадача. Переписать функцию gen_data() так, чтобы она возвращала batch данных в формате torch.tensor"
   ]
  },
  {
   "cell_type": "code",
   "execution_count": 2,
   "metadata": {},
   "outputs": [],
   "source": [
    "x = np.arange(0,10,step=0.1)\n",
    "def gen_data():\n",
    "    a = np.random.uniform(0.1,3)\n",
    "    b = np.random.uniform(0.2,4)\n",
    "    return a*np.sin(b*x)"
   ]
  },
  {
   "cell_type": "code",
   "execution_count": 3,
   "metadata": {},
   "outputs": [
    {
     "data": {
      "text/plain": [
       "[<matplotlib.lines.Line2D at 0x7e6efd0aaa70>]"
      ]
     },
     "execution_count": 3,
     "metadata": {},
     "output_type": "execute_result"
    },
    {
     "data": {
      "image/png": "[encoded data removed]",
      "text/plain": [
       "<Figure size 640x480 with 1 Axes>"
      ]
     },
     "metadata": {},
     "output_type": "display_data"
    }
   ],
   "source": [
    "plt.plot(x,gen_data())\n"
   ]
  },
  {
   "cell_type": "markdown",
   "metadata": {},
   "source": [
    "Нейросеть"
   ]
  },
  {
   "cell_type": "code",
   "execution_count": 7,
   "metadata": {},
   "outputs": [],
   "source": [
    "import torch.nn as nn\n",
    "class LSTM(nn.Module):\n",
    "    def __init__(self, input_dim, hidden_dim, num_layers):\n",
    "        super(LSTM, self).__init__()\n",
    "\n",
    "        self.hidden_dim = hidden_dim\n",
    "        self.num_layers = num_layers\n",
    "\n",
    "        \n",
    "        self.lstm = nn.LSTM(input_dim, hidden_dim, num_layers, batch_first=True)\n",
    "        self.fc = nn.Linear(hidden_dim,2)\n",
    "\n",
    "    def forward(self, x):\n",
    "        # Инициализация скрытого состояния LSTM слоёв\n",
    "        \n",
    "        h0 = torch.zeros(self.num_layers , x.size(0), self.hidden_dim).to(x.device)\n",
    "        c0 = torch.zeros(self.num_layers, x.size(0), self.hidden_dim).to(x.device)\n",
    "        \n",
    "        # Применение LSTM слоя\n",
    "        _, (out,_) = self.lstm(x, (h0, c0))\n",
    "\n",
    "        out = self.fc(out[0])\n",
    "\n",
    "        return out"
   ]
  },
  {
   "cell_type": "markdown",
   "metadata": {},
   "source": [
    "Генерация батча данных произвольной (случайной) длины и случайными значениями искомых параметров $A$ и $b$"
   ]
  },
  {
   "cell_type": "code",
   "execution_count": 39,
   "metadata": {},
   "outputs": [],
   "source": [
    "\n",
    "def gen_data(batch = 16):\n",
    "    t = np.arange(0,torch.randint(3,15,(1,)),step=0.1)\n",
    "    X = torch.zeros(batch,t.size,1)\n",
    "    Y = torch.zeros(batch,2)\n",
    "    for i in range(batch):\n",
    "        a = torch.rand(1)*3 + 0.1\n",
    "        b = torch.rand(1)*4 + 0.2\n",
    "        #X[i,:,0] =  torch.tensor(t)\n",
    "        X[i,:,0] =  a*np.sin(b*t)\n",
    "        Y[i,0],Y[i,1] = a,bф\n",
    "    return X,Y"
   ]
  },
  {
   "cell_type": "code",
   "execution_count": 40,
   "metadata": {},
   "outputs": [],
   "source": [
    "input_dim = 1\n",
    "hidden_dim = 128\n",
    "num_layers = 1\n",
    "\n",
    "\n",
    "model = LSTM(input_dim, hidden_dim, num_layers)\n",
    "\n",
    "device = torch.device(\"cuda:0\")\n",
    "model.to(device)\n",
    "#model.load_state_dict(torch.load('models/bilstm_1_128'))\n",
    "criterion = nn.MSELoss()\n",
    "optimizer = optim.Adam(model.parameters(), lr=0.001)\n"
   ]
  },
  {
   "cell_type": "code",
   "execution_count": 41,
   "metadata": {},
   "outputs": [
    {
     "name": "stdout",
     "output_type": "stream",
     "text": [
      "Epoch [50/10000], Loss: 2.0935\n",
      "Epoch [100/10000], Loss: 1.0321\n",
      "Epoch [150/10000], Loss: 0.9205\n",
      "Epoch [200/10000], Loss: 0.7490\n",
      "Epoch [250/10000], Loss: 0.6350\n",
      "Epoch [300/10000], Loss: 0.6218\n",
      "Epoch [350/10000], Loss: 0.4111\n",
      "Epoch [400/10000], Loss: 0.3899\n",
      "Epoch [450/10000], Loss: 0.1813\n",
      "Epoch [500/10000], Loss: 0.1328\n",
      "Epoch [550/10000], Loss: 0.0770\n",
      "Epoch [600/10000], Loss: 0.0408\n",
      "Epoch [650/10000], Loss: 0.0294\n",
      "Epoch [700/10000], Loss: 0.1348\n",
      "Epoch [750/10000], Loss: 0.1682\n",
      "Epoch [800/10000], Loss: 0.0849\n",
      "Epoch [850/10000], Loss: 0.0273\n",
      "Epoch [900/10000], Loss: 0.0203\n",
      "Epoch [950/10000], Loss: 0.0333\n",
      "Epoch [1000/10000], Loss: 0.0255\n",
      "Epoch [1050/10000], Loss: 0.1758\n",
      "Epoch [1100/10000], Loss: 0.0773\n",
      "Epoch [1150/10000], Loss: 0.0257\n",
      "Epoch [1200/10000], Loss: 0.0135\n",
      "Epoch [1250/10000], Loss: 0.0157\n",
      "Epoch [1300/10000], Loss: 0.0177\n",
      "Epoch [1350/10000], Loss: 0.0120\n",
      "Epoch [1400/10000], Loss: 0.0106\n",
      "Epoch [1450/10000], Loss: 0.0096\n",
      "Epoch [1500/10000], Loss: 0.0068\n",
      "Epoch [1550/10000], Loss: 0.0076\n",
      "Epoch [1600/10000], Loss: 0.0059\n",
      "Epoch [1650/10000], Loss: 0.0075\n",
      "Epoch [1700/10000], Loss: 0.0063\n",
      "Epoch [1750/10000], Loss: 0.0299\n",
      "Epoch [1800/10000], Loss: 0.0733\n",
      "Epoch [1850/10000], Loss: 0.0269\n",
      "Epoch [1900/10000], Loss: 0.0126\n",
      "Epoch [1950/10000], Loss: 0.0072\n",
      "Epoch [2000/10000], Loss: 0.0064\n",
      "Epoch [2050/10000], Loss: 0.0068\n",
      "Epoch [2100/10000], Loss: 0.0050\n",
      "Epoch [2150/10000], Loss: 0.0056\n",
      "Epoch [2200/10000], Loss: 0.0058\n",
      "Epoch [2250/10000], Loss: 0.0044\n",
      "Epoch [2300/10000], Loss: 0.0034\n",
      "Epoch [2350/10000], Loss: 0.0041\n",
      "Epoch [2400/10000], Loss: 0.0045\n",
      "Epoch [2450/10000], Loss: 0.0034\n",
      "Epoch [2500/10000], Loss: 0.0033\n",
      "Epoch [2550/10000], Loss: 0.0037\n",
      "Epoch [2600/10000], Loss: 0.0028\n",
      "Epoch [2650/10000], Loss: 0.0027\n",
      "Epoch [2700/10000], Loss: 0.0047\n",
      "Epoch [2750/10000], Loss: 0.0032\n",
      "Epoch [2800/10000], Loss: 0.0022\n",
      "Epoch [2850/10000], Loss: 0.0022\n",
      "Epoch [2900/10000], Loss: 0.0028\n",
      "Epoch [2950/10000], Loss: 0.0027\n",
      "Epoch [3000/10000], Loss: 0.0032\n",
      "Epoch [3050/10000], Loss: 0.0050\n",
      "Epoch [3100/10000], Loss: 0.0027\n",
      "Epoch [3150/10000], Loss: 0.0025\n",
      "Epoch [3200/10000], Loss: 0.0015\n",
      "Epoch [3250/10000], Loss: 0.0027\n",
      "Epoch [3300/10000], Loss: 0.0014\n",
      "Epoch [3350/10000], Loss: 0.0025\n",
      "Epoch [3400/10000], Loss: 0.0033\n",
      "Epoch [3450/10000], Loss: 0.0029\n",
      "Epoch [3500/10000], Loss: 0.0020\n",
      "Epoch [3550/10000], Loss: 0.0040\n",
      "Epoch [3600/10000], Loss: 0.0023\n",
      "Epoch [3650/10000], Loss: 0.0016\n",
      "Epoch [3700/10000], Loss: 0.0013\n",
      "Epoch [3750/10000], Loss: 0.0020\n",
      "Epoch [3800/10000], Loss: 0.0028\n",
      "Epoch [3850/10000], Loss: 0.0021\n",
      "Epoch [3900/10000], Loss: 0.0016\n",
      "Epoch [3950/10000], Loss: 0.0012\n",
      "Epoch [4000/10000], Loss: 0.0017\n",
      "Epoch [4050/10000], Loss: 0.0017\n",
      "Epoch [4100/10000], Loss: 0.0027\n",
      "Epoch [4150/10000], Loss: 0.0020\n",
      "Epoch [4200/10000], Loss: 0.0015\n",
      "Epoch [4250/10000], Loss: 0.0022\n",
      "Epoch [4300/10000], Loss: 0.0023\n",
      "Epoch [4350/10000], Loss: 0.0020\n",
      "Epoch [4400/10000], Loss: 0.0021\n",
      "Epoch [4450/10000], Loss: 0.0013\n",
      "Epoch [4500/10000], Loss: 0.0024\n",
      "Epoch [4550/10000], Loss: 0.0020\n",
      "Epoch [4600/10000], Loss: 0.0019\n",
      "Epoch [4650/10000], Loss: 0.0022\n",
      "Epoch [4700/10000], Loss: 0.0017\n",
      "Epoch [4750/10000], Loss: 0.0019\n",
      "Epoch [4800/10000], Loss: 0.0012\n",
      "Epoch [4850/10000], Loss: 0.0035\n",
      "Epoch [4900/10000], Loss: 0.0020\n",
      "Epoch [4950/10000], Loss: 0.0017\n",
      "Epoch [5000/10000], Loss: 0.0016\n",
      "Epoch [5050/10000], Loss: 0.0014\n",
      "Epoch [5100/10000], Loss: 0.0013\n",
      "Epoch [5150/10000], Loss: 0.0018\n",
      "Epoch [5200/10000], Loss: 0.0023\n",
      "Epoch [5250/10000], Loss: 0.0018\n",
      "Epoch [5300/10000], Loss: 0.0027\n",
      "Epoch [5350/10000], Loss: 0.0012\n",
      "Epoch [5400/10000], Loss: 0.0021\n",
      "Epoch [5450/10000], Loss: 0.0020\n",
      "Epoch [5500/10000], Loss: 0.0011\n",
      "Epoch [5550/10000], Loss: 0.0018\n",
      "Epoch [5600/10000], Loss: 0.0018\n",
      "Epoch [5650/10000], Loss: 0.0020\n",
      "Epoch [5700/10000], Loss: 0.0027\n",
      "Epoch [5750/10000], Loss: 0.0010\n",
      "Epoch [5800/10000], Loss: 0.0014\n",
      "Epoch [5850/10000], Loss: 0.0014\n",
      "Epoch [5900/10000], Loss: 0.0016\n",
      "Epoch [5950/10000], Loss: 0.0014\n",
      "Epoch [6000/10000], Loss: 0.0022\n",
      "Epoch [6050/10000], Loss: 0.0026\n",
      "Epoch [6100/10000], Loss: 0.0022\n",
      "Epoch [6150/10000], Loss: 0.0062\n",
      "Epoch [6200/10000], Loss: 0.0028\n",
      "Epoch [6250/10000], Loss: 0.1015\n",
      "Epoch [6300/10000], Loss: 0.1058\n",
      "Epoch [6350/10000], Loss: 0.0300\n",
      "Epoch [6400/10000], Loss: 0.0071\n",
      "Epoch [6450/10000], Loss: 0.0045\n",
      "Epoch [6500/10000], Loss: 0.0026\n",
      "Epoch [6550/10000], Loss: 0.0034\n",
      "Epoch [6600/10000], Loss: 0.0025\n",
      "Epoch [6650/10000], Loss: 0.0027\n",
      "Epoch [6700/10000], Loss: 0.0016\n",
      "Epoch [6750/10000], Loss: 0.0018\n",
      "Epoch [6800/10000], Loss: 0.0020\n",
      "Epoch [6850/10000], Loss: 0.0015\n",
      "Epoch [6900/10000], Loss: 0.0022\n",
      "Epoch [6950/10000], Loss: 0.0020\n",
      "Epoch [7000/10000], Loss: 0.0016\n",
      "Epoch [7050/10000], Loss: 0.0010\n",
      "Epoch [7100/10000], Loss: 0.0015\n",
      "Epoch [7150/10000], Loss: 0.0007\n",
      "Epoch [7200/10000], Loss: 0.0012\n",
      "Epoch [7250/10000], Loss: 0.0021\n",
      "Epoch [7300/10000], Loss: 0.0013\n",
      "Epoch [7350/10000], Loss: 0.0016\n",
      "Epoch [7400/10000], Loss: 0.0007\n",
      "Epoch [7450/10000], Loss: 0.0019\n",
      "Epoch [7500/10000], Loss: 0.0011\n",
      "Epoch [7550/10000], Loss: 0.0019\n",
      "Epoch [7600/10000], Loss: 0.0012\n",
      "Epoch [7650/10000], Loss: 0.0011\n",
      "Epoch [7700/10000], Loss: 0.0012\n",
      "Epoch [7750/10000], Loss: 0.0009\n",
      "Epoch [7800/10000], Loss: 0.0008\n",
      "Epoch [7850/10000], Loss: 0.0009\n",
      "Epoch [7900/10000], Loss: 0.0013\n",
      "Epoch [7950/10000], Loss: 0.0016\n",
      "Epoch [8000/10000], Loss: 0.0012\n",
      "Epoch [8050/10000], Loss: 0.0012\n",
      "Epoch [8100/10000], Loss: 0.0017\n",
      "Epoch [8150/10000], Loss: 0.0015\n",
      "Epoch [8200/10000], Loss: 0.0020\n",
      "Epoch [8250/10000], Loss: 0.0013\n",
      "Epoch [8300/10000], Loss: 0.0007\n",
      "Epoch [8350/10000], Loss: 0.0008\n",
      "Epoch [8400/10000], Loss: 0.0006\n",
      "Epoch [8450/10000], Loss: 0.0013\n",
      "Epoch [8500/10000], Loss: 0.0013\n",
      "Epoch [8550/10000], Loss: 0.0014\n",
      "Epoch [8600/10000], Loss: 0.0016\n",
      "Epoch [8650/10000], Loss: 0.0033\n",
      "Epoch [8700/10000], Loss: 0.0015\n",
      "Epoch [8750/10000], Loss: 0.0011\n",
      "Epoch [8800/10000], Loss: 0.0010\n",
      "Epoch [8850/10000], Loss: 0.0014\n",
      "Epoch [8900/10000], Loss: 0.0010\n",
      "Epoch [8950/10000], Loss: 0.0012\n",
      "Epoch [9000/10000], Loss: 0.0008\n",
      "Epoch [9050/10000], Loss: 0.0007\n",
      "Epoch [9100/10000], Loss: 0.0012\n",
      "Epoch [9150/10000], Loss: 0.0011\n",
      "Epoch [9200/10000], Loss: 0.0018\n",
      "Epoch [9250/10000], Loss: 0.0020\n",
      "Epoch [9300/10000], Loss: 0.0012\n",
      "Epoch [9350/10000], Loss: 0.0011\n",
      "Epoch [9400/10000], Loss: 0.0012\n",
      "Epoch [9450/10000], Loss: 0.0003\n",
      "Epoch [9500/10000], Loss: 0.0005\n",
      "Epoch [9550/10000], Loss: 0.0007\n",
      "Epoch [9600/10000], Loss: 0.0007\n",
      "Epoch [9650/10000], Loss: 0.0020\n",
      "Epoch [9700/10000], Loss: 0.0009\n",
      "Epoch [9750/10000], Loss: 0.0028\n",
      "Epoch [9800/10000], Loss: 0.0014\n",
      "Epoch [9850/10000], Loss: 0.0012\n",
      "Epoch [9900/10000], Loss: 0.0009\n",
      "Epoch [9950/10000], Loss: 0.0011\n",
      "Epoch [10000/10000], Loss: 0.0008\n"
     ]
    }
   ],
   "source": [
    "\n",
    "# Обучение модели\n",
    "s = []\n",
    "num_epochs = 10000\n",
    "for epoch in range(num_epochs):\n",
    "    model.train()\n",
    "    optimizer.zero_grad()\n",
    "\n",
    "    x,y = gen_data(batch=32)\n",
    "    output = model(x.to(device))\n",
    "    \n",
    "    loss = criterion(output, y.to(device))  # Используем только первый измерение для задачи регрессии\n",
    "    loss.backward()\n",
    "    optimizer.step()\n",
    "    s.append(loss.detach().to('cpu'))\n",
    "    if (epoch + 1) % 50 == 0:\n",
    "       # print(f'Epoch [{epoch+1}/{num_epochs}], Loss: {loss.item():.4f}')\n",
    "        S = np.mean(s)\n",
    "        print(f'Epoch [{epoch+1}/{num_epochs}], Loss: {S:.4f}')\n",
    "        #run.log({\"loss\": loss})\n",
    "        s = []\n",
    "\n",
    "    if (epoch + 1) % 100 == 0:\n",
    "        torch.save(model.state_dict(), 'lstm_1_128')\n"
   ]
  },
  {
   "cell_type": "markdown",
   "metadata": {},
   "source": [
    "Инференс"
   ]
  },
  {
   "cell_type": "code",
   "execution_count": 14,
   "metadata": {},
   "outputs": [
    {
     "data": {
      "text/plain": [
       "LSTM(\n",
       "  (lstm): LSTM(1, 128, batch_first=True)\n",
       "  (fc): Linear(in_features=128, out_features=2, bias=True)\n",
       ")"
      ]
     },
     "execution_count": 14,
     "metadata": {},
     "output_type": "execute_result"
    }
   ],
   "source": [
    "model = LSTM(input_dim, hidden_dim, num_layers)\n",
    "model.load_state_dict(torch.load('lstm_1_128'))\n",
    "model.to('cpu')"
   ]
  },
  {
   "cell_type": "code",
   "execution_count": 15,
   "metadata": {},
   "outputs": [],
   "source": [
    "def gen_data(batch = 16):\n",
    "    X = torch.zeros(batch,t.size,1)\n",
    "    Y = torch.zeros(batch,2)\n",
    "    for i in range(batch):\n",
    "        a = torch.rand(1)*3 + 0.1\n",
    "        b = torch.rand(1)*4 + 0.2\n",
    "        #X[i,:,0] =  torch.tensor(t)\n",
    "        X[i,:,0] =  a*np.sin(b*t)\n",
    "        Y[i,0],Y[i,1] = a,b\n",
    "    return X,Y,a,b"
   ]
  },
  {
   "cell_type": "markdown",
   "metadata": {},
   "source": [
    "Проверка решения"
   ]
  },
  {
   "cell_type": "code",
   "execution_count": 17,
   "metadata": {},
   "outputs": [
    {
     "name": "stdout",
     "output_type": "stream",
     "text": [
      "tensor([1.2395]) tensor([2.5549]) tensor([[1.2502, 2.5577]])\n"
     ]
    }
   ],
   "source": [
    "x,y,a,b = gen_data(batch=1)\n",
    "output = model(x)\n",
    "output.detach_()\n",
    "print(a,b,output)"
   ]
  },
  {
   "cell_type": "markdown",
   "metadata": {},
   "source": [
    "Задача 2: авторегрессия"
   ]
  },
  {
   "cell_type": "markdown",
   "metadata": {},
   "source": [
    "Генерация данных"
   ]
  },
  {
   "cell_type": "code",
   "execution_count": 7,
   "metadata": {},
   "outputs": [],
   "source": [
    "\n",
    "def gen_data(batch = 16):\n",
    "    t = np.arange(0,torch.randint(3,15,(1,)),step=0.1)\n",
    "    X = torch.zeros(batch,t.size-1,1)\n",
    "    Y = torch.zeros(batch,t.size-1,1)\n",
    "    for i in range(batch):\n",
    "        a = torch.rand(1)*3 + 0.1\n",
    "        b = torch.rand(1)*4 + 0.2\n",
    "        #X[i,:,0] =  torch.tensor(t)\n",
    "        y = a*np.sin(b*t)\n",
    "        X[i,:,0] =  y[:-1]\n",
    "        Y[i,:,0] = y[1:]\n",
    "    return X,Y"
   ]
  },
  {
   "cell_type": "markdown",
   "metadata": {},
   "source": [
    "Нейросеть"
   ]
  },
  {
   "cell_type": "code",
   "execution_count": 19,
   "metadata": {},
   "outputs": [],
   "source": [
    "import torch.nn as nn\n",
    "class LSTM2(nn.Module):\n",
    "    def __init__(self, input_dim, hidden_dim, num_layers):\n",
    "        super(LSTM2, self).__init__()\n",
    "\n",
    "        self.hidden_dim = hidden_dim\n",
    "        self.num_layers = num_layers\n",
    "\n",
    "        \n",
    "        self.lstm = nn.LSTM(input_dim, hidden_dim, num_layers, batch_first=True)\n",
    "        self.fc = nn.Linear(hidden_dim,1)\n",
    "\n",
    "    def forward(self, x):\n",
    "        # Инициализация скрытого состояния LSTM слоёв\n",
    "        \n",
    "        h0 = torch.zeros(self.num_layers , x.size(0), self.hidden_dim).to(x.device)\n",
    "        c0 = torch.zeros(self.num_layers, x.size(0), self.hidden_dim).to(x.device)\n",
    "        \n",
    "        # Применение LSTM слоя\n",
    "        out, _ = self.lstm(x, (h0, c0))\n",
    "\n",
    "        out = self.fc(out)\n",
    "\n",
    "        return out"
   ]
  },
  {
   "cell_type": "code",
   "execution_count": 20,
   "metadata": {},
   "outputs": [],
   "source": [
    "input_dim = 1\n",
    "hidden_dim = 128\n",
    "num_layers = 1\n",
    "\n",
    "\n",
    "model = LSTM2(input_dim, hidden_dim, num_layers)\n",
    "\n",
    "device = torch.device(\"cpu\")\n",
    "model.to(device)\n",
    "#model.load_state_dict(torch.load('models/bilstm_1_128'))\n",
    "criterion = nn.MSELoss()\n",
    "optimizer = optim.Adam(model.parameters(), lr=0.001)"
   ]
  },
  {
   "cell_type": "code",
   "execution_count": 21,
   "metadata": {},
   "outputs": [
    {
     "name": "stdout",
     "output_type": "stream",
     "text": [
      "Epoch [50/1000], Loss: 0.7469\n",
      "Epoch [100/1000], Loss: 0.0580\n",
      "Epoch [150/1000], Loss: 0.0303\n",
      "Epoch [200/1000], Loss: 0.0166\n",
      "Epoch [250/1000], Loss: 0.0147\n",
      "Epoch [300/1000], Loss: 0.0111\n",
      "Epoch [350/1000], Loss: 0.0102\n",
      "Epoch [400/1000], Loss: 0.0081\n",
      "Epoch [450/1000], Loss: 0.0086\n",
      "Epoch [500/1000], Loss: 0.0071\n",
      "Epoch [550/1000], Loss: 0.0068\n",
      "Epoch [600/1000], Loss: 0.0076\n",
      "Epoch [650/1000], Loss: 0.0069\n",
      "Epoch [700/1000], Loss: 0.0059\n",
      "Epoch [750/1000], Loss: 0.0054\n",
      "Epoch [800/1000], Loss: 0.0054\n",
      "Epoch [850/1000], Loss: 0.0051\n",
      "Epoch [900/1000], Loss: 0.0041\n",
      "Epoch [950/1000], Loss: 0.0045\n",
      "Epoch [1000/1000], Loss: 0.0056\n"
     ]
    }
   ],
   "source": [
    "s = []\n",
    "num_epochs = 1000\n",
    "for epoch in range(num_epochs):\n",
    "    model.train()\n",
    "    optimizer.zero_grad()\n",
    "\n",
    "    x,y = gen_data(batch=32)\n",
    "    output = model(x.to(device))\n",
    "    \n",
    "    loss = criterion(output, y.to(device))  # Используем только первый измерение для задачи регрессии\n",
    "    loss.backward()\n",
    "    optimizer.step()\n",
    "    s.append(loss.detach().to('cpu'))\n",
    "    if (epoch + 1) % 50 == 0:\n",
    "       # print(f'Epoch [{epoch+1}/{num_epochs}], Loss: {loss.item():.4f}')\n",
    "        S = np.mean(s)\n",
    "        print(f'Epoch [{epoch+1}/{num_epochs}], Loss: {S:.4f}')\n",
    "        #run.log({\"loss\": loss})\n",
    "        s = []\n",
    "\n",
    "    if (epoch + 1) % 100 == 0:\n",
    "        torch.save(model.state_dict(), 'lstm_1_128')\n"
   ]
  },
  {
   "cell_type": "markdown",
   "metadata": {},
   "source": [
    "Инференс"
   ]
  },
  {
   "cell_type": "code",
   "execution_count": 28,
   "metadata": {},
   "outputs": [],
   "source": [
    "x,y = gen_data(batch = 1)\n",
    "output = model(x.to(device))"
   ]
  },
  {
   "cell_type": "code",
   "execution_count": 30,
   "metadata": {},
   "outputs": [],
   "source": [
    "y = y.squeeze(0)\n",
    "output = output.detach().squeeze(0)\n"
   ]
  },
  {
   "cell_type": "code",
   "execution_count": 31,
   "metadata": {},
   "outputs": [
    {
     "data": {
      "text/plain": [
       "[<matplotlib.lines.Line2D at 0x726fedbef730>]"
      ]
     },
     "execution_count": 31,
     "metadata": {},
     "output_type": "execute_result"
    },
    {
     "data": {
      "image/png": "[encoded data removed]",
      "text/plain": [
       "<Figure size 640x480 with 1 Axes>"
      ]
     },
     "metadata": {},
     "output_type": "display_data"
    }
   ],
   "source": [
    "plt.plot(y)\n",
    "plt.plot(output,'o')"
   ]
  },
  {
   "cell_type": "markdown",
   "metadata": {},
   "source": [
    "Ошибка предсказания"
   ]
  },
  {
   "cell_type": "code",
   "execution_count": 32,
   "metadata": {},
   "outputs": [
    {
     "data": {
      "text/plain": [
       "[<matplotlib.lines.Line2D at 0x726feda85540>]"
      ]
     },
     "execution_count": 32,
     "metadata": {},
     "output_type": "execute_result"
    },
    {
     "data": {
      "image/png": "[encoded data removed]",
      "text/plain": [
       "<Figure size 640x480 with 1 Axes>"
      ]
     },
     "metadata": {},
     "output_type": "display_data"
    }
   ],
   "source": [
    "plt.plot(y - output )\n"
   ]
  }
 ],
 "metadata": {
  "kernelspec": {
   "display_name": "deep",
   "language": "python",
   "name": "python3"
  },
  "language_info": {
   "codemirror_mode": {
    "name": "ipython",
    "version": 3
   },
   "file_extension": ".py",
   "mimetype": "text/x-python",
   "name": "python",
   "nbconvert_exporter": "python",
   "pygments_lexer": "ipython3",
   "version": "3.10.12"
  }
 },
 "nbformat": 4,
 "nbformat_minor": 2
}
