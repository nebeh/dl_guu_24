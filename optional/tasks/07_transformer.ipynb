{
 "cells": [
  {
   "cell_type": "markdown",
   "metadata": {},
   "source": [
    "### Задача (авторегрессия) \n",
    " предсказать следующие N = 30 значений временного ряда используя архитектуру трансформеров Encoder - Decoder\n",
    "\n",
    "1. Взять решение из папки solution/enc_dec_gru. Здесь схема решения на основе рекуррентных нейросетей\n",
    "2. Применить схему из пп1 изменив в файле  solution/transformer трансформера  \n",
    "2.1 добавить в архитектуру decoder  \n",
    "2.2 добавить в функцию forward алгоритм добавления данных (в половине случаев добавляем предсказание, в половине - реальное значение из таргета, см. файл enc_dec_gru)"
   ]
  },
  {
   "cell_type": "code",
   "execution_count": 1,
   "metadata": {},
   "outputs": [],
   "source": [
    "import torch\n",
    "import torch.nn as nn\n",
    "import numpy as np\n",
    "import matplotlib.pyplot as plt\n"
   ]
  },
  {
   "cell_type": "markdown",
   "metadata": {},
   "source": [
    "Функция для генерации данных временного ряда"
   ]
  },
  {
   "cell_type": "code",
   "execution_count": null,
   "metadata": {},
   "outputs": [],
   "source": [
    "def gen_data(batch = 16):\n",
    "    t = np.arange(0,torch.randint(5,15,(1,)),step=0.1)\n",
    "    X = torch.zeros(t.size-30,batch,1)\n",
    "    Y = torch.zeros(30,batch,1)\n",
    "    for i in range(batch):\n",
    "        a = torch.rand(1)*3 + 0.1\n",
    "        \n",
    "        b = torch.rand(1)*4 + 0.2\n",
    "        \n",
    "        #X[i,:,0] =  torch.tensor(t)\n",
    "        y = a*np.sin(b*t)\n",
    "        X[:,i,0] =  y[:-30]\n",
    "        Y[:,i,0] = y[-30:]\n",
    "    return X,Y"
   ]
  }
 ],
 "metadata": {
  "kernelspec": {
   "display_name": "deep",
   "language": "python",
   "name": "python3"
  },
  "language_info": {
   "codemirror_mode": {
    "name": "ipython",
    "version": 3
   },
   "file_extension": ".py",
   "mimetype": "text/x-python",
   "name": "python",
   "nbconvert_exporter": "python",
   "pygments_lexer": "ipython3",
   "version": "3.10.12"
  }
 },
 "nbformat": 4,
 "nbformat_minor": 2
}
