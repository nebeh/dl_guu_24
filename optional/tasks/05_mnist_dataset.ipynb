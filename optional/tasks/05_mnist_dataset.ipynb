{
 "cells": [
  {
   "cell_type": "markdown",
   "metadata": {},
   "source": [
    "### Написать свой пользовательский dataset используя наследование от torch.utils.data.Dataset"
   ]
  },
  {
   "cell_type": "markdown",
   "metadata": {},
   "source": [
    "Постановка.  \n",
    "В общем случае, в задачах ML, мы будем иметь базу данных и файл разметки базы данных (если это обучение с учителем). На пример, если мы решаем задачу детектирования объектов, то в файле разметки для каждого изображения должны содержаться:\n",
    "1. Название изображения\n",
    "2. коодринаты рамок (bounding boxes) для каждого объекта на изображении\n",
    "3. классы каждого изображения"
   ]
  },
  {
   "cell_type": "markdown",
   "metadata": {},
   "source": [
    "Для задачи MNIST мы имеем 10 папок классов (номера цифр). Так же, имеем файл разметки digitTrain.csv (digitTest.csv). Файлы разметки содержат названия файлов и классы (есть еще колонка - angle наклона цифры, она нам сейчас не нужна). Мы хотим решить задачу классификации. Необходимо написать класс, который наследует от Dataset, на вход принимает файл разметки, на выходе для заданного индекса выдает соответствующую картинку (в формате torch.tensor) и класс изображения (onehot вектор)"
   ]
  },
  {
   "cell_type": "code",
   "execution_count": 16,
   "metadata": {},
   "outputs": [],
   "source": [
    "import torch\n",
    "import pandas as pd\n",
    "import matplotlib.pyplot as plt\n",
    "from torch.utils.data import Dataset, DataLoader"
   ]
  },
  {
   "cell_type": "code",
   "execution_count": 4,
   "metadata": {},
   "outputs": [
    {
     "data": {
      "text/html": [
       "<div>\n",
       "<style scoped>\n",
       "    .dataframe tbody tr th:only-of-type {\n",
       "        vertical-align: middle;\n",
       "    }\n",
       "\n",
       "    .dataframe tbody tr th {\n",
       "        vertical-align: top;\n",
       "    }\n",
       "\n",
       "    .dataframe thead th {\n",
       "        text-align: right;\n",
       "    }\n",
       "</style>\n",
       "<table border=\"1\" class=\"dataframe\">\n",
       "  <thead>\n",
       "    <tr style=\"text-align: right;\">\n",
       "      <th></th>\n",
       "      <th>image</th>\n",
       "      <th>digit</th>\n",
       "      <th>angle</th>\n",
       "    </tr>\n",
       "  </thead>\n",
       "  <tbody>\n",
       "    <tr>\n",
       "      <th>0</th>\n",
       "      <td>image2119.png</td>\n",
       "      <td>3</td>\n",
       "      <td>-42</td>\n",
       "    </tr>\n",
       "    <tr>\n",
       "      <th>1</th>\n",
       "      <td>image2593.png</td>\n",
       "      <td>3</td>\n",
       "      <td>-15</td>\n",
       "    </tr>\n",
       "    <tr>\n",
       "      <th>2</th>\n",
       "      <td>image6703.png</td>\n",
       "      <td>7</td>\n",
       "      <td>-24</td>\n",
       "    </tr>\n",
       "    <tr>\n",
       "      <th>3</th>\n",
       "      <td>image6950.png</td>\n",
       "      <td>7</td>\n",
       "      <td>-44</td>\n",
       "    </tr>\n",
       "    <tr>\n",
       "      <th>4</th>\n",
       "      <td>image6462.png</td>\n",
       "      <td>7</td>\n",
       "      <td>13</td>\n",
       "    </tr>\n",
       "    <tr>\n",
       "      <th>...</th>\n",
       "      <td>...</td>\n",
       "      <td>...</td>\n",
       "      <td>...</td>\n",
       "    </tr>\n",
       "    <tr>\n",
       "      <th>4995</th>\n",
       "      <td>image7095.png</td>\n",
       "      <td>8</td>\n",
       "      <td>8</td>\n",
       "    </tr>\n",
       "    <tr>\n",
       "      <th>4996</th>\n",
       "      <td>image8253.png</td>\n",
       "      <td>9</td>\n",
       "      <td>39</td>\n",
       "    </tr>\n",
       "    <tr>\n",
       "      <th>4997</th>\n",
       "      <td>image7114.png</td>\n",
       "      <td>8</td>\n",
       "      <td>25</td>\n",
       "    </tr>\n",
       "    <tr>\n",
       "      <th>4998</th>\n",
       "      <td>image8841.png</td>\n",
       "      <td>9</td>\n",
       "      <td>33</td>\n",
       "    </tr>\n",
       "    <tr>\n",
       "      <th>4999</th>\n",
       "      <td>image2646.png</td>\n",
       "      <td>3</td>\n",
       "      <td>27</td>\n",
       "    </tr>\n",
       "  </tbody>\n",
       "</table>\n",
       "<p>5000 rows × 3 columns</p>\n",
       "</div>"
      ],
      "text/plain": [
       "              image  digit  angle\n",
       "0     image2119.png      3    -42\n",
       "1     image2593.png      3    -15\n",
       "2     image6703.png      7    -24\n",
       "3     image6950.png      7    -44\n",
       "4     image6462.png      7     13\n",
       "...             ...    ...    ...\n",
       "4995  image7095.png      8      8\n",
       "4996  image8253.png      9     39\n",
       "4997  image7114.png      8     25\n",
       "4998  image8841.png      9     33\n",
       "4999  image2646.png      3     27\n",
       "\n",
       "[5000 rows x 3 columns]"
      ]
     },
     "execution_count": 4,
     "metadata": {},
     "output_type": "execute_result"
    }
   ],
   "source": [
    "df = pd.read_csv('DigitDataset/digitTrain.csv')\n",
    "df_test = pd.read_csv('DigitDataset/digitTest.csv')\n",
    "df"
   ]
  },
  {
   "cell_type": "markdown",
   "metadata": {},
   "source": [
    "Сделаем то что нам необходимо без использования классов для произвольного idx, например = 2"
   ]
  },
  {
   "cell_type": "code",
   "execution_count": 5,
   "metadata": {},
   "outputs": [],
   "source": [
    "idx = 2\n",
    "image = plt.imread('DigitDataset/'+str(df.digit[idx])+'/'+df.image[idx])\n",
    "image.shape\n"
   ]
  },
  {
   "cell_type": "markdown",
   "metadata": {},
   "source": [
    "Необходимо преобразовать данные в тип torch.tensor"
   ]
  },
  {
   "cell_type": "code",
   "execution_count": 6,
   "metadata": {},
   "outputs": [
    {
     "name": "stdout",
     "output_type": "stream",
     "text": [
      "torch.Size([28, 28])\n"
     ]
    }
   ],
   "source": [
    "image = torch.tensor(image)\n",
    "print(image.shape)"
   ]
  },
  {
   "cell_type": "markdown",
   "metadata": {},
   "source": [
    "Мы получили картинку размера 28х28. Torch требует, чтобы формат изображения был CxHxW (канал, высота, ширина)"
   ]
  },
  {
   "cell_type": "code",
   "execution_count": 7,
   "metadata": {},
   "outputs": [
    {
     "data": {
      "text/plain": [
       "torch.Size([1, 28, 28])"
      ]
     },
     "execution_count": 7,
     "metadata": {},
     "output_type": "execute_result"
    }
   ],
   "source": [
    "image = image.unsqueeze(0)\n",
    "image.shape"
   ]
  },
  {
   "cell_type": "markdown",
   "metadata": {},
   "source": [
    "Метку класса необходимо преобразовать к onehot вектору"
   ]
  },
  {
   "cell_type": "code",
   "execution_count": 19,
   "metadata": {},
   "outputs": [
    {
     "name": "stdout",
     "output_type": "stream",
     "text": [
      "tensor([0., 0., 0., 0., 0., 0., 0., 1., 0., 0.]) 7\n"
     ]
    }
   ],
   "source": [
    "labels = torch.zeros(10)\n",
    "labels[int(df.digit[idx])] = 1\n",
    "print(labels,int(df.digit[idx]))"
   ]
  },
  {
   "cell_type": "markdown",
   "metadata": {},
   "source": [
    "Теперь организуем через класс imgDataset"
   ]
  },
  {
   "cell_type": "code",
   "execution_count": 8,
   "metadata": {},
   "outputs": [],
   "source": [
    "\n",
    "class imgDataset(Dataset):\n",
    "    def __init__(self,df):\n",
    "        self.df = df\n",
    "        \n",
    "    def __len__(self):\n",
    "        # your code\n",
    "        return # количество элементов исходного датасета\n",
    "    \n",
    "    def __getitem__(self,idx):\n",
    "        \n",
    "        # your code\n",
    "        \n",
    "            \n",
    "        return {\"image\": image, \"label\": labels} \n",
    "    \n",
    "\n",
    "dataset = imgDataset(df)\n",
    "test_dataset = imgDataset(df_test)"
   ]
  },
  {
   "cell_type": "markdown",
   "metadata": {},
   "source": [
    "Сделайте проверку, того, что выход будет правильным  \n",
    "Проверка:"
   ]
  },
  {
   "cell_type": "code",
   "execution_count": null,
   "metadata": {},
   "outputs": [],
   "source": [
    "data = next(iter(dataset)) # получили один экземпляр данных (картинка в виде тензора размером 1x28x28 и метка - тензор размером 10)\n",
    "X = data['image']\n",
    "Y = data['label']"
   ]
  },
  {
   "cell_type": "markdown",
   "metadata": {},
   "source": [
    "Dataloader"
   ]
  },
  {
   "cell_type": "code",
   "execution_count": 10,
   "metadata": {},
   "outputs": [],
   "source": [
    "data_load = DataLoader(dataset,batch_size=32, shuffle=True, pin_memory=True) \n",
    "data_load_test = DataLoader(test_dataset,batch_size=len(test_dataset))"
   ]
  }
 ],
 "metadata": {
  "kernelspec": {
   "display_name": "deep",
   "language": "python",
   "name": "python3"
  },
  "language_info": {
   "codemirror_mode": {
    "name": "ipython",
    "version": 3
   },
   "file_extension": ".py",
   "mimetype": "text/x-python",
   "name": "python",
   "nbconvert_exporter": "python",
   "pygments_lexer": "ipython3",
   "version": "3.10.12"
  }
 },
 "nbformat": 4,
 "nbformat_minor": 2
}
