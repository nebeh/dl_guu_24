{
 "cells": [
  {
   "cell_type": "markdown",
   "metadata": {},
   "source": [
    "## Последовательности"
   ]
  },
  {
   "cell_type": "code",
   "execution_count": null,
   "metadata": {},
   "outputs": [],
   "source": [
    "import torch\n",
    "import numpy as np \n",
    "import matplotlib.pyplot as plt\n",
    "import torch.optim as optim\n",
    "import torch.nn as nn\n"
   ]
  },
  {
   "cell_type": "markdown",
   "metadata": {},
   "source": [
    "На вход задан временной ряд $ y = A sin(b*x) $  \n",
    "### Задача 1 (регрессия):  \n",
    "По значениям временного ряда предсказать параметры $A$ и $b$  \n",
    "### Зачада 2 (авторегрессия):\n",
    "По значениям временного ряда предсказать следующее значение\n"
   ]
  },
  {
   "cell_type": "markdown",
   "metadata": {},
   "source": [
    "Генерация данных: подзадача. Переписать функцию gen_data() так, чтобы она возвращала batch данных в формате torch.tensor"
   ]
  },
  {
   "cell_type": "code",
   "execution_count": null,
   "metadata": {},
   "outputs": [],
   "source": [
    "x = np.arange(0,10,step=0.1)\n",
    "def gen_data():\n",
    "    a = np.random.uniform(0.1,3)\n",
    "    b = np.random.uniform(0.2,4)\n",
    "    return a*np.sin(b*x)"
   ]
  },
  {
   "cell_type": "code",
   "execution_count": null,
   "metadata": {},
   "outputs": [],
   "source": [
    "plt.plot(x,gen_data())\n"
   ]
  },
  {
   "cell_type": "markdown",
   "metadata": {},
   "source": [
    "Нейросеть"
   ]
  },
  {
   "cell_type": "code",
   "execution_count": null,
   "metadata": {},
   "outputs": [],
   "source": [
    "\n",
    "class LSTM(nn.Module):\n",
    "    def __init__(self, input_dim, hidden_dim, num_layers):\n",
    "        super(LSTM, self).__init__()\n",
    "\n",
    "        self.hidden_dim = hidden_dim\n",
    "        self.num_layers = num_layers\n",
    "\n",
    "        \n",
    "        self.lstm = nn.LSTM(input_dim, hidden_dim, num_layers, batch_first=True)\n",
    "        # your code\n",
    "        # =========================\n",
    "        # self.fc = \n",
    "        # =========================\n",
    "    def forward(self, x):\n",
    "        # Инициализация скрытого состояния LSTM слоёв\n",
    "        \n",
    "        h0 = torch.zeros(self.num_layers , x.size(0), self.hidden_dim).to(x.device)\n",
    "        c0 = torch.zeros(self.num_layers, x.size(0), self.hidden_dim).to(x.device)\n",
    "        \n",
    "        # Применение LSTM слоя\n",
    "        # your code\n",
    "        # ============================================\n",
    "\n",
    "        return out"
   ]
  },
  {
   "cell_type": "markdown",
   "metadata": {},
   "source": [
    "Сборка с батч  \n",
    "Амплитуда и \n",
    "a = torch.rand(1)*3 + 0.1\n",
    "b = torch.rand(1)*4 + 0.2"
   ]
  },
  {
   "cell_type": "code",
   "execution_count": null,
   "metadata": {},
   "outputs": [],
   "source": [
    "\n",
    "def gen_data(batch = 16):\n",
    "    # создаем вектор случайной длины\n",
    "    t = np.arange(0,torch.randint(3,15,(1,)),step=0.1)\n",
    "    # your code:\n",
    "    # 1. Создать тензоры X,Y (input, output) соответствующего размера\n",
    "    # 2. В цикле, для каждого элемента батча заполнить X,Y\n",
    "\n",
    "    for i in range(batch):\n",
    "        \n",
    "        #X[??] =  \n",
    "        # Y[??] = \n",
    "    return X,Y"
   ]
  },
  {
   "cell_type": "code",
   "execution_count": null,
   "metadata": {},
   "outputs": [],
   "source": [
    "input_dim = 1\n",
    "hidden_dim = 128\n",
    "num_layers = 1\n",
    "\n",
    "\n",
    "model = LSTM(input_dim, hidden_dim, num_layers)\n",
    "\n",
    "device = torch.device(\"cuda:0\")\n",
    "model.to(device)\n",
    "#model.load_state_dict(torch.load('models/bilstm_1_128'))\n",
    "criterion = nn.MSELoss()\n",
    "optimizer = optim.Adam(model.parameters(), lr=0.001)\n",
    "\n",
    "output = model(x.to(device))\n"
   ]
  },
  {
   "cell_type": "code",
   "execution_count": null,
   "metadata": {},
   "outputs": [],
   "source": [
    "\n",
    "# Обучение модели\n",
    "s = []\n",
    "num_epochs = 10000\n",
    "for epoch in range(num_epochs):\n",
    "    model.train()\n",
    "    optimizer.zero_grad()\n",
    "\n",
    "    x,y = gen_data(batch=32)\n",
    "    output = model(x.to(device))\n",
    "    \n",
    "    loss = criterion(output, y.to(device))  \n",
    "    loss.backward()\n",
    "    optimizer.step()\n",
    "    s.append(loss.detach().to('cpu'))\n",
    "    if (epoch + 1) % 50 == 0:\n",
    "        S = np.mean(s)\n",
    "        print(f'Epoch [{epoch+1}/{num_epochs}], Loss: {S:.4f}')\n",
    "        s = []\n",
    "\n",
    "    if (epoch + 1) % 100 == 0:\n",
    "        torch.save(model.state_dict(), 'lstm_1_128')\n"
   ]
  },
  {
   "cell_type": "code",
   "execution_count": null,
   "metadata": {},
   "outputs": [],
   "source": [
    "model = LSTM(input_dim, hidden_dim, num_layers)\n",
    "model.load_state_dict(torch.load('lstm_1_128'))\n",
    "model.to('cpu')"
   ]
  },
  {
   "cell_type": "code",
   "execution_count": null,
   "metadata": {},
   "outputs": [],
   "source": [
    "x,y,a,b = gen_data(batch=1)\n",
    "output = model(x)\n",
    "output.detach_()\n",
    "print(a,b,output)"
   ]
  },
  {
   "cell_type": "markdown",
   "metadata": {},
   "source": [
    "### Задача 2"
   ]
  },
  {
   "cell_type": "code",
   "execution_count": null,
   "metadata": {},
   "outputs": [],
   "source": [
    "class LSTM(nn.Module):\n",
    "    def __init__(self, input_dim, hidden_dim, num_layers):\n",
    "        super(LSTM, self).__init__()\n",
    "\n",
    "        self.hidden_dim = hidden_dim\n",
    "        self.num_layers = num_layers\n",
    "\n",
    "        \n",
    "        self.lstm = nn.LSTM(input_dim, hidden_dim, num_layers, batch_first=True)\n",
    "\n",
    "        # your code\n",
    "        # self.fc = nn.Linear\n",
    "\n",
    "    def forward(self, x):\n",
    "        # Инициализация скрытого состояния LSTM слоёв\n",
    "        \n",
    "        h0 = torch.zeros(self.num_layers , x.size(0), self.hidden_dim).to(x.device)\n",
    "        c0 = torch.zeros(self.num_layers, x.size(0), self.hidden_dim).to(x.device)\n",
    "        \n",
    "        # Применение LSTM слоя\n",
    "        # your code\n",
    "\n",
    "        return out"
   ]
  },
  {
   "cell_type": "markdown",
   "metadata": {},
   "source": [
    "Взять функцию gen_data() из задачи 1 и переписать ее под новые условия"
   ]
  },
  {
   "cell_type": "code",
   "execution_count": null,
   "metadata": {},
   "outputs": [],
   "source": [
    "\n",
    "\n",
    "def gen_data(batch = 16):\n",
    "    t = np.arange(0,torch.randint(3,15,(1,)),step=0.1)\n",
    "    # your code\n",
    "    \n",
    "    for i in range(batch):\n",
    "        \n",
    "        #X[&&] =  \n",
    "        # Y[??] =  \n",
    "    return X,Y"
   ]
  },
  {
   "cell_type": "code",
   "execution_count": null,
   "metadata": {},
   "outputs": [],
   "source": [
    "input_dim = 1\n",
    "hidden_dim = 128\n",
    "num_layers = 1\n",
    "\n",
    "\n",
    "model_seq = LSTM(input_dim, hidden_dim, num_layers)\n",
    "\n",
    "device = torch.device(\"cuda:0\")\n",
    "model_seq.to(device)\n",
    "criterion = nn.MSELoss()\n",
    "optimizer = optim.Adam(model_seq.parameters(), lr=0.01)"
   ]
  },
  {
   "cell_type": "code",
   "execution_count": null,
   "metadata": {},
   "outputs": [],
   "source": [
    "\n",
    "s = []\n",
    "num_epochs = 10000\n",
    "for epoch in range(num_epochs):\n",
    "    model.train()\n",
    "    optimizer.zero_grad()\n",
    "\n",
    "    x,y = gen_data(batch=32)\n",
    "    output = model_seq(x.to(device))\n",
    "    \n",
    "    loss = criterion(output, y.to(device))  # Используем только первый измерение для задачи регрессии\n",
    "    loss.backward()\n",
    "    optimizer.step()\n",
    "    s.append(loss.detach().to('cpu'))\n",
    "    if (epoch + 1) % 50 == 0:\n",
    "        S = np.mean(s)\n",
    "        print(f'Epoch [{epoch+1}/{num_epochs}], Loss: {S:.4f}')\n",
    "    \n",
    "        s = []\n",
    "\n",
    "    #if (epoch + 1) % 100 == 0:\n",
    "        #torch.save(model.state_dict(), 'lstm_1_128')"
   ]
  },
  {
   "cell_type": "code",
   "execution_count": null,
   "metadata": {},
   "outputs": [],
   "source": [
    "x,y = gen_data(batch=1)"
   ]
  },
  {
   "cell_type": "code",
   "execution_count": null,
   "metadata": {},
   "outputs": [],
   "source": [
    "t = model_seq(x.to(device))\n",
    "t.shape"
   ]
  },
  {
   "cell_type": "code",
   "execution_count": null,
   "metadata": {},
   "outputs": [],
   "source": [
    "plt.plot(t.detach().squeeze_().to('cpu'))\n",
    "plt.plot(y.squeeze_().to('cpu'))"
   ]
  }
 ],
 "metadata": {
  "kernelspec": {
   "display_name": "deep",
   "language": "python",
   "name": "python3"
  },
  "language_info": {
   "codemirror_mode": {
    "name": "ipython",
    "version": 3
   },
   "file_extension": ".py",
   "mimetype": "text/x-python",
   "name": "python",
   "nbconvert_exporter": "python",
   "pygments_lexer": "ipython3",
   "version": "3.11.8"
  }
 },
 "nbformat": 4,
 "nbformat_minor": 2
}
