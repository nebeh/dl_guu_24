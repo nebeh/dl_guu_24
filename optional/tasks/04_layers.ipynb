{
 "cells": [
  {
   "cell_type": "code",
   "execution_count": 1,
   "metadata": {},
   "outputs": [],
   "source": [
    "import torch\n",
    "import numpy as np "
   ]
  },
  {
   "cell_type": "markdown",
   "metadata": {},
   "source": [
    "### Задача 1\n",
    "На вход идет изображение 28х28. Применить свертку так, чтобы в результате получить 5 карт характеристик размером\n",
    "- 28х28\n",
    "- 26х26\n",
    "- 14х14"
   ]
  },
  {
   "cell_type": "code",
   "execution_count": 2,
   "metadata": {},
   "outputs": [],
   "source": [
    "t = torch.randn(1,1,28,28)"
   ]
  },
  {
   "cell_type": "markdown",
   "metadata": {},
   "source": [
    "### Задача 2\n",
    "На вход идет изображение 28х28. Реализовать следующую архитектуру: входное изображение разбивается на 3 потока. \n",
    "- Первый поток обрабатывается 4-я свертками 1х1, polling с шагом 2\n",
    "- Второй поток обрабатывается 3-я свертками 3х3, polling с шагом 2\n",
    "- Третий поток обрабатывается 2-я свертками 5х5, polling с шагом 2\n",
    "\n",
    "Выходы потоков необходимо конкатенировать (объединить) и получить 9 карт характеристик"
   ]
  },
  {
   "cell_type": "code",
   "execution_count": null,
   "metadata": {},
   "outputs": [],
   "source": []
  },
  {
   "cell_type": "markdown",
   "metadata": {},
   "source": [
    "### Задача 3\n",
    "На вход идет изображение 28х28. Реализовать следующую архитектуру: входное изображение разбивается на 3 потока. \n",
    "- Первый поток обрабатывается 4-я свертками 1х1, polling с шагом 2\n",
    "- Второй поток обрабатывается 3-я свертками 3х3, polling с шагом 2\n",
    "- Третий поток обрабатывается 2-я свертками 5х5, polling с шагом 2\n",
    "\n",
    " Организовать каждый поток в виде блока  sequential. Выходы потоков необходимо конкатенировать (объединить) и получить 9 карт характеристик"
   ]
  },
  {
   "cell_type": "code",
   "execution_count": null,
   "metadata": {},
   "outputs": [],
   "source": []
  },
  {
   "cell_type": "markdown",
   "metadata": {},
   "source": [
    "### Задача 4\n",
    "На вход идет изображение 28х28. Реализовать следующую архитектуру: входное изображение разбивается на 3 потока. \n",
    "- Первый поток обрабатывается 4-я свертками 1х1, polling с шагом 2\n",
    "- Второй поток обрабатывается 3-я свертками 3х3, polling с шагом 2\n",
    "- Третий поток обрабатывается 2-я свертками 5х5, polling с шагом 2\n",
    "\n",
    " Организовать каждый поток в виде блока  sequential. Выходы потоков необходимо конкатенировать (объединить) и получить 9 карт характеристик.\n",
    " - Применить к результату нелинейность ReLU\n",
    " - Выход ReLU подать на полносвязный слой, на выходе которого 10 значений (10 классов)"
   ]
  },
  {
   "cell_type": "code",
   "execution_count": null,
   "metadata": {},
   "outputs": [],
   "source": []
  },
  {
   "cell_type": "markdown",
   "metadata": {},
   "source": [
    "### Задача 5\n",
    "Организовать задачу 4 используя классы (наследуя от nn.Module)"
   ]
  },
  {
   "cell_type": "code",
   "execution_count": null,
   "metadata": {},
   "outputs": [],
   "source": [
    "class convNet(torch.nn.Module):\n",
    "    def __init__(self):\n",
    "        super(convNet,self).__init__()\n",
    "        # your code\n",
    "    def forward(self,x):\n",
    "        # your code\n",
    "        return x\n"
   ]
  }
 ],
 "metadata": {
  "kernelspec": {
   "display_name": "deep",
   "language": "python",
   "name": "python3"
  },
  "language_info": {
   "codemirror_mode": {
    "name": "ipython",
    "version": 3
   },
   "file_extension": ".py",
   "mimetype": "text/x-python",
   "name": "python",
   "nbconvert_exporter": "python",
   "pygments_lexer": "ipython3",
   "version": "3.10.12"
  }
 },
 "nbformat": 4,
 "nbformat_minor": 2
}
