{
 "cells": [
  {
   "cell_type": "code",
   "execution_count": 2,
   "metadata": {},
   "outputs": [],
   "source": [
    "import numpy as np"
   ]
  },
  {
   "cell_type": "markdown",
   "metadata": {},
   "source": [
    "Найти значение параметра $w$ минимизируеюшего зависимость\n",
    "$$ y = w*x$$\n",
    "Где $y$ и $x$ - константы"
   ]
  },
  {
   "cell_type": "markdown",
   "metadata": {},
   "source": [
    "Алгоритм:\n",
    "1. выписываем функцию ошибки: $Loss = (y - w*x)^2$\n",
    "2. находим градиент функции $Loss$:  $ \\nabla_w Loss = -2(y-w*x)x$\n",
    "3. задаем начальное значение параметра $w$\n",
    "4. в цикле обновляем градиент $ w = w - \\eta\\nabla_w Loss$"
   ]
  },
  {
   "cell_type": "markdown",
   "metadata": {},
   "source": [
    "Градиентный спуск numpy"
   ]
  },
  {
   "cell_type": "code",
   "execution_count": 7,
   "metadata": {},
   "outputs": [
    {
     "name": "stdout",
     "output_type": "stream",
     "text": [
      "0.11487999999999993\n",
      "0.4049161216000001\n",
      "0.30987708527411195\n",
      "0.3410194766973789\n",
      "0.3308147378758028\n",
      "0.33415862669285695\n",
      "0.33306290120528476\n",
      "0.3334219485330524\n",
      "0.3333042959046895\n",
      "0.33334284831795136\n",
      "0.3333302154631737\n",
      "0.33333435499702724\n",
      "Количество итераций = 64\n"
     ]
    }
   ],
   "source": [
    "y = 1\n",
    "x = 3\n",
    "w = np.array(1) # начальное значение параметра w\n",
    "loss = (y - w*x)**2 # функция ошибки\n",
    "grad_w = lambda w: -2*(y - w*x)*x\n",
    "\n",
    "eps = 10**-6\n",
    "i=0\n",
    "while True & i<1000:\n",
    "    i += 1\n",
    "    w1 = w - 0.1*grad_w(w)\n",
    "    if np.abs(w1-w)<eps:\n",
    "        print('Количество итераций =',i)\n",
    "        break\n",
    "    w = w1\n",
    "    if i%5 == 0:\n",
    "        print(w)"
   ]
  },
  {
   "cell_type": "code",
   "execution_count": 6,
   "metadata": {},
   "outputs": [
    {
     "name": "stdout",
     "output_type": "stream",
     "text": [
      "2.462625387195531e-12\n"
     ]
    }
   ],
   "source": [
    "# loss\n",
    "print((y - w*x)**2)"
   ]
  },
  {
   "cell_type": "markdown",
   "metadata": {},
   "source": [
    "Градиентный спуск torch"
   ]
  },
  {
   "cell_type": "code",
   "execution_count": 33,
   "metadata": {},
   "outputs": [],
   "source": [
    "y = 2\n",
    "x = 1\n",
    "w = torch.tensor(0.1, requires_grad=True) # здесь если задать целое число, при расчете градиента torch выдаст ошибку"
   ]
  },
  {
   "cell_type": "markdown",
   "metadata": {},
   "source": [
    "При использовании torch задача упрощается тем, что фреймворк посчитает градиент. Для нашего игрушечного примера не совсем очевидно преимущество, но для обучения нейросетей это подход, как увидим в будущем, будет очень удобным "
   ]
  },
  {
   "cell_type": "code",
   "execution_count": 24,
   "metadata": {},
   "outputs": [
    {
     "name": "stdout",
     "output_type": "stream",
     "text": [
      "tensor(0.4800, requires_grad=True) tensor(-3.8000)\n",
      "tensor(0.7840, requires_grad=True) tensor(-3.0400)\n",
      "tensor(1.0272, requires_grad=True) tensor(-2.4320)\n",
      "tensor(1.2218, requires_grad=True) tensor(-1.9456)\n",
      "tensor(1.3774, requires_grad=True) tensor(-1.5565)\n",
      "tensor(1.5019, requires_grad=True) tensor(-1.2452)\n",
      "tensor(1.6015, requires_grad=True) tensor(-0.9961)\n",
      "tensor(1.6812, requires_grad=True) tensor(-0.7969)\n",
      "tensor(1.7450, requires_grad=True) tensor(-0.6375)\n",
      "tensor(1.7960, requires_grad=True) tensor(-0.5100)\n",
      "tensor(1.8368, requires_grad=True) tensor(-0.4080)\n",
      "tensor(1.8694, requires_grad=True) tensor(-0.3264)\n",
      "tensor(1.8955, requires_grad=True) tensor(-0.2611)\n",
      "tensor(1.9164, requires_grad=True) tensor(-0.2089)\n",
      "tensor(1.9331, requires_grad=True) tensor(-0.1671)\n",
      "tensor(1.9465, requires_grad=True) tensor(-0.1337)\n",
      "tensor(1.9572, requires_grad=True) tensor(-0.1070)\n",
      "tensor(1.9658, requires_grad=True) tensor(-0.0856)\n",
      "tensor(1.9726, requires_grad=True) tensor(-0.0685)\n",
      "tensor(1.9781, requires_grad=True) tensor(-0.0548)\n",
      "tensor(1.9825, requires_grad=True) tensor(-0.0438)\n",
      "tensor(1.9860, requires_grad=True) tensor(-0.0350)\n",
      "tensor(1.9888, requires_grad=True) tensor(-0.0280)\n",
      "tensor(1.9910, requires_grad=True) tensor(-0.0224)\n",
      "tensor(1.9928, requires_grad=True) tensor(-0.0179)\n",
      "tensor(1.9943, requires_grad=True) tensor(-0.0144)\n",
      "tensor(1.9954, requires_grad=True) tensor(-0.0115)\n",
      "tensor(1.9963, requires_grad=True) tensor(-0.0092)\n",
      "tensor(1.9971, requires_grad=True) tensor(-0.0074)\n",
      "tensor(1.9976, requires_grad=True) tensor(-0.0059)\n"
     ]
    }
   ],
   "source": [
    "import torch\n",
    "x = 1\n",
    "y = 2\n",
    "\n",
    "w = torch.tensor(0.1,requires_grad=True)\n",
    "\n",
    "for i in range(30):\n",
    "  loss = (y - x*w)**2\n",
    "  loss.backward()\n",
    "  with torch.no_grad():\n",
    "    w -= 0.1*w.grad\n",
    "    print(w,w.grad)\n",
    "  w.grad.zero_()"
   ]
  },
  {
   "cell_type": "markdown",
   "metadata": {},
   "source": [
    "### Задача 1\n",
    "Найти решение нелинейного уравнения\n",
    "$$ sin(x) + e^x - 1 = 0 $$"
   ]
  },
  {
   "cell_type": "code",
   "execution_count": null,
   "metadata": {},
   "outputs": [],
   "source": [
    "target = 0\n",
    "x = torch.tensor(1.,requires_grad=True) # начальная точка "
   ]
  },
  {
   "cell_type": "markdown",
   "metadata": {},
   "source": [
    "### Задача 2\n",
    "Найти коэффициенты $a$ и $b$ линейной регрессии\n",
    "$$ y = ax + b$$"
   ]
  },
  {
   "cell_type": "code",
   "execution_count": null,
   "metadata": {},
   "outputs": [],
   "source": [
    "x = torch.arange(0,1,0.1)\n",
    "y = 2*x + 1 + torch.randn(x.shape)/3"
   ]
  },
  {
   "cell_type": "code",
   "execution_count": null,
   "metadata": {},
   "outputs": [
    {
     "data": {
      "text/plain": [
       "[<matplotlib.lines.Line2D at 0x7f6d2498f700>]"
      ]
     },
     "execution_count": 123,
     "metadata": {},
     "output_type": "execute_result"
    },
    {
     "data": {
      "image/png": "[encoded data removed]",
      "text/plain": [
       "<Figure size 640x480 with 1 Axes>"
      ]
     },
     "metadata": {},
     "output_type": "display_data"
    }
   ],
   "source": [
    "import matplotlib.pyplot as plt\n",
    "plt.plot(x,y,'o')"
   ]
  }
 ],
 "metadata": {
  "kernelspec": {
   "display_name": "deep",
   "language": "python",
   "name": "python3"
  },
  "language_info": {
   "codemirror_mode": {
    "name": "ipython",
    "version": 3
   },
   "file_extension": ".py",
   "mimetype": "text/x-python",
   "name": "python",
   "nbconvert_exporter": "python",
   "pygments_lexer": "ipython3",
   "version": "3.10.12"
  }
 },
 "nbformat": 4,
 "nbformat_minor": 2
}
